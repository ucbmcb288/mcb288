{
 "cells": [
  {
   "cell_type": "code",
   "execution_count": 5,
   "metadata": {},
   "outputs": [],
   "source": [
    "import scipy\n",
    "from scipy.integrate import solve_ivp\n",
    "import numpy as np\n",
    "import matplotlib.pyplot as plt\n",
    "import pandas as pd"
   ]
  },
  {
   "cell_type": "markdown",
   "metadata": {},
   "source": [
    "## SIR Models\n",
    "\n",
    "The simplest model of an infectious disease considers the transition of members of a population between three states:\n",
    "\n",
    "Susceptible (S) - people who have never been infected\n",
    "Infected (I) - people who have an active, transmissible infection\n",
    "Recovered (R) - people who have recovered from the infection and, because of immunity, can not be infected again\n",
    "\n",
    "Models of with these three states are called \"SIR\" models. In SIR models $S + I + R = N$, where $N$ is the size of population.\n",
    "\n",
    "SIR models have only two parameters:\n",
    "\n",
    "$R_0$ - the number of people an infected individual would infect over the course of their infection if everyone else were susceptible (you can also think of this as the number of people an infected individual exposes to infection).\n",
    "\n",
    "$T_i$ - the time an infected individual remains infectious\n",
    "\n",
    "We can describe the behavior of this system with a set of differential equations:\n",
    "\n",
    "${\\large {{dS}\\over{dt}}=-I{R_0\\over{T_i}}{S\\over{N}}}$ \n",
    "\n",
    "${\\large {{dI}\\over{dt}}=I{R_0\\over{T_i}}{S\\over{N}}-{1\\over{T_i}}}$\n",
    "\n",
    "${\\large {{dR}\\over{dt}}={1\\over{T_i}}}$"
   ]
  },
  {
   "cell_type": "markdown",
   "metadata": {},
   "source": [
    "## How do we solve this?"
   ]
  },
  {
   "cell_type": "code",
   "execution_count": 6,
   "metadata": {},
   "outputs": [],
   "source": [
    "def SIR_model(t,p,params):\n",
    "\n",
    "    # p is a vector of the current population states \n",
    "\n",
    "    (S,I,R) = p\n",
    "\n",
    "    # N is population size\n",
    "    \n",
    "    N = np.sum(p)\n",
    "    \n",
    "    # get these from parameter vector for convenience\n",
    "\n",
    "    R0 = params['R0'] \n",
    "    Ti = params['Ti']\n",
    "    \n",
    "    # instantaneous rate of new infections\n",
    "    \n",
    "    beta = R0 / Ti\n",
    "    \n",
    "    # define rates of state shifts\n",
    "    \n",
    "    # rate of S to I \n",
    "    rSI = I * beta * (S/N) \n",
    "    \n",
    "    # rate of I to R\n",
    "    rIR = I * (1/Ti)\n",
    "    \n",
    "    dS = -rSI\n",
    "    dI = rSI - rIR \n",
    "    dR = rIR\n",
    "\n",
    "    retvals = [dS,dI,dR]\n",
    "    \n",
    "    return(retvals)"
   ]
  },
  {
   "cell_type": "code",
   "execution_count": 18,
   "metadata": {},
   "outputs": [],
   "source": [
    "# population size\n",
    "\n",
    "N = 320000000.0\n",
    "\n",
    "# initial population with 1 infected individual\n",
    "\n",
    "p0 = [N-1,1,0]\n",
    "\n",
    "# time frame to examine\n",
    "# in daus\n",
    "\n",
    "params = {}\n",
    "\n",
    "params['R0'] = 4\n",
    "params['Ti'] = 7\n",
    "\n",
    "time_start = 0\n",
    "time_end = 1000\n",
    "\n",
    "sol = solve_ivp(SIR_model,[time_start,time_end],p0,args=(params,),dense_output=True)\n",
    "\n",
    "time_plot = np.arange(0,365.0,1.0)\n",
    "\n",
    "(S,I,R) = sol.sol(time_plot)"
   ]
  },
  {
   "cell_type": "code",
   "execution_count": 31,
   "metadata": {},
   "outputs": [
    {
     "data": {
      "text/plain": [
       "<matplotlib.legend.Legend at 0x7f8c50e3aeb0>"
      ]
     },
     "execution_count": 31,
     "metadata": {},
     "output_type": "execute_result"
    },
    {
     "data": {
      "image/png": "[encoded data removed]",
      "text/plain": [
       "<Figure size 432x288 with 1 Axes>"
      ]
     },
     "metadata": {
      "needs_background": "light"
     },
     "output_type": "display_data"
    }
   ],
   "source": [
    "plt.plot(S,label=\"S\")\n",
    "plt.plot(I,label=\"I\")\n",
    "plt.plot(R,label=\"R\")\n",
    "plt.legend()"
   ]
  },
  {
   "cell_type": "code",
   "execution_count": 22,
   "metadata": {},
   "outputs": [],
   "source": [
    "# population size\n",
    "\n",
    "N = 320000000.0\n",
    "\n",
    "# initial population with 1 infected individual\n",
    "\n",
    "p0 = [N-1,1,0]\n",
    "\n",
    "# time frame to examine\n",
    "# in daus\n",
    "\n",
    "params = {}\n",
    "\n",
    "params['R0'] = 2\n",
    "params['Ti'] = 7\n",
    "\n",
    "time_start = 0\n",
    "time_end = 1000\n",
    "\n",
    "sol = solve_ivp(SIR_model,[time_start,time_end],p0,args=(params,),dense_output=True)\n",
    "\n",
    "time_plot = np.arange(0,365.0,1.0)\n",
    "\n",
    "(S,I,R) = sol.sol(time_plot)"
   ]
  },
  {
   "cell_type": "code",
   "execution_count": 32,
   "metadata": {},
   "outputs": [
    {
     "data": {
      "text/plain": [
       "<matplotlib.legend.Legend at 0x7f8c0056fcd0>"
      ]
     },
     "execution_count": 32,
     "metadata": {},
     "output_type": "execute_result"
    },
    {
     "data": {
      "image/png": "[encoded data removed]",
      "text/plain": [
       "<Figure size 432x288 with 1 Axes>"
      ]
     },
     "metadata": {
      "needs_background": "light"
     },
     "output_type": "display_data"
    }
   ],
   "source": [
    "plt.plot(S,label=\"S\")\n",
    "plt.plot(I,label=\"I\")\n",
    "plt.plot(R,label=\"R\")\n",
    "plt.legend()"
   ]
  },
  {
   "cell_type": "code",
   "execution_count": 28,
   "metadata": {},
   "outputs": [],
   "source": [
    "def SEIR_model(t,p,params):\n",
    "\n",
    "    # p is a vector of the current population states \n",
    "\n",
    "    (S,E,I,R) = p\n",
    "\n",
    "    # N is population size\n",
    "    \n",
    "    N = np.sum(p)\n",
    "    \n",
    "    # get these from parameter vector for convenience\n",
    "\n",
    "    R0 = params['R0'] \n",
    "    Te = params['Te']\n",
    "    Ti = params['Ti']\n",
    "    \n",
    "    # instantaneous rate of new infections\n",
    "    \n",
    "    beta = R0 / Ti\n",
    "    \n",
    "    # define rates of state shifts\n",
    "    \n",
    "    rSE = I * beta * (S/N) \n",
    "    rEI = E * (1/Te)\n",
    "    rIR = I * (1/Ti)\n",
    "    \n",
    "    dS = -rSE\n",
    "    dE = rSE - rEI\n",
    "    dI = rEI - rIR \n",
    "    dR = rIR\n",
    "\n",
    "    retvals = [dS,dE,dI,dR]\n",
    "    \n",
    "    return(retvals)"
   ]
  },
  {
   "cell_type": "code",
   "execution_count": 29,
   "metadata": {},
   "outputs": [],
   "source": [
    "# population size\n",
    "\n",
    "N = 320000000.0\n",
    "\n",
    "# initial population with 1 infected individual\n",
    "\n",
    "p0 = [N-1,0,1,0]\n",
    "\n",
    "# time frame to examine\n",
    "# in daus\n",
    "\n",
    "params = {}\n",
    "\n",
    "params['R0'] = 4\n",
    "params['Te'] = 3\n",
    "params['Ti'] = 7\n",
    "\n",
    "\n",
    "time_start = 0\n",
    "time_end = 1000\n",
    "\n",
    "sol = solve_ivp(SEIR_model,[time_start,time_end],p0,args=(params,),dense_output=True)\n",
    "\n",
    "time_plot = np.arange(0,365.0,1.0)\n",
    "\n",
    "(S,E,I,R) = sol.sol(time_plot)"
   ]
  },
  {
   "cell_type": "code",
   "execution_count": 30,
   "metadata": {},
   "outputs": [
    {
     "data": {
      "text/plain": [
       "<matplotlib.legend.Legend at 0x7f8c213ccc40>"
      ]
     },
     "execution_count": 30,
     "metadata": {},
     "output_type": "execute_result"
    },
    {
     "data": {
      "image/png": "[encoded data removed]",
      "text/plain": [
       "<Figure size 432x288 with 1 Axes>"
      ]
     },
     "metadata": {
      "needs_background": "light"
     },
     "output_type": "display_data"
    }
   ],
   "source": [
    "plt.plot(S,label=\"S\")\n",
    "plt.plot(E,label=\"E\")\n",
    "plt.plot(I,label=\"I\")\n",
    "plt.plot(R,label=\"R\")\n",
    "plt.legend()"
   ]
  },
  {
   "cell_type": "code",
   "execution_count": 33,
   "metadata": {},
   "outputs": [],
   "source": [
    "# population size\n",
    "\n",
    "N = 320000000.0\n",
    "\n",
    "# initial population with 1 infected individual\n",
    "\n",
    "p0 = [N-1,0,1,0]\n",
    "\n",
    "# time frame to examine\n",
    "# in daus\n",
    "\n",
    "params = {}\n",
    "\n",
    "params['R0'] = 2\n",
    "params['Te'] = 3\n",
    "params['Ti'] = 7\n",
    "\n",
    "\n",
    "time_start = 0\n",
    "time_end = 1000\n",
    "\n",
    "sol = solve_ivp(SEIR_model,[time_start,time_end],p0,args=(params,),dense_output=True)\n",
    "\n",
    "time_plot = np.arange(0,365.0,1.0)\n",
    "\n",
    "(S,E,I,R) = sol.sol(time_plot)"
   ]
  },
  {
   "cell_type": "code",
   "execution_count": 34,
   "metadata": {},
   "outputs": [
    {
     "data": {
      "text/plain": [
       "<matplotlib.legend.Legend at 0x7f8be00fa670>"
      ]
     },
     "execution_count": 34,
     "metadata": {},
     "output_type": "execute_result"
    },
    {
     "data": {
      "image/png": "[encoded data removed]",
      "text/plain": [
       "<Figure size 432x288 with 1 Axes>"
      ]
     },
     "metadata": {
      "needs_background": "light"
     },
     "output_type": "display_data"
    }
   ],
   "source": [
    "plt.plot(S,label=\"S\")\n",
    "plt.plot(E,label=\"E\")\n",
    "plt.plot(I,label=\"I\")\n",
    "plt.plot(R,label=\"R\")\n",
    "plt.legend()"
   ]
  },
  {
   "cell_type": "code",
   "execution_count": 36,
   "metadata": {},
   "outputs": [
    {
     "data": {
      "text/plain": [
       "[<matplotlib.lines.Line2D at 0x7f8c611e3b20>]"
      ]
     },
     "execution_count": 36,
     "metadata": {},
     "output_type": "execute_result"
    },
    {
     "data": {
      "image/png": "[encoded data removed]",
      "text/plain": [
       "<Figure size 432x288 with 1 Axes>"
      ]
     },
     "metadata": {
      "needs_background": "light"
     },
     "output_type": "display_data"
    }
   ],
   "source": [
    "plt.plot(I/(S+E+I+R))"
   ]
  },
  {
   "cell_type": "code",
   "execution_count": 47,
   "metadata": {},
   "outputs": [
    {
     "data": {
      "text/plain": [
       "<matplotlib.legend.Legend at 0x7f8c613e6e80>"
      ]
     },
     "execution_count": 47,
     "metadata": {},
     "output_type": "execute_result"
    },
    {
     "data": {
      "image/png": "[encoded data removed]",
      "text/plain": [
       "<Figure size 432x288 with 1 Axes>"
      ]
     },
     "metadata": {
      "needs_background": "light"
     },
     "output_type": "display_data"
    }
   ],
   "source": [
    "def SEIR_feedback_model(t,p,params):\n",
    "\n",
    "    # p is a vector of the current population states \n",
    "\n",
    "    (S,E,I,R) = p\n",
    "\n",
    "    # N is population size\n",
    "    \n",
    "    N = np.sum(p)\n",
    "    \n",
    "    # get these from parameter vector for convenience\n",
    "\n",
    "    R0 = params['R0'] \n",
    "    Te = params['Te']\n",
    "    Ti = params['Ti']\n",
    "    \n",
    "    # modify R based on current infection rate \n",
    "    # instantaneous rate of new infections\n",
    "    \n",
    "    fI = I/N\n",
    "    R = np.clip(R0 * ((.05 - fI) / .05), 0.5,R0)\n",
    " \n",
    "    beta = R / Ti\n",
    "\n",
    "    # define rates of state shifts\n",
    "    \n",
    "    rSE = I * beta * (S/N) \n",
    "    rEI = E * (1/Te)\n",
    "    rIR = I * (1/Ti)\n",
    "    \n",
    "    dS = -rSE\n",
    "    dE = rSE - rEI\n",
    "    dI = rEI - rIR \n",
    "    dR = rIR\n",
    "\n",
    "    retvals = [dS,dE,dI,dR]\n",
    "    \n",
    "    return(retvals)\n",
    "\n",
    "# population size\n",
    "\n",
    "N = 320000000.0\n",
    "\n",
    "# initial population with 1 infected individual\n",
    "\n",
    "p0 = [N-1,0,1,0]\n",
    "\n",
    "# time frame to examine\n",
    "# in daus\n",
    "\n",
    "params = {}\n",
    "\n",
    "params['R0'] = 2\n",
    "params['Te'] = 3\n",
    "params['Ti'] = 7\n",
    "\n",
    "\n",
    "time_start = 0\n",
    "time_end = 1000\n",
    "\n",
    "sol = solve_ivp(SEIR_feedback_model,[time_start,time_end],p0,args=(params,),dense_output=True)\n",
    "\n",
    "time_plot = np.arange(0,1000,1.0)\n",
    "\n",
    "(S,E,I,R) = sol.sol(time_plot)\n",
    "\n",
    "plt.plot(S,label=\"S\")\n",
    "plt.plot(E,label=\"E\")\n",
    "plt.plot(I,label=\"I\")\n",
    "plt.plot(R,label=\"R\")\n",
    "plt.legend()"
   ]
  },
  {
   "cell_type": "code",
   "execution_count": 52,
   "metadata": {},
   "outputs": [
    {
     "data": {
      "text/plain": [
       "<matplotlib.legend.Legend at 0x7f8c31595a60>"
      ]
     },
     "execution_count": 52,
     "metadata": {},
     "output_type": "execute_result"
    },
    {
     "data": {
      "image/png": "[encoded data removed]",
      "text/plain": [
       "<Figure size 432x288 with 1 Axes>"
      ]
     },
     "metadata": {
      "needs_background": "light"
     },
     "output_type": "display_data"
    }
   ],
   "source": [
    "def SEIR_feedback_model(t,p,params):\n",
    "\n",
    "    # p is a vector of the current population states \n",
    "\n",
    "    (S,E,I,R,L) = p\n",
    "\n",
    "    # N is population size\n",
    "    \n",
    "    N = np.sum(p)\n",
    "    \n",
    "    # get these from parameter vector for convenience\n",
    "\n",
    "    R0 = params['R0'] \n",
    "    Te = params['Te']\n",
    "    Ti = params['Ti']\n",
    "    Tl = params['Tl']\n",
    "    \n",
    "    # modify R based on current infection rate \n",
    "    # instantaneous rate of new infections\n",
    "    \n",
    "    fI = I/N\n",
    "    \n",
    "    R = R0\n",
    " \n",
    "    beta = R / Ti\n",
    "\n",
    "    # define rates of state shifts\n",
    "    \n",
    "    rSE = I * beta * (S/N) \n",
    "    rEI = E * (1/Te)\n",
    "    rIR = I * (1/Ti)\n",
    "    \n",
    "    dS = -rSE\n",
    "    dE = rSE - rEI\n",
    "    dI = rEI - rIR \n",
    "    dR = rIR\n",
    "    \n",
    "    dL = rEI - L * (1/Tl)\n",
    "\n",
    "    retvals = [dS,dE,dI,dR,dL]\n",
    "    \n",
    "    return(retvals)\n",
    "\n",
    "# population size\n",
    "\n",
    "N = 320000000.0\n",
    "\n",
    "# initial population with 1 infected individual\n",
    "\n",
    "p0 = [N-1,0,1,0,0]\n",
    "\n",
    "# time frame to examine\n",
    "# in daus\n",
    "\n",
    "params = {}\n",
    "\n",
    "params['R0'] = 2\n",
    "params['Te'] = 3\n",
    "params['Ti'] = 7\n",
    "params['Tl'] = 21\n",
    "\n",
    "\n",
    "time_start = 0\n",
    "time_end = 1000\n",
    "\n",
    "sol = solve_ivp(SEIR_feedback_model,[time_start,time_end],p0,args=(params,),dense_output=True)\n",
    "\n",
    "time_plot = np.arange(0,1000,1.0)\n",
    "\n",
    "(S,E,I,R,L) = sol.sol(time_plot)\n",
    "\n",
    "#plt.plot(S,label=\"S\")\n",
    "plt.plot(E,label=\"E\")\n",
    "plt.plot(I,label=\"I\")\n",
    "#plt.plot(R,label=\"R\")\n",
    "plt.plot(L,label=\"L\")\n",
    "plt.legend()"
   ]
  },
  {
   "cell_type": "code",
   "execution_count": 75,
   "metadata": {},
   "outputs": [
    {
     "data": {
      "text/plain": [
       "<matplotlib.legend.Legend at 0x7f8c50fad9a0>"
      ]
     },
     "execution_count": 75,
     "metadata": {},
     "output_type": "execute_result"
    },
    {
     "data": {
      "image/png": "[encoded data removed]",
      "text/plain": [
       "<Figure size 432x288 with 1 Axes>"
      ]
     },
     "metadata": {
      "needs_background": "light"
     },
     "output_type": "display_data"
    }
   ],
   "source": [
    "def SEIR_feedback_model(t,p,params):\n",
    "\n",
    "    # p is a vector of the current population states \n",
    "\n",
    "    (S,E,I,R,H,L) = p\n",
    "\n",
    "    # N is population size\n",
    "    \n",
    "    N = np.sum(p)\n",
    "    \n",
    "    # get these from parameter vector for convenience\n",
    "\n",
    "    R0 = params['R0'] \n",
    "    Te = params['Te']\n",
    "    Ti = params['Ti']\n",
    "    \n",
    "    Th = params['Th']\n",
    "    Tl = params['Tl']\n",
    "    \n",
    "    # modify R based on current infection rate \n",
    "    # instantaneous rate of new infections\n",
    "    \n",
    "    fI = I/N\n",
    "    \n",
    "    fL = L/N\n",
    "    Lref = .05\n",
    "    Reff = np.clip(R0 * ((Lref - fL) / Lref), 0.9,R0)\n",
    "\n",
    "    beta = Reff / Ti\n",
    "\n",
    "    # define rates of state shifts\n",
    "    \n",
    "    rSE = I * beta * (S/N) \n",
    "    rEI = E * (1/Te)\n",
    "    rIR = I * (1/Ti)\n",
    "    \n",
    "    dS = -rSE\n",
    "    dE = rSE - rEI\n",
    "    dI = rEI - rIR \n",
    "    dR = rIR\n",
    "    \n",
    "    dH = rIR - H * (1/Th)\n",
    "    dL = H * (1/Th) - L * (1/Tl)\n",
    "    \n",
    "    retvals = [dS,dE,dI,dR,dH,dL]\n",
    "    \n",
    "    return(retvals)\n",
    "\n",
    "# population size\n",
    "\n",
    "N = 320000000.0\n",
    "\n",
    "# initial population with 1 infected individual\n",
    "\n",
    "p0 = [N-1,0,1,0,0,0]\n",
    "\n",
    "# time frame to examine\n",
    "# in daus\n",
    "\n",
    "params = {}\n",
    "\n",
    "params['R0'] = 2\n",
    "params['Te'] = 3\n",
    "params['Ti'] = 7\n",
    "params['Th'] = 10\n",
    "params['Tl'] = 28\n",
    "\n",
    "\n",
    "time_start = 0\n",
    "time_end = 1000\n",
    "\n",
    "sol = solve_ivp(SEIR_feedback_model,[time_start,time_end],p0,args=(params,),dense_output=True)\n",
    "\n",
    "time_plot = np.arange(0,1000,1.0)\n",
    "\n",
    "(S,E,I,R,H,L) = sol.sol(time_plot)\n",
    "\n",
    "N = S+E+I+R\n",
    "\n",
    "#plt.plot(S,label=\"S\")\n",
    "#plt.plot(E,label=\"E\")\n",
    "plt.plot(I/N,label=\"I\")\n",
    "#plt.plot(R,label=\"R\")\n",
    "plt.plot(L/N,label=\"L\")\n",
    "plt.legend()"
   ]
  },
  {
   "cell_type": "code",
   "execution_count": 82,
   "metadata": {},
   "outputs": [
    {
     "data": {
      "text/plain": [
       "<matplotlib.legend.Legend at 0x7f8c21742160>"
      ]
     },
     "execution_count": 82,
     "metadata": {},
     "output_type": "execute_result"
    },
    {
     "data": {
      "image/png": "[encoded data removed]",
      "text/plain": [
       "<Figure size 432x288 with 1 Axes>"
      ]
     },
     "metadata": {
      "needs_background": "light"
     },
     "output_type": "display_data"
    }
   ],
   "source": [
    "R0 = 2\n",
    "fL = L/N\n",
    "Lref = .05\n",
    "Reff = np.clip(R0 * ((Lref - fL) / Lref), 0.9,R0)\n",
    "plt.plot(time_plot,Reff,label='R')\n",
    "plt.plot(time_plot,I/np.max(I),label=\"I\")\n",
    "plt.legend()"
   ]
  },
  {
   "cell_type": "code",
   "execution_count": 81,
   "metadata": {},
   "outputs": [
    {
     "data": {
      "text/plain": [
       "<matplotlib.legend.Legend at 0x7f8c61924c10>"
      ]
     },
     "execution_count": 81,
     "metadata": {},
     "output_type": "execute_result"
    },
    {
     "data": {
      "image/png": "[encoded data removed]",
      "text/plain": [
       "<Figure size 432x288 with 1 Axes>"
      ]
     },
     "metadata": {
      "needs_background": "light"
     },
     "output_type": "display_data"
    }
   ],
   "source": []
  },
  {
   "cell_type": "code",
   "execution_count": 83,
   "metadata": {},
   "outputs": [
    {
     "data": {
      "text/plain": [
       "<matplotlib.legend.Legend at 0x7f8c61603d90>"
      ]
     },
     "execution_count": 83,
     "metadata": {},
     "output_type": "execute_result"
    },
    {
     "data": {
      "image/png": "[encoded data removed]",
      "text/plain": [
       "<Figure size 432x288 with 1 Axes>"
      ]
     },
     "metadata": {
      "needs_background": "light"
     },
     "output_type": "display_data"
    }
   ],
   "source": [
    "def SEIR_feedback_model(t,p,params):\n",
    "\n",
    "    # p is a vector of the current population states \n",
    "\n",
    "    (S,E,I,R,H,L) = p\n",
    "\n",
    "    # N is population size\n",
    "    \n",
    "    N = np.sum(p)\n",
    "    \n",
    "    # get these from parameter vector for convenience\n",
    "\n",
    "    R0 = params['R0'] \n",
    "    Te = params['Te']\n",
    "    Ti = params['Ti']\n",
    "    \n",
    "    Th = params['Th']\n",
    "    Tl = params['Tl']\n",
    "    \n",
    "    # modify R based on current infection rate \n",
    "    # instantaneous rate of new infections\n",
    "    \n",
    "    fI = I/N\n",
    "    \n",
    "    fL = L/N\n",
    "    Lref = .05\n",
    "    Reff = np.clip(R0 * ((Lref - fL) / Lref), 0.9,R0)\n",
    "\n",
    "    beta = Reff / Ti\n",
    "\n",
    "    # define rates of state shifts\n",
    "    \n",
    "    rSE = I * beta * (S/N) \n",
    "    rEI = E * (1/Te)\n",
    "    rIR = I * (1/Ti)\n",
    "    \n",
    "    dS = -rSE\n",
    "    dE = rSE - rEI\n",
    "    dI = rEI - rIR \n",
    "    dR = rIR\n",
    "    \n",
    "    dH = rIR - H * (1/Th)\n",
    "    dL = H * (1/Th) - L * (1/Tl)\n",
    "    \n",
    "    retvals = [dS,dE,dI,dR,dH,dL]\n",
    "    \n",
    "    return(retvals)\n",
    "\n",
    "# population size\n",
    "\n",
    "N = 320000000.0\n",
    "\n",
    "# initial population with 1 infected individual\n",
    "\n",
    "p0 = [N-1,0,1,0,0,0]\n",
    "\n",
    "# time frame to examine\n",
    "# in daus\n",
    "\n",
    "params = {}\n",
    "\n",
    "params['R0'] = 4\n",
    "params['Te'] = 3\n",
    "params['Ti'] = 7\n",
    "params['Th'] = 10\n",
    "params['Tl'] = 28\n",
    "\n",
    "\n",
    "time_start = 0\n",
    "time_end = 1000\n",
    "\n",
    "sol = solve_ivp(SEIR_feedback_model,[time_start,time_end],p0,args=(params,),dense_output=True)\n",
    "\n",
    "time_plot = np.arange(0,1000,1.0)\n",
    "\n",
    "(S,E,I,R,H,L) = sol.sol(time_plot)\n",
    "\n",
    "N = S+E+I+R\n",
    "\n",
    "#plt.plot(S,label=\"S\")\n",
    "#plt.plot(E,label=\"E\")\n",
    "plt.plot(I/N,label=\"I\")\n",
    "#plt.plot(R,label=\"R\")\n",
    "plt.plot(L/N,label=\"L\")\n",
    "plt.legend()"
   ]
  },
  {
   "cell_type": "code",
   "execution_count": 85,
   "metadata": {},
   "outputs": [
    {
     "data": {
      "text/plain": [
       "[<matplotlib.lines.Line2D at 0x7f8c61b9a790>]"
      ]
     },
     "execution_count": 85,
     "metadata": {},
     "output_type": "execute_result"
    },
    {
     "data": {
      "image/png": "[encoded data removed]",
      "text/plain": [
       "<Figure size 432x288 with 1 Axes>"
      ]
     },
     "metadata": {
      "needs_background": "light"
     },
     "output_type": "display_data"
    }
   ],
   "source": []
  },
  {
   "cell_type": "code",
   "execution_count": 106,
   "metadata": {
    "scrolled": true
   },
   "outputs": [
    {
     "data": {
      "text/plain": [
       "<matplotlib.legend.Legend at 0x7f8c62071d90>"
      ]
     },
     "execution_count": 106,
     "metadata": {},
     "output_type": "execute_result"
    },
    {
     "data": {
      "image/png": "[encoded data removed]",
      "text/plain": [
       "<Figure size 432x288 with 1 Axes>"
      ]
     },
     "metadata": {
      "needs_background": "light"
     },
     "output_type": "display_data"
    }
   ],
   "source": [
    "def SEIR_feedback_model(t,p,params):\n",
    "\n",
    "    # p is a vector of the current population states \n",
    "\n",
    "    (S,E,I,R,H,L) = p\n",
    "\n",
    "    # N is population size\n",
    "    \n",
    "    N = np.sum(p)\n",
    "    \n",
    "    # get these from parameter vector for convenience\n",
    "\n",
    "    R0 = params['R0'] \n",
    "    Te = params['Te']\n",
    "    Ti = params['Ti']\n",
    "    \n",
    "    Th = params['Th']\n",
    "    Tl = params['Tl']\n",
    "    \n",
    "    # modify R based on current infection rate \n",
    "    # instantaneous rate of new infections\n",
    "\n",
    "    fL = L/N\n",
    "    fL_low = .00\n",
    "    fL_high = .05\n",
    "    mod = np.clip((fL-fL_low)/(fL_high - fL_low),0,1)\n",
    "    mod *= np.exp(-t/10000)\n",
    "    Rmin = .25\n",
    "    Reff = Rmin + (1-mod) * (R0-Rmin)\n",
    "\n",
    "    beta = Reff / Ti\n",
    "\n",
    "    # define rates of state shifts\n",
    "    \n",
    "    rSE = I * beta * (S/N) \n",
    "    rEI = E * (1/Te)\n",
    "    rIR = I * (1/Ti)\n",
    "    \n",
    "    dS = -rSE\n",
    "    dE = rSE - rEI\n",
    "    dI = rEI - rIR \n",
    "    dR = rIR\n",
    "    \n",
    "    dH = rIR - H * (1/Th)\n",
    "    dL = H * (1/Th) - L * (1/Tl)\n",
    "    \n",
    "    retvals = [dS,dE,dI,dR,dH,dL]\n",
    "    \n",
    "    return(retvals)\n",
    "\n",
    "# population size\n",
    "\n",
    "N = 320000000.0\n",
    "\n",
    "# initial population with 1 infected individual\n",
    "\n",
    "p0 = [N-1,0,1,0,0,0]\n",
    "\n",
    "# time frame to examine\n",
    "# in daus\n",
    "\n",
    "params = {}\n",
    "\n",
    "params['R0'] = 4\n",
    "params['Te'] = 3\n",
    "params['Ti'] = 7\n",
    "params['Th'] = 14\n",
    "params['Tl'] = 21\n",
    "\n",
    "\n",
    "time_start = 0\n",
    "time_end = 1000\n",
    "\n",
    "sol = solve_ivp(SEIR_feedback_model,[time_start,time_end],p0,args=(params,),dense_output=True)\n",
    "\n",
    "time_plot = np.arange(0,1000,1.0)\n",
    "\n",
    "(S,E,I,R,H,L) = sol.sol(time_plot)\n",
    "\n",
    "N = S+E+I+R\n",
    "\n",
    "#plt.plot(S,label=\"S\")\n",
    "#plt.plot(E,label=\"E\")\n",
    "plt.plot(I/N,label=\"I\")\n",
    "#plt.plot(R,label=\"R\")\n",
    "plt.plot(L/N,label=\"L\")\n",
    "plt.legend()"
   ]
  },
  {
   "cell_type": "code",
   "execution_count": null,
   "metadata": {},
   "outputs": [],
   "source": []
  },
  {
   "cell_type": "code",
   "execution_count": 133,
   "metadata": {},
   "outputs": [],
   "source": [
    "def SIR_model(t,p,params):\n",
    "\n",
    "    # p is a vector of the current population states \n",
    "\n",
    "    (S,I,R) = p\n",
    "\n",
    "    # N is population size\n",
    "    \n",
    "    N = np.sum(p)\n",
    "    \n",
    "    # get these from parameter vector for convenience\n",
    "\n",
    "    R0 = params['R0'] \n",
    "    Ti = params['Ti']\n",
    "    \n",
    "    # instantaneous rate of new infections\n",
    "    \n",
    "    beta = R0 / Ti\n",
    "    \n",
    "    # define rates of state shifts\n",
    "    \n",
    "    # rate of S to I \n",
    "    rSI = I * beta * (S/N) \n",
    "    \n",
    "    # rate of I to R\n",
    "    rIR = I * (1/Ti)\n",
    "    \n",
    "    dS = -rSI\n",
    "    dI = rSI - rIR \n",
    "    dR = rIR\n",
    "\n",
    "    retvals = [dS,dI,dR]\n",
    "    \n",
    "    return(retvals)\n",
    "\n",
    "def SIR_solve(gparams):\n",
    "    N,R0,Ti = gparams\n",
    "    p0 = [N-1,1,0]\n",
    "    \n",
    "    params = {}\n",
    "\n",
    "    params['R0'] = R0\n",
    "    params['Ti'] = Ti\n",
    "\n",
    "    time_start = 0\n",
    "    time_end = 1000\n",
    "\n",
    "    sol = solve_ivp(SIR_model,[time_start,time_end],p0,args=(params,),dense_output=True)\n",
    "    \n",
    "    times = np.arange(time_start,time_end)\n",
    "    return sol.sol(time_plot)\n",
    "\n",
    "def SIR_fit(gparams,*args):\n",
    "    Io = args[0]\n",
    "    (S,I,R) = SIR_solve(gparams)\n",
    "    return np.sum(np.square(I-Io))/len(S)\n"
   ]
  },
  {
   "cell_type": "code",
   "execution_count": 127,
   "metadata": {},
   "outputs": [
    {
     "data": {
      "text/plain": [
       "[<matplotlib.lines.Line2D at 0x7f8c5132bf40>]"
      ]
     },
     "execution_count": 127,
     "metadata": {},
     "output_type": "execute_result"
    },
    {
     "data": {
      "image/png": "[encoded data removed]",
      "text/plain": [
       "<Figure size 432x288 with 1 Axes>"
      ]
     },
     "metadata": {
      "needs_background": "light"
     },
     "output_type": "display_data"
    }
   ],
   "source": [
    "plt.plot(I)"
   ]
  },
  {
   "cell_type": "code",
   "execution_count": 128,
   "metadata": {},
   "outputs": [],
   "source": [
    "gparams = [320000000,4,7]\n",
    "\n",
    "(Si,Ii,Ri) = SIR_solve(gparams)"
   ]
  },
  {
   "cell_type": "code",
   "execution_count": 136,
   "metadata": {},
   "outputs": [
    {
     "data": {
      "text/plain": [
       "1.2553304939588006e+16"
      ]
     },
     "execution_count": 136,
     "metadata": {},
     "output_type": "execute_result"
    }
   ],
   "source": [
    "gguess = [300000000,3.5,8]\n",
    "\n",
    "SIR_fit(gguess,Si)"
   ]
  },
  {
   "cell_type": "code",
   "execution_count": 137,
   "metadata": {},
   "outputs": [],
   "source": [
    "import scipy.optimize\n",
    "from scipy.optimize import least_squares, minimize"
   ]
  },
  {
   "cell_type": "code",
   "execution_count": 138,
   "metadata": {},
   "outputs": [
    {
     "data": {
      "text/plain": [
       "      fun: 52.443701347099974\n",
       " hess_inv: array([[ 1.10962135e+03, -1.17755260e-05, -2.66682925e-05],\n",
       "       [-1.17754887e-05,  1.38883345e-13,  3.12862601e-13],\n",
       "       [-2.66682005e-05,  3.12862513e-13,  7.06659016e-13]])\n",
       "      jac: array([ 1.55795528e-02,  1.61266343e+07, -5.72448100e+06])\n",
       "  message: 'Desired error not necessarily achieved due to precision loss.'\n",
       "     nfev: 140\n",
       "      nit: 22\n",
       "     njev: 32\n",
       "   status: 2\n",
       "  success: False\n",
       "        x: array([3.20000326e+08, 3.99999620e+00, 6.99999143e+00])"
      ]
     },
     "execution_count": 138,
     "metadata": {},
     "output_type": "execute_result"
    }
   ],
   "source": [
    "minimize(SIR_fit,gguess,args=[Ii])"
   ]
  },
  {
   "cell_type": "markdown",
   "metadata": {},
   "source": [
    "## How can we add hospitalizations?"
   ]
  }
 ],
 "metadata": {
  "kernelspec": {
   "display_name": "Python 3",
   "language": "python",
   "name": "python3"
  },
  "language_info": {
   "codemirror_mode": {
    "name": "ipython",
    "version": 3
   },
   "file_extension": ".py",
   "mimetype": "text/x-python",
   "name": "python",
   "nbconvert_exporter": "python",
   "pygments_lexer": "ipython3",
   "version": "3.8.3"
  }
 },
 "nbformat": 4,
 "nbformat_minor": 2
}
