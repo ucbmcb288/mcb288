{
 "cells": [
  {
   "cell_type": "code",
   "execution_count": 1,
   "metadata": {},
   "outputs": [],
   "source": [
    "import scipy\n",
    "from scipy.integrate import solve_ivp\n",
    "import numpy as np\n",
    "import matplotlib.pyplot as plt\n",
    "import pandas as pd"
   ]
  },
  {
   "cell_type": "markdown",
   "metadata": {},
   "source": [
    "## SIR Models\n",
    "\n",
    "The simplest model of an infectious disease considers the transition of members of a population between three states:\n",
    "\n",
    "Susceptible (S) - people who have never been infected\n",
    "Infected (I) - people who have an active, transmissible infection\n",
    "Recovered (R) - people who have recovered from the infection and, because of immunity, can not be infected again\n",
    "\n",
    "Models of with these three states are called \"SIR\" models. In SIR models $S + I + R = N$, where $N$ is the size of population.\n",
    "\n",
    "SIR models have only two parameters:\n",
    "\n",
    "$R_0$ - the number of people an infected individual would infect over the course of their infection if everyone else were susceptible (you can also think of this as the number of people an infected individual exposes to infection).\n",
    "\n",
    "$T_i$ - the time an infected individual remains infectious\n",
    "\n",
    "We can describe the behavior of this system with a set of differential equations:\n",
    "\n",
    "${\\large {{dS}\\over{dt}}=-I{R_0\\over{T_i}}{S\\over{N}}}$ \n",
    "\n",
    "${\\large {{dI}\\over{dt}}=I{R_0\\over{T_i}}{S\\over{N}}-{1\\over{T_i}}}$\n",
    "\n",
    "${\\large {{dR}\\over{dt}}={1\\over{T_i}}}$"
   ]
  },
  {
   "cell_type": "markdown",
   "metadata": {},
   "source": [
    "## How do we solve this?"
   ]
  },
  {
   "cell_type": "code",
   "execution_count": 11,
   "metadata": {},
   "outputs": [],
   "source": [
    "def SIR_model(t,p,params):\n",
    "\n",
    "    # p is a vector of the current population states \n",
    "\n",
    "    (S,I,R) = p\n",
    "\n",
    "    # N is population size\n",
    "    \n",
    "    N = np.sum(p)\n",
    "    \n",
    "    # get these from parameter vector for convenience\n",
    "\n",
    "    R0 = params['R0'] \n",
    "    Ti = params['Ti']\n",
    "    \n",
    "    # instantaneous rate of new infections\n",
    "    \n",
    "    beta = R0 / Ti\n",
    "    \n",
    "    # define rates of state shifts\n",
    "    \n",
    "    # rate of S to I \n",
    "    rSI = I * beta * (S/N) \n",
    "    \n",
    "    # rate of I to R\n",
    "    rIR = I * (1/Ti)\n",
    "    \n",
    "    dS = -rSI\n",
    "    dI = rSI - rIR \n",
    "    dR = rIR\n",
    "\n",
    "    retvals = [dS,dI,dR]\n",
    "    \n",
    "    return(retvals)"
   ]
  },
  {
   "cell_type": "markdown",
   "metadata": {},
   "source": [
    "$R_{eff}<=1$\n",
    "\n",
    "$R_{eff}=R_0*{S\\over{N}}$\n",
    "\n",
    "${S\\over{N}}={1\\over{R0}}$"
   ]
  },
  {
   "cell_type": "code",
   "execution_count": null,
   "metadata": {},
   "outputs": [],
   "source": []
  },
  {
   "cell_type": "code",
   "execution_count": null,
   "metadata": {},
   "outputs": [],
   "source": []
  },
  {
   "cell_type": "code",
   "execution_count": 17,
   "metadata": {},
   "outputs": [],
   "source": [
    "# population size\n",
    "\n",
    "N = 320000000.0\n",
    "\n",
    "# initial population with 1 infected individual\n",
    "\n",
    "# \n",
    "\n",
    "S0 = N - 1\n",
    "I0 = 1\n",
    "R0 = 0\n",
    "\n",
    "p0 = [S0,I0,R0]\n",
    "\n",
    "# time frame to examine\n",
    "# in daus\n",
    "\n",
    "params = {}\n",
    "\n",
    "params['R0'] = 4\n",
    "params['Ti'] = 7\n",
    "\n",
    "time_start = 0\n",
    "time_end = 1000\n",
    "\n",
    "sol = solve_ivp(SIR_model,[time_start,time_end],p0,args=(params,),dense_output=True)\n",
    "\n",
    "time_plot = np.arange(0,365.0,1.0)\n",
    "\n",
    "(S,I,R) = sol.sol(time_plot)"
   ]
  },
  {
   "cell_type": "code",
   "execution_count": 18,
   "metadata": {},
   "outputs": [
    {
     "data": {
      "text/plain": [
       "<matplotlib.legend.Legend at 0x7fcf6089ed60>"
      ]
     },
     "execution_count": 18,
     "metadata": {},
     "output_type": "execute_result"
    },
    {
     "data": {
      "image/png": "[encoded data removed]",
      "text/plain": [
       "<Figure size 432x288 with 1 Axes>"
      ]
     },
     "metadata": {
      "needs_background": "light"
     },
     "output_type": "display_data"
    }
   ],
   "source": [
    "plt.plot(S,label=\"S\")\n",
    "plt.plot(I,label=\"I\")\n",
    "plt.plot(R,label=\"R\")\n",
    "plt.legend()"
   ]
  },
  {
   "cell_type": "code",
   "execution_count": 19,
   "metadata": {},
   "outputs": [
    {
     "data": {
      "text/plain": [
       "313756703.247276"
      ]
     },
     "execution_count": 19,
     "metadata": {},
     "output_type": "execute_result"
    }
   ],
   "source": [
    "np.max(R)"
   ]
  },
  {
   "cell_type": "code",
   "execution_count": 25,
   "metadata": {
    "scrolled": true
   },
   "outputs": [
    {
     "data": {
      "text/plain": [
       "(1, 935605710.9407383)"
      ]
     },
     "execution_count": 25,
     "metadata": {},
     "output_type": "execute_result"
    },
    {
     "data": {
      "image/png": "[encoded data removed]",
      "text/plain": [
       "<Figure size 432x288 with 1 Axes>"
      ]
     },
     "metadata": {
      "needs_background": "light"
     },
     "output_type": "display_data"
    }
   ],
   "source": [
    "plt.plot(S,label=\"S\")\n",
    "plt.plot(I,label=\"I\")\n",
    "plt.plot(R,label=\"R\")\n",
    "plt.plot([0,350],[40000000,40000000])\n",
    "plt.yscale('log')\n",
    "plt.legend()\n",
    "plt.ylim(1,)"
   ]
  },
  {
   "cell_type": "code",
   "execution_count": 21,
   "metadata": {},
   "outputs": [],
   "source": [
    "# population size\n",
    "\n",
    "N = 320000000.0\n",
    "\n",
    "# initial population with 1 infected individual\n",
    "\n",
    "# \n",
    "\n",
    "S0 = N - 1\n",
    "I0 = 1\n",
    "R0 = 0\n",
    "\n",
    "p0 = [S0,I0,R0]\n",
    "\n",
    "# time frame to examine\n",
    "# in daus\n",
    "\n",
    "params = {}\n",
    "\n",
    "params['R0'] = 2\n",
    "params['Ti'] = 7\n",
    "\n",
    "time_start = 0\n",
    "time_end = 1000\n",
    "\n",
    "sol = solve_ivp(SIR_model,[time_start,time_end],p0,args=(params,),dense_output=True)\n",
    "\n",
    "time_plot = np.arange(0,365.0,1.0)\n",
    "\n",
    "(S,I,R) = sol.sol(time_plot)"
   ]
  },
  {
   "cell_type": "code",
   "execution_count": 22,
   "metadata": {},
   "outputs": [
    {
     "data": {
      "text/plain": [
       "(1, 935605710.9407383)"
      ]
     },
     "execution_count": 22,
     "metadata": {},
     "output_type": "execute_result"
    },
    {
     "data": {
      "image/png": "[encoded data removed]",
      "text/plain": [
       "<Figure size 432x288 with 1 Axes>"
      ]
     },
     "metadata": {
      "needs_background": "light"
     },
     "output_type": "display_data"
    }
   ],
   "source": [
    "plt.plot(S,label=\"S\")\n",
    "plt.plot(I,label=\"I\")\n",
    "plt.plot(R,label=\"R\")\n",
    "plt.yscale('log')\n",
    "plt.legend()\n",
    "plt.ylim(1,)"
   ]
  },
  {
   "cell_type": "code",
   "execution_count": 24,
   "metadata": {
    "scrolled": true
   },
   "outputs": [
    {
     "data": {
      "text/plain": [
       "255364027.12026414"
      ]
     },
     "execution_count": 24,
     "metadata": {},
     "output_type": "execute_result"
    }
   ],
   "source": [
    "np.max(R)"
   ]
  },
  {
   "cell_type": "code",
   "execution_count": null,
   "metadata": {},
   "outputs": [],
   "source": []
  },
  {
   "cell_type": "code",
   "execution_count": null,
   "metadata": {},
   "outputs": [],
   "source": []
  },
  {
   "cell_type": "code",
   "execution_count": null,
   "metadata": {},
   "outputs": [],
   "source": []
  },
  {
   "cell_type": "code",
   "execution_count": null,
   "metadata": {},
   "outputs": [],
   "source": []
  },
  {
   "cell_type": "code",
   "execution_count": 6,
   "metadata": {},
   "outputs": [],
   "source": [
    "def SIR_model(t,p,R0,Ti):\n",
    "\n",
    "    # p is a vector of the current population states \n",
    "\n",
    "    (S,I,R) = p\n",
    "\n",
    "    # N is population size\n",
    "    \n",
    "    N = np.sum(p)\n",
    "    \n",
    "    # get these from parameter vector for convenience\n",
    "    \n",
    "    beta = R0 / Ti\n",
    "    \n",
    "    # define rates of state shifts\n",
    "    \n",
    "    # rate of S to I \n",
    "    rSI = I * beta * (S/N) \n",
    "    \n",
    "    # rate of I to R\n",
    "    rIR = I * (1/Ti)\n",
    "    \n",
    "    dS = -rSI\n",
    "    dI = rSI - rIR \n",
    "    dR = rIR\n",
    "\n",
    "    retvals = [dS,dI,dR]\n",
    "    \n",
    "    return(retvals)\n",
    "\n",
    "# population size\n",
    "\n",
    "N = 320000000.0\n",
    "\n",
    "# initial population with 1 infected individual\n",
    "\n",
    "p0 = [N-1,1,0]\n",
    "\n",
    "# time frame to examine\n",
    "# in daus\n",
    "\n",
    "params = {}\n",
    "\n",
    "R0 = 4\n",
    "Ti = 7\n",
    "\n",
    "time_start = 0\n",
    "time_end = 1000\n",
    "\n",
    "sol = solve_ivp(SIR_model,[time_start,time_end],p0,args=(R0,Ti,),dense_output=True)\n",
    "\n",
    "time_plot = np.arange(0,365.0,1.0)\n",
    "\n",
    "(S,I,R) = sol.sol(time_plot)"
   ]
  },
  {
   "cell_type": "code",
   "execution_count": 7,
   "metadata": {},
   "outputs": [
    {
     "data": {
      "text/plain": [
       "<matplotlib.legend.Legend at 0x7fcf6076e430>"
      ]
     },
     "execution_count": 7,
     "metadata": {},
     "output_type": "execute_result"
    },
    {
     "data": {
      "image/png": "[encoded data removed]",
      "text/plain": [
       "<Figure size 432x288 with 1 Axes>"
      ]
     },
     "metadata": {
      "needs_background": "light"
     },
     "output_type": "display_data"
    }
   ],
   "source": [
    "plt.plot(S,label=\"S\")\n",
    "plt.plot(I,label=\"I\")\n",
    "plt.plot(R,label=\"R\")\n",
    "plt.legend()"
   ]
  },
  {
   "cell_type": "code",
   "execution_count": null,
   "metadata": {},
   "outputs": [],
   "source": []
  },
  {
   "cell_type": "code",
   "execution_count": null,
   "metadata": {},
   "outputs": [],
   "source": []
  },
  {
   "cell_type": "code",
   "execution_count": null,
   "metadata": {},
   "outputs": [],
   "source": [
    "# population size\n",
    "\n",
    "N = 320000000.0\n",
    "\n",
    "# initial population with 1 infected individual\n",
    "\n",
    "p0 = [N-1,1,0]\n",
    "\n",
    "# time frame to examine\n",
    "# in daus\n",
    "\n",
    "params = {}\n",
    "\n",
    "params['R0'] = 2\n",
    "params['Ti'] = 7\n",
    "\n",
    "time_start = 0\n",
    "time_end = 1000\n",
    "\n",
    "sol = solve_ivp(SIR_model,[time_start,time_end],p0,args=(params,),dense_output=True)\n",
    "\n",
    "time_plot = np.arange(0,365.0,1.0)\n",
    "\n",
    "(S,I,R) = sol.sol(time_plot)"
   ]
  },
  {
   "cell_type": "code",
   "execution_count": null,
   "metadata": {},
   "outputs": [],
   "source": [
    "plt.plot(S,label=\"S\")\n",
    "plt.plot(I,label=\"I\")\n",
    "plt.plot(R,label=\"R\")\n",
    "plt.legend()"
   ]
  },
  {
   "cell_type": "code",
   "execution_count": null,
   "metadata": {},
   "outputs": [],
   "source": []
  },
  {
   "cell_type": "code",
   "execution_count": null,
   "metadata": {},
   "outputs": [],
   "source": []
  },
  {
   "cell_type": "code",
   "execution_count": null,
   "metadata": {},
   "outputs": [],
   "source": []
  },
  {
   "cell_type": "code",
   "execution_count": null,
   "metadata": {},
   "outputs": [],
   "source": []
  },
  {
   "cell_type": "code",
   "execution_count": 26,
   "metadata": {},
   "outputs": [],
   "source": [
    "def SEIR_model(t,p,params):\n",
    "\n",
    "    # p is a vector of the current population states \n",
    "\n",
    "    (S,E,I,R) = p\n",
    "\n",
    "    # N is population size\n",
    "    \n",
    "    N = np.sum(p)\n",
    "    \n",
    "    # get these from parameter vector for convenience\n",
    "\n",
    "    R0 = params['R0'] \n",
    "    Te = params['Te']\n",
    "    Ti = params['Ti']\n",
    "    \n",
    "    # instantaneous rate of new infections\n",
    "    \n",
    "    beta = R0 / Ti\n",
    "    \n",
    "    # define rates of state shifts\n",
    "    \n",
    "    rSE = I * beta * (S/N) \n",
    "    rEI = E * (1/Te)\n",
    "    rIR = I * (1/Ti)\n",
    "    \n",
    "    dS = -rSE\n",
    "    dE = rSE - rEI\n",
    "    dI = rEI - rIR \n",
    "    dR = rIR\n",
    "\n",
    "    retvals = [dS,dE,dI,dR]\n",
    "    \n",
    "    return(retvals)"
   ]
  },
  {
   "cell_type": "code",
   "execution_count": 27,
   "metadata": {},
   "outputs": [],
   "source": [
    "# population size\n",
    "\n",
    "N = 320000000.0\n",
    "\n",
    "# initial population with 1 infected individual\n",
    "\n",
    "p0 = [N-1,0,1,0]\n",
    "\n",
    "# time frame to examine\n",
    "# in daus\n",
    "\n",
    "params = {}\n",
    "\n",
    "params['R0'] = 4\n",
    "params['Te'] = 3\n",
    "params['Ti'] = 7\n",
    "\n",
    "\n",
    "time_start = 0\n",
    "time_end = 1000\n",
    "\n",
    "sol = solve_ivp(SEIR_model,[time_start,time_end],p0,args=(params,),dense_output=True)\n",
    "\n",
    "time_plot = np.arange(0,365.0,1.0)\n",
    "\n",
    "(S,E,I,R) = sol.sol(time_plot)"
   ]
  },
  {
   "cell_type": "code",
   "execution_count": 28,
   "metadata": {},
   "outputs": [
    {
     "data": {
      "text/plain": [
       "<matplotlib.legend.Legend at 0x7fcf887c2cd0>"
      ]
     },
     "execution_count": 28,
     "metadata": {},
     "output_type": "execute_result"
    },
    {
     "data": {
      "image/png": "[encoded data removed]",
      "text/plain": [
       "<Figure size 432x288 with 1 Axes>"
      ]
     },
     "metadata": {
      "needs_background": "light"
     },
     "output_type": "display_data"
    }
   ],
   "source": [
    "plt.plot(S,label=\"S\")\n",
    "plt.plot(E,label=\"E\")\n",
    "plt.plot(I,label=\"I\")\n",
    "plt.plot(R,label=\"R\")\n",
    "plt.legend()"
   ]
  },
  {
   "cell_type": "code",
   "execution_count": 38,
   "metadata": {},
   "outputs": [],
   "source": [
    "# population size\n",
    "\n",
    "N = 320000000.0\n",
    "\n",
    "# initial population with 1 infected individual\n",
    "\n",
    "p0 = [N-1,0,1,0]\n",
    "\n",
    "# time frame to examine\n",
    "# in daus\n",
    "\n",
    "params = {}\n",
    "\n",
    "params['R0'] = 2\n",
    "params['Te'] = 3\n",
    "params['Ti'] = 7\n",
    "\n",
    "\n",
    "time_start = 0\n",
    "time_end = 1000\n",
    "\n",
    "sol = solve_ivp(SEIR_model,[time_start,time_end],p0,args=(params,),dense_output=True)\n",
    "\n",
    "time_plot = np.arange(0,500,1.0)\n",
    "\n",
    "(S,E,I,R) = sol.sol(time_plot)"
   ]
  },
  {
   "cell_type": "code",
   "execution_count": 42,
   "metadata": {},
   "outputs": [
    {
     "data": {
      "text/plain": [
       "<matplotlib.legend.Legend at 0x7fcff0e63940>"
      ]
     },
     "execution_count": 42,
     "metadata": {},
     "output_type": "execute_result"
    },
    {
     "data": {
      "image/png": "[encoded data removed]",
      "text/plain": [
       "<Figure size 432x288 with 1 Axes>"
      ]
     },
     "metadata": {
      "needs_background": "light"
     },
     "output_type": "display_data"
    }
   ],
   "source": [
    "#plt.plot(S,label=\"S\")\n",
    "plt.plot(E/3,label=\"E\")\n",
    "plt.plot(I/7,label=\"I\")\n",
    "#plt.plot(R,label=\"R\")\n",
    "plt.legend()"
   ]
  },
  {
   "cell_type": "code",
   "execution_count": null,
   "metadata": {},
   "outputs": [],
   "source": [
    "plt.plot(I/(S+E+I+R))"
   ]
  },
  {
   "cell_type": "code",
   "execution_count": 44,
   "metadata": {},
   "outputs": [
    {
     "data": {
      "text/plain": [
       "<matplotlib.legend.Legend at 0x7fcfc0a3ff40>"
      ]
     },
     "execution_count": 44,
     "metadata": {},
     "output_type": "execute_result"
    },
    {
     "data": {
      "image/png": "[encoded data removed]",
      "text/plain": [
       "<Figure size 432x288 with 1 Axes>"
      ]
     },
     "metadata": {
      "needs_background": "light"
     },
     "output_type": "display_data"
    }
   ],
   "source": [
    "def SEIR_feedback_model(t,p,params):\n",
    "\n",
    "    # p is a vector of the current population states \n",
    "\n",
    "    (S,E,I,R) = p\n",
    "\n",
    "    # N is population size\n",
    "    \n",
    "    N = np.sum(p)\n",
    "    \n",
    "    # get these from parameter vector for convenience\n",
    "\n",
    "    R0 = params['R0'] \n",
    "    Te = params['Te']\n",
    "    Ti = params['Ti']\n",
    "    \n",
    "    # modify R based on current infection rate \n",
    "    # instantaneous rate of new infections\n",
    "    \n",
    "    fI = I/N\n",
    "    Reff = np.clip(R0 * ((.05 - fI) / .05), 0.5,R0)\n",
    " \n",
    "    beta = Reff / Ti\n",
    "\n",
    "    # define rates of state shifts\n",
    "    \n",
    "    rSE = I * beta * (S/N) \n",
    "    rEI = E * (1/Te)\n",
    "    rIR = I * (1/Ti)\n",
    "    \n",
    "    dS = -rSE\n",
    "    dE = rSE - rEI\n",
    "    dI = rEI - rIR \n",
    "    dR = rIR\n",
    "\n",
    "    retvals = [dS,dE,dI,dR]\n",
    "    \n",
    "    return(retvals)\n",
    "\n",
    "# population size\n",
    "\n",
    "N = 320000000.0\n",
    "\n",
    "# initial population with 1 infected individual\n",
    "\n",
    "p0 = [N-1,0,1,0]\n",
    "\n",
    "# time frame to examine\n",
    "# in daus\n",
    "\n",
    "params = {}\n",
    "\n",
    "params['R0'] = 4\n",
    "params['Te'] = 3\n",
    "params['Ti'] = 7\n",
    "\n",
    "\n",
    "time_start = 0\n",
    "time_end = 1000\n",
    "\n",
    "sol = solve_ivp(SEIR_feedback_model,[time_start,time_end],p0,args=(params,),dense_output=True)\n",
    "\n",
    "time_plot = np.arange(0,1000,1.0)\n",
    "\n",
    "(S,E,I,R) = sol.sol(time_plot)\n",
    "\n",
    "plt.plot(S,label=\"S\")\n",
    "plt.plot(E,label=\"E\")\n",
    "plt.plot(I,label=\"I\")\n",
    "plt.plot(R,label=\"R\")\n",
    "plt.legend()"
   ]
  },
  {
   "cell_type": "code",
   "execution_count": null,
   "metadata": {},
   "outputs": [],
   "source": [
    "def SEIR_feedback_model(t,p,params):\n",
    "\n",
    "    # p is a vector of the current population states \n",
    "\n",
    "    (S,E,I,R,L) = p\n",
    "\n",
    "    # N is population size\n",
    "    \n",
    "    N = np.sum(p)\n",
    "    \n",
    "    # get these from parameter vector for convenience\n",
    "\n",
    "    R0 = params['R0'] \n",
    "    Te = params['Te']\n",
    "    Ti = params['Ti']\n",
    "    Tl = params['Tl']\n",
    "    \n",
    "    # modify R based on current infection rate \n",
    "    # instantaneous rate of new infections\n",
    "    \n",
    "    fI = I/N\n",
    "    \n",
    "    R = R0\n",
    " \n",
    "    beta = R / Ti\n",
    "\n",
    "    # define rates of state shifts\n",
    "    \n",
    "    rSE = I * beta * (S/N) \n",
    "    rEI = E * (1/Te)\n",
    "    rIR = I * (1/Ti)\n",
    "    \n",
    "    dS = -rSE\n",
    "    dE = rSE - rEI\n",
    "    dI = rEI - rIR \n",
    "    dR = rIR\n",
    "    \n",
    "    dL = rEI - L * (1/Tl)\n",
    "\n",
    "    retvals = [dS,dE,dI,dR,dL]\n",
    "    \n",
    "    return(retvals)\n",
    "\n",
    "# population size\n",
    "\n",
    "N = 320000000.0\n",
    "\n",
    "# initial population with 1 infected individual\n",
    "\n",
    "p0 = [N-1,0,1,0,0]\n",
    "\n",
    "# time frame to examine\n",
    "# in daus\n",
    "\n",
    "params = {}\n",
    "\n",
    "params['R0'] = 2\n",
    "params['Te'] = 3\n",
    "params['Ti'] = 7\n",
    "params['Tl'] = 21\n",
    "\n",
    "\n",
    "time_start = 0\n",
    "time_end = 1000\n",
    "\n",
    "sol = solve_ivp(SEIR_feedback_model,[time_start,time_end],p0,args=(params,),dense_output=True)\n",
    "\n",
    "time_plot = np.arange(0,1000,1.0)\n",
    "\n",
    "(S,E,I,R,L) = sol.sol(time_plot)\n",
    "\n",
    "#plt.plot(S,label=\"S\")\n",
    "plt.plot(E,label=\"E\")\n",
    "plt.plot(I,label=\"I\")\n",
    "#plt.plot(R,label=\"R\")\n",
    "plt.plot(L,label=\"L\")\n",
    "plt.legend()"
   ]
  },
  {
   "cell_type": "code",
   "execution_count": 46,
   "metadata": {},
   "outputs": [
    {
     "data": {
      "text/plain": [
       "<matplotlib.legend.Legend at 0x7fcfb05fc550>"
      ]
     },
     "execution_count": 46,
     "metadata": {},
     "output_type": "execute_result"
    },
    {
     "data": {
      "image/png": "[encoded data removed]",
      "text/plain": [
       "<Figure size 432x288 with 1 Axes>"
      ]
     },
     "metadata": {
      "needs_background": "light"
     },
     "output_type": "display_data"
    }
   ],
   "source": [
    "def SEIR_feedback_model(t,p,params):\n",
    "\n",
    "    # p is a vector of the current population states \n",
    "\n",
    "    (S,E,I,R,H,L) = p\n",
    "\n",
    "    # N is population size\n",
    "    \n",
    "    N = np.sum(p)\n",
    "    \n",
    "    # get these from parameter vector for convenience\n",
    "\n",
    "    R0 = params['R0'] \n",
    "    Te = params['Te']\n",
    "    Ti = params['Ti']\n",
    "    \n",
    "    Th = params['Th']\n",
    "    Tl = params['Tl']\n",
    "    \n",
    "    # modify R based on current infection rate \n",
    "    # instantaneous rate of new infections\n",
    "    \n",
    "    fI = I/N\n",
    "    \n",
    "    fL = L/N\n",
    "    Lref = .05\n",
    "    Reff = np.clip(R0 * ((Lref - fL) / Lref), 0.9,R0)\n",
    "\n",
    "    beta = Reff / Ti\n",
    "\n",
    "    # define rates of state shifts\n",
    "    \n",
    "    rSE = I * beta * (S/N) \n",
    "    rEI = E * (1/Te)\n",
    "    rIR = I * (1/Ti)\n",
    "    \n",
    "    dS = -rSE\n",
    "    dE = rSE - rEI\n",
    "    dI = rEI - rIR \n",
    "    dR = rIR\n",
    "    \n",
    "    dH = rEI - H * (1/Th)\n",
    "    dL = H * (1/Th) - L * (1/Tl)\n",
    "    \n",
    "    retvals = [dS,dE,dI,dR,dH,dL]\n",
    "    \n",
    "    return(retvals)\n",
    "\n",
    "# population size\n",
    "\n",
    "N = 320000000.0\n",
    "\n",
    "# initial population with 1 infected individual\n",
    "\n",
    "p0 = [N-1,0,1,0,0,0]\n",
    "\n",
    "# time frame to examine\n",
    "# in daus\n",
    "\n",
    "params = {}\n",
    "\n",
    "params['R0'] = 2\n",
    "params['Te'] = 3\n",
    "params['Ti'] = 7\n",
    "params['Th'] = 10\n",
    "params['Tl'] = 28\n",
    "\n",
    "\n",
    "time_start = 0\n",
    "time_end = 1000\n",
    "\n",
    "sol = solve_ivp(SEIR_feedback_model,[time_start,time_end],p0,args=(params,),dense_output=True)\n",
    "\n",
    "time_plot = np.arange(0,1000,1.0)\n",
    "\n",
    "(S,E,I,R,H,L) = sol.sol(time_plot)\n",
    "\n",
    "N = S+E+I+R\n",
    "\n",
    "#plt.plot(S,label=\"S\")\n",
    "#plt.plot(E,label=\"E\")\n",
    "plt.plot(I/N,label=\"I\")\n",
    "#plt.plot(R,label=\"R\")\n",
    "plt.plot(L/N,label=\"L\")\n",
    "plt.legend()"
   ]
  },
  {
   "cell_type": "code",
   "execution_count": 47,
   "metadata": {},
   "outputs": [
    {
     "data": {
      "text/plain": [
       "<matplotlib.legend.Legend at 0x7fcfb065b130>"
      ]
     },
     "execution_count": 47,
     "metadata": {},
     "output_type": "execute_result"
    },
    {
     "data": {
      "image/png": "[encoded data removed]",
      "text/plain": [
       "<Figure size 432x288 with 1 Axes>"
      ]
     },
     "metadata": {
      "needs_background": "light"
     },
     "output_type": "display_data"
    }
   ],
   "source": [
    "R0 = 2\n",
    "fL = L/N\n",
    "Lref = .05\n",
    "Reff = np.clip(R0 * ((Lref - fL) / Lref), 0.9,R0)\n",
    "plt.plot(time_plot,Reff,label='R')\n",
    "plt.plot(time_plot,I/np.max(I),label=\"I\")\n",
    "plt.legend()"
   ]
  },
  {
   "cell_type": "code",
   "execution_count": null,
   "metadata": {},
   "outputs": [],
   "source": []
  },
  {
   "cell_type": "code",
   "execution_count": null,
   "metadata": {},
   "outputs": [],
   "source": [
    "def SEIR_feedback_model(t,p,params):\n",
    "\n",
    "    # p is a vector of the current population states \n",
    "\n",
    "    (S,E,I,R,H,L) = p\n",
    "\n",
    "    # N is population size\n",
    "    \n",
    "    N = np.sum(p)\n",
    "    \n",
    "    # get these from parameter vector for convenience\n",
    "\n",
    "    R0 = params['R0'] \n",
    "    Te = params['Te']\n",
    "    Ti = params['Ti']\n",
    "    \n",
    "    Th = params['Th']\n",
    "    Tl = params['Tl']\n",
    "    \n",
    "    # modify R based on current infection rate \n",
    "    # instantaneous rate of new infections\n",
    "    \n",
    "    fI = I/N\n",
    "    \n",
    "    fL = L/N\n",
    "    Lref = .05\n",
    "    Reff = np.clip(R0 * ((Lref - fL) / Lref), 0.9,R0)\n",
    "\n",
    "    beta = Reff / Ti\n",
    "\n",
    "    # define rates of state shifts\n",
    "    \n",
    "    rSE = I * beta * (S/N) \n",
    "    rEI = E * (1/Te)\n",
    "    rIR = I * (1/Ti)\n",
    "    \n",
    "    dS = -rSE\n",
    "    dE = rSE - rEI\n",
    "    dI = rEI - rIR \n",
    "    dR = rIR\n",
    "    \n",
    "    dH = rIR - H * (1/Th)\n",
    "    dL = H * (1/Th) - L * (1/Tl)\n",
    "    \n",
    "    retvals = [dS,dE,dI,dR,dH,dL]\n",
    "    \n",
    "    return(retvals)\n",
    "\n",
    "# population size\n",
    "\n",
    "N = 320000000.0\n",
    "\n",
    "# initial population with 1 infected individual\n",
    "\n",
    "p0 = [N-1,0,1,0,0,0]\n",
    "\n",
    "# time frame to examine\n",
    "# in daus\n",
    "\n",
    "params = {}\n",
    "\n",
    "params['R0'] = 4\n",
    "params['Te'] = 3\n",
    "params['Ti'] = 7\n",
    "params['Th'] = 10\n",
    "params['Tl'] = 28\n",
    "\n",
    "\n",
    "time_start = 0\n",
    "time_end = 1000\n",
    "\n",
    "sol = solve_ivp(SEIR_feedback_model,[time_start,time_end],p0,args=(params,),dense_output=True)\n",
    "\n",
    "time_plot = np.arange(0,1000,1.0)\n",
    "\n",
    "(S,E,I,R,H,L) = sol.sol(time_plot)\n",
    "\n",
    "N = S+E+I+R\n",
    "\n",
    "#plt.plot(S,label=\"S\")\n",
    "#plt.plot(E,label=\"E\")\n",
    "plt.plot(I/N,label=\"I\")\n",
    "#plt.plot(R,label=\"R\")\n",
    "plt.plot(L/N,label=\"L\")\n",
    "plt.legend()"
   ]
  },
  {
   "cell_type": "code",
   "execution_count": null,
   "metadata": {},
   "outputs": [],
   "source": []
  },
  {
   "cell_type": "code",
   "execution_count": null,
   "metadata": {
    "scrolled": true
   },
   "outputs": [],
   "source": [
    "def SEIR_feedback_model(t,p,params):\n",
    "\n",
    "    # p is a vector of the current population states \n",
    "\n",
    "    (S,E,I,R,H,L) = p\n",
    "\n",
    "    # N is population size\n",
    "    \n",
    "    N = np.sum(p)\n",
    "    \n",
    "    # get these from parameter vector for convenience\n",
    "\n",
    "    R0 = params['R0'] \n",
    "    Te = params['Te']\n",
    "    Ti = params['Ti']\n",
    "    \n",
    "    Th = params['Th']\n",
    "    Tl = params['Tl']\n",
    "    \n",
    "    # modify R based on current infection rate \n",
    "    # instantaneous rate of new infections\n",
    "\n",
    "    fL = L/N\n",
    "    fL_low = .00\n",
    "    fL_high = .05\n",
    "    mod = np.clip((fL-fL_low)/(fL_high - fL_low),0,1)\n",
    "    mod *= np.exp(-t/10000)\n",
    "    Rmin = .25\n",
    "    Reff = Rmin + (1-mod) * (R0-Rmin)\n",
    "\n",
    "    beta = Reff / Ti\n",
    "\n",
    "    # define rates of state shifts\n",
    "    \n",
    "    rSE = I * beta * (S/N) \n",
    "    rEI = E * (1/Te)\n",
    "    rIR = I * (1/Ti)\n",
    "    \n",
    "    dS = -rSE\n",
    "    dE = rSE - rEI\n",
    "    dI = rEI - rIR \n",
    "    dR = rIR\n",
    "    \n",
    "    dH = rIR - H * (1/Th)\n",
    "    dL = H * (1/Th) - L * (1/Tl)\n",
    "    \n",
    "    retvals = [dS,dE,dI,dR,dH,dL]\n",
    "    \n",
    "    return(retvals)\n",
    "\n",
    "# population size\n",
    "\n",
    "N = 320000000.0\n",
    "\n",
    "# initial population with 1 infected individual\n",
    "\n",
    "p0 = [N-1,0,1,0,0,0]\n",
    "\n",
    "# time frame to examine\n",
    "# in daus\n",
    "\n",
    "params = {}\n",
    "\n",
    "params['R0'] = 4\n",
    "params['Te'] = 3\n",
    "params['Ti'] = 7\n",
    "params['Th'] = 14\n",
    "params['Tl'] = 21\n",
    "\n",
    "\n",
    "time_start = 0\n",
    "time_end = 1000\n",
    "\n",
    "sol = solve_ivp(SEIR_feedback_model,[time_start,time_end],p0,args=(params,),dense_output=True)\n",
    "\n",
    "time_plot = np.arange(0,1000,1.0)\n",
    "\n",
    "(S,E,I,R,H,L) = sol.sol(time_plot)\n",
    "\n",
    "N = S+E+I+R\n",
    "\n",
    "#plt.plot(S,label=\"S\")\n",
    "#plt.plot(E,label=\"E\")\n",
    "plt.plot(I/N,label=\"I\")\n",
    "#plt.plot(R,label=\"R\")\n",
    "plt.plot(L/N,label=\"L\")\n",
    "plt.legend()"
   ]
  },
  {
   "cell_type": "code",
   "execution_count": null,
   "metadata": {},
   "outputs": [],
   "source": []
  },
  {
   "cell_type": "code",
   "execution_count": 121,
   "metadata": {},
   "outputs": [],
   "source": [
    "def SIR_model(t,p,params):\n",
    "\n",
    "    # p is a vector of the current population states \n",
    "\n",
    "    (S,I,R) = p\n",
    "\n",
    "    # N is population size\n",
    "    \n",
    "    N = np.sum(p)\n",
    "    \n",
    "    # get these from parameter vector for convenience\n",
    "\n",
    "    R0 = params['R0'] \n",
    "    Ti = params['Ti']\n",
    "    \n",
    "    # instantaneous rate of new infections\n",
    "    \n",
    "    beta = R0 / Ti\n",
    "    \n",
    "    # define rates of state shifts\n",
    "    \n",
    "    # rate of S to I \n",
    "    rSI = I * beta * (S/N) \n",
    "    \n",
    "    # rate of I to R\n",
    "    rIR = I * (1/Ti)\n",
    "    \n",
    "    dS = -rSI\n",
    "    dI = rSI - rIR \n",
    "    dR = rIR\n",
    "\n",
    "    retvals = [dS,dI,dR]\n",
    "    \n",
    "    return(retvals)\n",
    "\n",
    "def SIR_solve(gparams):\n",
    "    N,R0,Ti = gparams\n",
    "    p0 = [N-1,1,0]\n",
    "    \n",
    "    params = {}\n",
    "\n",
    "    params['R0'] = R0\n",
    "    params['Ti'] = Ti\n",
    "\n",
    "    time_start = 0\n",
    "    time_end = 1000\n",
    "\n",
    "    sol = solve_ivp(SIR_model,[time_start,time_end],p0,args=(params,),dense_output=True)\n",
    "    \n",
    "    times = np.arange(time_start,time_end)\n",
    "    return sol.sol(time_plot)\n",
    "\n",
    "def SIR_fit(gparams,*args):\n",
    "    Io = args[0]\n",
    "    (S,I,R) = SIR_solve(gparams)\n",
    "    return np.sum(np.square(I-Io))/len(S)\n"
   ]
  },
  {
   "cell_type": "code",
   "execution_count": 122,
   "metadata": {},
   "outputs": [],
   "source": [
    "gparams = [320000000,4,7]\n",
    "\n",
    "(Si,Ii,Ri) = SIR_solve(gparams)"
   ]
  },
  {
   "cell_type": "code",
   "execution_count": 134,
   "metadata": {},
   "outputs": [
    {
     "data": {
      "text/plain": [
       "[<matplotlib.lines.Line2D at 0x7fcfa0fb8550>]"
      ]
     },
     "execution_count": 134,
     "metadata": {},
     "output_type": "execute_result"
    },
    {
     "data": {
      "image/png": "[encoded data removed]",
      "text/plain": [
       "<Figure size 432x288 with 1 Axes>"
      ]
     },
     "metadata": {
      "needs_background": "light"
     },
     "output_type": "display_data"
    }
   ],
   "source": [
    "#plt.plot(Si)\n",
    "plt.plot(Ii)\n",
    "#plt.plot(Ri)"
   ]
  },
  {
   "cell_type": "code",
   "execution_count": 139,
   "metadata": {},
   "outputs": [
    {
     "data": {
      "text/plain": [
       "233840385947088.7"
      ]
     },
     "execution_count": 139,
     "metadata": {},
     "output_type": "execute_result"
    }
   ],
   "source": [
    "gguess = [300000000,3.5,8]\n",
    "\n",
    "SIR_fit(gguess,Ii)"
   ]
  },
  {
   "cell_type": "code",
   "execution_count": 140,
   "metadata": {},
   "outputs": [],
   "source": [
    "import scipy.optimize\n",
    "from scipy.optimize import least_squares, minimize"
   ]
  },
  {
   "cell_type": "code",
   "execution_count": 141,
   "metadata": {},
   "outputs": [
    {
     "data": {
      "text/plain": [
       "      fun: 14.516834646232944\n",
       " hess_inv: array([[ 3.02293169e+03, -3.20203852e-05, -7.25390585e-05],\n",
       "       [-3.20203684e-05,  3.77055779e-13,  8.49583185e-13],\n",
       "       [-7.25390160e-05,  8.49583127e-13,  1.91941026e-12]])\n",
       "      jac: array([ 3.25293605e-02,  3.85684065e+07, -1.48885704e+07])\n",
       "  message: 'Desired error not necessarily achieved due to precision loss.'\n",
       "     nfev: 264\n",
       "      nit: 24\n",
       "     njev: 63\n",
       "   status: 2\n",
       "  success: False\n",
       "        x: array([3.20000289e+08, 3.99999680e+00, 6.99999270e+00])"
      ]
     },
     "execution_count": 141,
     "metadata": {},
     "output_type": "execute_result"
    }
   ],
   "source": [
    "minimize(SIR_fit,gguess,args=[Ii])"
   ]
  },
  {
   "cell_type": "code",
   "execution_count": 130,
   "metadata": {},
   "outputs": [
    {
     "data": {
      "text/plain": [
       "      fun: 183025883670689.44\n",
       " hess_inv: array([[1.00000000e+00, 1.55354585e-08, 2.62358854e-08],\n",
       "       [1.55354585e-08, 1.91507432e-01, 6.12920612e-01],\n",
       "       [2.62358854e-08, 6.12920612e-01, 1.96165587e+00]])\n",
       "      jac: array([0., 0., 0.])\n",
       "  message: 'Optimization terminated successfully.'\n",
       "     nfev: 20\n",
       "      nit: 2\n",
       "     njev: 5\n",
       "   status: 0\n",
       "  success: True\n",
       "        x: array([ 3.20000000e+08,  3.09130211e+00, -3.24759453e+00])"
      ]
     },
     "execution_count": 130,
     "metadata": {},
     "output_type": "execute_result"
    }
   ],
   "source": [
    "minout"
   ]
  },
  {
   "cell_type": "code",
   "execution_count": 131,
   "metadata": {},
   "outputs": [],
   "source": [
    "(S,I,R) = SIR_solve([ 3.20000000e+08,  3.09130211e+00, -3.24759453e+00])"
   ]
  },
  {
   "cell_type": "code",
   "execution_count": 133,
   "metadata": {},
   "outputs": [
    {
     "data": {
      "text/plain": [
       "[<matplotlib.lines.Line2D at 0x7fcfa0a5ba60>]"
      ]
     },
     "execution_count": 133,
     "metadata": {},
     "output_type": "execute_result"
    },
    {
     "data": {
      "image/png": "[encoded data removed]",
      "text/plain": [
       "<Figure size 432x288 with 1 Axes>"
      ]
     },
     "metadata": {
      "needs_background": "light"
     },
     "output_type": "display_data"
    }
   ],
   "source": [
    "plt.plot(I)\n",
    "plt.plot(Ii)"
   ]
  },
  {
   "cell_type": "markdown",
   "metadata": {},
   "source": [
    "## How can we add hospitalizations?"
   ]
  },
  {
   "cell_type": "code",
   "execution_count": null,
   "metadata": {},
   "outputs": [],
   "source": []
  },
  {
   "cell_type": "markdown",
   "metadata": {},
   "source": [
    "S->I\n",
    "I->R or I->H->R\n",
    "\n",
    "10% of people who are infected get hospitalized \n",
    "time in I = 7\n",
    "time in H = 14\n"
   ]
  },
  {
   "cell_type": "code",
   "execution_count": 74,
   "metadata": {},
   "outputs": [],
   "source": [
    "def SIHR_model(t,p,params):\n",
    "\n",
    "    # p is a vector of the current population states \n",
    "\n",
    "    (S,I,H,R) = p\n",
    "\n",
    "    # N is population size\n",
    "    \n",
    "    N = np.sum(p)\n",
    "    \n",
    "    # get these from parameter vector for convenience\n",
    "\n",
    "    R0 = params['R0'] \n",
    "    Ti = params['Ti']\n",
    "    Th = params['Th']\n",
    "    \n",
    "    #fraction of infected individuals who get hospitalized\n",
    "    Fih = params['Fih']\n",
    "    Fir = 1 - Fih\n",
    "    \n",
    "    # instantaneous rate of new infections\n",
    "    \n",
    "    beta = R0 / Ti\n",
    "    \n",
    "    # define rates of state shifts\n",
    "\n",
    "    rSI = I * beta * (S/N) \n",
    "    \n",
    "    rIR = Fir * I * (1/Ti)\n",
    "    rIH = Fih * I * (1/Ti)\n",
    "\n",
    "    rHR = H * (1/Th)\n",
    "    \n",
    "    dS = -rSI\n",
    "    dI = rSI - rIR - rIH\n",
    "    dH = rIH - rHR\n",
    "    dR = rIR + rHR\n",
    "\n",
    "    retvals = [dS,dI,dH,dR]\n",
    "    \n",
    "    return(retvals)"
   ]
  },
  {
   "cell_type": "code",
   "execution_count": 81,
   "metadata": {},
   "outputs": [],
   "source": [
    "# population size\n",
    "\n",
    "N = 320000000.0\n",
    "\n",
    "# initial population with 1 infected individual\n",
    "\n",
    "# \n",
    "\n",
    "S0 = N - 1\n",
    "I0 = 1\n",
    "H0 = 0\n",
    "R0 = 0\n",
    "\n",
    "p0 = [S0,I0,H0,R0]\n",
    "\n",
    "# time frame to examine\n",
    "# in daus\n",
    "\n",
    "params = {}\n",
    "\n",
    "params['R0'] = 4\n",
    "params['Ti'] = 7\n",
    "params['Th'] = 15\n",
    "params['Fih'] = .01\n",
    "\n",
    "time_start = 0\n",
    "time_end = 1000\n",
    "\n",
    "sol = solve_ivp(SIHR_model,[time_start,time_end],p0,args=(params,),dense_output=True)\n",
    "\n",
    "time_plot = np.arange(0,1000,1.0)\n",
    "\n",
    "(S,I,H,R) = sol.sol(time_plot)"
   ]
  },
  {
   "cell_type": "code",
   "execution_count": 83,
   "metadata": {},
   "outputs": [
    {
     "data": {
      "text/plain": [
       "(0.0, 365.0)"
      ]
     },
     "execution_count": 83,
     "metadata": {},
     "output_type": "execute_result"
    },
    {
     "data": {
      "image/png": "[encoded data removed]",
      "text/plain": [
       "<Figure size 432x288 with 1 Axes>"
      ]
     },
     "metadata": {
      "needs_background": "light"
     },
     "output_type": "display_data"
    }
   ],
   "source": [
    "plt.plot(time_plot,H)\n",
    "#plt.plot(time_plot,I/N)\n",
    "plt.xlim(0,365)"
   ]
  },
  {
   "cell_type": "code",
   "execution_count": 80,
   "metadata": {},
   "outputs": [
    {
     "data": {
      "text/plain": [
       "(0.0, 365.0)"
      ]
     },
     "execution_count": 80,
     "metadata": {},
     "output_type": "execute_result"
    },
    {
     "data": {
      "image/png": "[encoded data removed]",
      "text/plain": [
       "<Figure size 432x288 with 1 Axes>"
      ]
     },
     "metadata": {
      "needs_background": "light"
     },
     "output_type": "display_data"
    }
   ],
   "source": [
    "plt.plot(time_plot,I/N)\n",
    "plt.xlim(0,365)"
   ]
  },
  {
   "cell_type": "code",
   "execution_count": null,
   "metadata": {},
   "outputs": [],
   "source": []
  }
 ],
 "metadata": {
  "kernelspec": {
   "display_name": "Python 3",
   "language": "python",
   "name": "python3"
  },
  "language_info": {
   "codemirror_mode": {
    "name": "ipython",
    "version": 3
   },
   "file_extension": ".py",
   "mimetype": "text/x-python",
   "name": "python",
   "nbconvert_exporter": "python",
   "pygments_lexer": "ipython3",
   "version": "3.8.3"
  }
 },
 "nbformat": 4,
 "nbformat_minor": 2
}
