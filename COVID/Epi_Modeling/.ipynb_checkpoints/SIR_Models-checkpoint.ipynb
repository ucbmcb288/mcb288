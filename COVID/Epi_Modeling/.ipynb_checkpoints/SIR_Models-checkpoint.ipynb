{
 "cells": [
  {
   "cell_type": "code",
   "execution_count": 35,
   "metadata": {},
   "outputs": [],
   "source": [
    "import scipy\n",
    "from scipy.integrate import solve_ivp\n",
    "import numpy as np\n",
    "import matplotlib.pyplot as plt\n",
    "import pandas as pd"
   ]
  },
  {
   "cell_type": "markdown",
   "metadata": {},
   "source": [
    "## SIR Models\n",
    "\n",
    "The simplest model of an infectious disease considers the transition of members of a population between three states:\n",
    "\n",
    "Susceptible (S) - people who have never been infected\n",
    "Infected (I) - people"
   ]
  },
  {
   "cell_type": "code",
   "execution_count": null,
   "metadata": {},
   "outputs": [],
   "source": []
  },
  {
   "cell_type": "code",
   "execution_count": null,
   "metadata": {},
   "outputs": [],
   "source": []
  },
  {
   "cell_type": "code",
   "execution_count": null,
   "metadata": {},
   "outputs": [],
   "source": []
  },
  {
   "cell_type": "code",
   "execution_count": null,
   "metadata": {},
   "outputs": [],
   "source": []
  },
  {
   "cell_type": "code",
   "execution_count": 130,
   "metadata": {},
   "outputs": [],
   "source": [
    "states = 'SEIR'\n",
    "\n",
    "def init_params():\n",
    "    params = {}\n",
    "    \n",
    "    params['R0'] = 4\n",
    "    params['Te'] = 3\n",
    "    params['Ti'] = 7\n",
    "    \n",
    "    return params\n",
    "\n",
    "\n",
    "def model_SEIR(t,p,params):\n",
    "\n",
    "    N = np.sum(p)\n",
    "    (S,E,I,R) = p\n",
    "\n",
    "    R0 = params['R0'] \n",
    "    Te = params['Te']\n",
    "    Ti = params['Ti']\n",
    "    \n",
    "    beta = R0 / Ti\n",
    "    \n",
    "    dSE = (S/N) * beta * I\n",
    "    dEI = E * (1/Te)\n",
    "    dIR = I * (1/Ti)\n",
    "    \n",
    "    dS = -dSE\n",
    "    dE = dSE - dEI \n",
    "    dI = dEI - dIR \n",
    "    dR = dIR\n",
    "\n",
    "    retvals = [dS,dE,dI,dR]\n",
    "    \n",
    "    return(retvals)"
   ]
  },
  {
   "cell_type": "code",
   "execution_count": 131,
   "metadata": {
    "scrolled": false
   },
   "outputs": [],
   "source": [
    "N = 320000000.0\n",
    "Iinit = 1\n",
    "params = init_params()\n",
    "p0 = [N-Iinit,0,Iinit,0]\n",
    "time = np.arange(0,365.0,1.0)\n",
    "\n",
    "sol = solve_ivp(model_SEIR,[0,1000],p0,args=(params,),dense_output=True)\n",
    "(S,E,I,R) = sol.sol(time)"
   ]
  },
  {
   "cell_type": "code",
   "execution_count": 132,
   "metadata": {
    "scrolled": true
   },
   "outputs": [
    {
     "data": {
      "text/plain": [
       "<matplotlib.legend.Legend at 0x7f89d91b5dd0>"
      ]
     },
     "execution_count": 132,
     "metadata": {},
     "output_type": "execute_result"
    },
    {
     "data": {
      "image/png": "[encoded data removed]",
      "text/plain": [
       "<Figure size 432x288 with 1 Axes>"
      ]
     },
     "metadata": {
      "needs_background": "light"
     },
     "output_type": "display_data"
    }
   ],
   "source": [
    "plt.plot(S,label=\"S\")\n",
    "plt.plot(E,label=\"E\")\n",
    "plt.plot(I,label=\"I\")\n",
    "plt.plot(R,label=\"R\")\n",
    "plt.legend()"
   ]
  }
 ],
 "metadata": {
  "kernelspec": {
   "display_name": "Python 3",
   "language": "python",
   "name": "python3"
  },
  "language_info": {
   "codemirror_mode": {
    "name": "ipython",
    "version": 3
   },
   "file_extension": ".py",
   "mimetype": "text/x-python",
   "name": "python",
   "nbconvert_exporter": "python",
   "pygments_lexer": "ipython3",
   "version": "3.8.3"
  }
 },
 "nbformat": 4,
 "nbformat_minor": 2
}
