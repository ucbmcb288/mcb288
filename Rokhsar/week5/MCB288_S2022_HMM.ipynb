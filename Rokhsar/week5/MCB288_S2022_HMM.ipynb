{
 "cells": [
  {
   "cell_type": "markdown",
   "metadata": {},
   "source": [
    "# Hidden Markov Models \n",
    "\n",
    "#### February 14, 2022\n",
    "\n",
    "How to segment a sequence into sub-sequences according to their statistical properties\n",
    "\n",
    "Note: here sequence has a very general meaning, it could be any (one-dimensional) ordered set.\n",
    "\n",
    "https://www.digitalvidya.com/blog/inroduction-to-hidden-markov-models-using-python/\n",
    "\n",
    "## What is a Markov model? A random process where the future depends only on the present\n",
    "\n",
    "Examples: a series of coin flips. (trivial: no dependence on current state).\n",
    "\n",
    "We can imagine a genome sequence where the probability of the next nucleotide depends on the current one.\n",
    "\n",
    "## What is a Hidden Markov Model? there is an underlying markov model.  but we don't get to see it.  instead, we observe correlates of that \"hidden\" state"
   ]
  },
  {
   "cell_type": "code",
   "execution_count": 8,
   "metadata": {},
   "outputs": [],
   "source": [
    "import numpy as np\n",
    "import pandas as pd\n",
    "import networkx as nx                         # networkx\n",
    "\n",
    "import networkx.drawing.nx_pydot as pydot     # pydot?\n",
    "\n",
    "import matplotlib.pyplot as plt\n",
    "from pprint import pprint                  # nice printing of arrays\n",
    "##matplotlib inline"
   ]
  },
  {
   "cell_type": "code",
   "execution_count": 2,
   "metadata": {},
   "outputs": [
    {
     "name": "stdout",
     "output_type": "stream",
     "text": [
      "\n",
      "The following command must be run outside of the IPython shell:\n",
      "\n",
      "    $ pip install pydot\n",
      "\n",
      "The Python package manager (pip) can only be used from outside of IPython.\n",
      "Please reissue the `pip` command in a separate terminal or command prompt.\n",
      "\n",
      "See the Python documentation for more information on how to install packages:\n",
      "\n",
      "    https://docs.python.org/3/installing/\n"
     ]
    }
   ],
   "source": [
    "pip install pydot"
   ]
  },
  {
   "cell_type": "markdown",
   "metadata": {},
   "source": [
    "## Aim: partition a sequence into (non-overlapping) sub-sequences of several different types.\n",
    "\n",
    "Each \"type\" of sequence has different characteristics, which are evident only by considering local context.\n",
    "\n",
    "Example:\n",
    "* helix/beta-strand/loop\n",
    "* conserved/non-conserved\n",
    "* exon-coding/exon-non-coding/intron/intergenic\n"
   ]
  },
  {
   "cell_type": "markdown",
   "metadata": {},
   "source": []
  },
  {
   "cell_type": "code",
   "execution_count": null,
   "metadata": {},
   "outputs": [],
   "source": []
  },
  {
   "cell_type": "markdown",
   "metadata": {},
   "source": [
    "## Could try windowed averages\n",
    "\n",
    "* but note that we will need to pick an (arbitrary) window size, and if a true instance is shorter than the window we might miss it.  It will also be difficult to identify the boundaries between the different regimes"
   ]
  },
  {
   "cell_type": "code",
   "execution_count": null,
   "metadata": {},
   "outputs": [],
   "source": []
  },
  {
   "cell_type": "markdown",
   "metadata": {},
   "source": [
    "# The occasionally cheating casino - a classic example of a Hidden Markov Model\n",
    "\n",
    "* Fair coin: p(H) = 0.5, p(T) = 0.5\n",
    "* Weighted coin: p(H) = 0.75, p(T) = 0.25\n",
    "\n",
    "Given a series of observations, can we infer whether the data was produced by a fair or a weighted coin?\n",
    "\n",
    "What if the data were produced by a gambler who was mostly using a fair coin, but occasionally (sneakily!) substituting a weighted coin?"
   ]
  },
  {
   "cell_type": "code",
   "execution_count": 9,
   "metadata": {},
   "outputs": [
    {
     "name": "stdout",
     "output_type": "stream",
     "text": [
      "H    0.5\n",
      "T    0.5\n",
      "Name: states, dtype: float64\n",
      "1.0\n"
     ]
    }
   ],
   "source": [
    "## Create *Observable* state space and initial state probabilities\n",
    "states = ['H', 'T']                     # these are the observable states of the system\n",
    "pi = [0.5, 0.5]\n",
    "state_space = pd.Series(pi, index=states, name='states')\n",
    "print(state_space)\n",
    "print(state_space.sum())"
   ]
  },
  {
   "cell_type": "code",
   "execution_count": 11,
   "metadata": {},
   "outputs": [
    {
     "name": "stdout",
     "output_type": "stream",
     "text": [
      "\n",
      "\n",
      "(Hidden) state space:\n",
      "Fair    0.5\n",
      "Load    0.5\n",
      "Name: states, dtype: float64 \n",
      "\n",
      "Sum of hidden state prior probabilities:\n",
      "1.0\n"
     ]
    }
   ],
   "source": [
    "# create Hidden state space and initial state probabilities\n",
    "hidden_states = ['Fair', 'Load']\n",
    "pi = [0.5, 0.5]\n",
    "\n",
    "print('\\n')\n",
    "state_space = pd.Series(pi, index=hidden_states, name='states')\n",
    "print(\"(Hidden) state space:\") \n",
    "print(state_space, \"\\n\")\n",
    "\n",
    "print('Sum of hidden state prior probabilities:')\n",
    "print(state_space.sum())"
   ]
  },
  {
   "cell_type": "code",
   "execution_count": 12,
   "metadata": {},
   "outputs": [
    {
     "name": "stdout",
     "output_type": "stream",
     "text": [
      "transition matrix between hidden states (DataFrame form):\n",
      "     Fair Load\n",
      "Fair  0.9  0.1\n",
      "Load  0.1  0.9 \n",
      "\n",
      "transition matrix between hidden states (matrix form):\n",
      "[[0.9 0.1]\n",
      " [0.1 0.9]] \n",
      "\n",
      "Shape: (2, 2) \n",
      "\n",
      "Sums:\n",
      "Fair    1.0\n",
      "Load    1.0\n",
      "dtype: float64\n"
     ]
    }
   ],
   "source": [
    "# Create transition matrix between hidden states, a (or alpha)\n",
    "\n",
    "a_df = pd.DataFrame(columns=hidden_states, index=hidden_states)\n",
    "a_df.loc[hidden_states[0]] = [0.9, 0.1]\n",
    "a_df.loc[hidden_states[1]] = [0.1, 0.9]\n",
    "\n",
    "print(\"transition matrix between hidden states (DataFrame form):\")\n",
    "print(a_df, \"\\n\")\n",
    "\n",
    "print(\"transition matrix between hidden states (matrix form):\")\n",
    "\n",
    "a = a_df.values\n",
    "print(a,\"\\n\")\n",
    "\n",
    "print(\"Shape:\",a.shape,\"\\n\")\n",
    "\n",
    "print(\"Sums:\")\n",
    "print(a_df.sum(axis=1))"
   ]
  },
  {
   "cell_type": "code",
   "execution_count": 13,
   "metadata": {},
   "outputs": [
    {
     "name": "stdout",
     "output_type": "stream",
     "text": [
      "Emission of observed state Oj when system is in hidden state Si\n",
      "         H     T\n",
      "Fair   0.5   0.5\n",
      "Load  0.75  0.25 \n",
      "\n",
      "matrix form:\n",
      "[[0.5 0.5]\n",
      " [0.75 0.25]] \n",
      "\n",
      "shape: (2, 2) \n",
      "\n",
      "Sums (across)\n",
      "Fair    1.0\n",
      "Load    1.0\n",
      "dtype: float64\n"
     ]
    }
   ],
   "source": [
    "# Create matrix of observation (emission) probabilities, b or beta\n",
    "\n",
    "observable_states = states\n",
    "\n",
    "b_df = pd.DataFrame(columns=observable_states, index=hidden_states)\n",
    "b_df.loc[hidden_states[0]] = [0.5, 0.5]\n",
    "b_df.loc[hidden_states[1]] = [0.75, 0.25]\n",
    "\n",
    "print(\"Emission of observed state Oj when system is in hidden state Si\")\n",
    "print(b_df,\"\\n\")\n",
    "\n",
    "b = b_df.values\n",
    "print(\"matrix form:\")\n",
    "print(b,\"\\n\")\n",
    "\n",
    "print(\"shape:\",b.shape,\"\\n\")\n",
    "print('Sums (across)')\n",
    "print(b_df.sum(axis=1))"
   ]
  },
  {
   "cell_type": "code",
   "execution_count": 14,
   "metadata": {},
   "outputs": [],
   "source": [
    "# create a function that maps transition probability dataframe\n",
    "# to markov edges and weights\n",
    "\n",
    "def _get_markov_edges(Q):\n",
    "    edges = {}\n",
    "    for col in Q.columns:\n",
    "        for idx in Q.index:\n",
    "            edges[(idx,col)] = Q.loc[idx,col]\n",
    "    return edges"
   ]
  },
  {
   "cell_type": "code",
   "execution_count": 15,
   "metadata": {},
   "outputs": [
    {
     "name": "stdout",
     "output_type": "stream",
     "text": [
      "hidden edge weights:\n",
      "{('Fair', 'Fair'): 0.9,\n",
      " ('Fair', 'Load'): 0.1,\n",
      " ('Load', 'Fair'): 0.1,\n",
      " ('Load', 'Load'): 0.9}\n",
      "\n",
      "\n",
      "emit edge weights:\n",
      "{('Fair', 'H'): 0.5,\n",
      " ('Fair', 'T'): 0.5,\n",
      " ('Load', 'H'): 0.75,\n",
      " ('Load', 'T'): 0.25}\n",
      "\n",
      "\n",
      "Nodes:\n",
      "['Fair', 'Load'] \n",
      "\n",
      "Edges:\n",
      "OutMultiEdgeDataView([('Fair', 'Fair', {'weight': 0.9, 'label': 0.9}), ('Fair', 'Load', {'weight': 0.1, 'label': 0.1}), ('Fair', 'H', {'weight': 0.5, 'label': 0.5}), ('Fair', 'T', {'weight': 0.5, 'label': 0.5}), ('Load', 'Fair', {'weight': 0.1, 'label': 0.1}), ('Load', 'Load', {'weight': 0.9, 'label': 0.9}), ('Load', 'H', {'weight': 0.75, 'label': 0.75}), ('Load', 'T', {'weight': 0.25, 'label': 0.25})])\n"
     ]
    }
   ],
   "source": [
    "# create graph edges and weights\n",
    "\n",
    "hide_edges_wts = _get_markov_edges(a_df)\n",
    "print(\"hidden edge weights:\")\n",
    "pprint(hide_edges_wts)\n",
    "print(\"\\n\")\n",
    "\n",
    "emit_edges_wts = _get_markov_edges(b_df)\n",
    "print(\"emit edge weights:\")\n",
    "pprint(emit_edges_wts)\n",
    "print(\"\\n\")\n",
    "\n",
    "# create graph object\n",
    "G = nx.MultiDiGraph()\n",
    "\n",
    "# nodes correspond to states\n",
    "G.add_nodes_from(hidden_states)\n",
    "print('Nodes:')\n",
    "print(G.nodes(),\"\\n\")\n",
    "\n",
    "# edges represent hidden probabilities\n",
    "for k, v in hide_edges_wts.items():\n",
    "    tmp_origin, tmp_destination = k[0], k[1]\n",
    "    G.add_edge(tmp_origin, tmp_destination, weight=v, label=v)\n",
    "\n",
    "# edges represent emission probabilities\n",
    "for k, v in emit_edges_wts.items():\n",
    "    tmp_origin, tmp_destination = k[0], k[1]\n",
    "    G.add_edge(tmp_origin, tmp_destination, weight=v, label=v)\n",
    "    \n",
    "print('Edges:')\n",
    "pprint(G.edges(data=True))    "
   ]
  },
  {
   "cell_type": "code",
   "execution_count": 16,
   "metadata": {},
   "outputs": [
    {
     "name": "stdout",
     "output_type": "stream",
     "text": [
      "[1 0 0 1 1 1 0 0 1 1 0 0 1 1 0 1 1 1 0 1 0 0 1 0 1 0 1 1 0 0 0 1 0 0 0 1 1\n",
      " 1 1 0 0 0 0 0 1 1 1 1 1 1 0 1 0 0 0 1 0 0 0 1 1 1 0 0 0 0 1 0 1 0 0 0 0 1\n",
      " 1 0 0 0 0 0 1 0 1 1 1 0 0 1 0 1 0 0 1 1 0 1 0 1 0 1]\n",
      "['T', 'H', 'H', 'T', 'T', 'T', 'H', 'H', 'T', 'T', 'H', 'H', 'T', 'T', 'H', 'T', 'T', 'T', 'H', 'T', 'H', 'H', 'T', 'H', 'T', 'H', 'T', 'T', 'H', 'H', 'H', 'T', 'H', 'H', 'H', 'T', 'T', 'T', 'T', 'H', 'H', 'H', 'H', 'H', 'T', 'T', 'T', 'T', 'T', 'T', 'H', 'T', 'H', 'H', 'H', 'T', 'H', 'H', 'H', 'T', 'T', 'T', 'H', 'H', 'H', 'H', 'T', 'H', 'T', 'H', 'H', 'H', 'H', 'T', 'T', 'H', 'H', 'H', 'H', 'H', 'T', 'H', 'T', 'T', 'T', 'H', 'H', 'T', 'H', 'T', 'H', 'H', 'T', 'T', 'H', 'T', 'H', 'T', 'H', 'T']\n"
     ]
    }
   ],
   "source": [
    "# measure a series of coin flips\n",
    "# observations are encoded numerically\n",
    "obs_map = {'H':0, 'T':1}\n",
    "obs = np.random.randint(0,2,100)   #100 random integers in range [0:2] (so excluding 2 itself)\n",
    "\n",
    "print(obs)\n",
    "\n",
    "inv_obs_map = dict((v,k) for k, v in obs_map.items())\n",
    "obs_seq = [inv_obs_map[v] for v in list(obs)]\n",
    "\n",
    "# print( pd.DataFrame(np.column_stack([obs, obs_seq]), \n",
    "#                columns=['Obs_code', 'Obs_seq']) )\n",
    "\n",
    "print(obs_seq)"
   ]
  },
  {
   "cell_type": "markdown",
   "metadata": {},
   "source": [
    "## viterbi algorithm\n",
    "\n",
    "find the series of *hidden* states that maximize the probability of producing the *emitted* states"
   ]
  },
  {
   "cell_type": "code",
   "execution_count": 17,
   "metadata": {},
   "outputs": [],
   "source": [
    "def viterbi(pi,a,b,obs):\n",
    "\n",
    "\tnStates = np.shape(b)[0]\n",
    "\tT = np.shape(obs)[0]\n",
    "\n",
    "\tpath = np.zeros(T)\n",
    "\tdelta = np.zeros((nStates,T))\n",
    "\tphi = np.zeros((nStates,T))\n",
    "\n",
    "\tdelta[:,0] = pi * b[:,obs[0]]\n",
    "\tphi[:,0] = 0\n",
    "\n",
    "\tfor t in range(1,T):\n",
    "\t\tfor s in range(nStates):\n",
    "\t\t\tdelta[s,t] = np.max(delta[:,t-1]*a[:,s])*b[s,obs[t]]\n",
    "\t\t\tphi[s,t] = np.argmax(delta[:,t-1]*a[:,s])\n",
    "\n",
    "\tpath[T-1] = np.argmax(delta[:,T-1])\n",
    "\tfor t in range(T-2,-1,-1):\n",
    "\t\t#path[t] = phi[int(path[t+1]): int(t+1) , int(t+1)]\n",
    "\t\tpath[t] = phi[int(path[t+1]) , int(t+1)]\n",
    "\n",
    "\treturn path,delta, phi"
   ]
  },
  {
   "cell_type": "code",
   "execution_count": 18,
   "metadata": {},
   "outputs": [
    {
     "name": "stdout",
     "output_type": "stream",
     "text": [
      "\n",
      "\n",
      "single best state path:  [0. 0. 0. 0. 0. 0. 0. 0. 0. 0. 0. 0. 0. 0. 0. 0. 0. 0. 0. 0. 0. 0. 0. 0.\n",
      " 0. 0. 0. 0. 0. 0. 0. 0. 0. 0. 0. 0. 0. 0. 0. 0. 0. 0. 0. 0. 0. 0. 0. 0.\n",
      " 0. 0. 0. 0. 0. 0. 0. 0. 0. 0. 0. 0. 0. 0. 0. 0. 0. 0. 0. 0. 0. 0. 0. 0.\n",
      " 0. 0. 0. 0. 0. 0. 0. 0. 0. 0. 0. 0. 0. 0. 0. 0. 0. 0. 0. 0. 0. 0. 0. 0.\n",
      " 0. 0. 0. 0.]\n",
      "['Fair' 'Fair' 'Fair' 'Fair' 'Fair' 'Fair' 'Fair' 'Fair' 'Fair' 'Fair'\n",
      " 'Fair' 'Fair' 'Fair' 'Fair' 'Fair' 'Fair' 'Fair' 'Fair' 'Fair' 'Fair'\n",
      " 'Fair' 'Fair' 'Fair' 'Fair' 'Fair' 'Fair' 'Fair' 'Fair' 'Fair' 'Fair'\n",
      " 'Fair' 'Fair' 'Fair' 'Fair' 'Fair' 'Fair' 'Fair' 'Fair' 'Fair' 'Fair'\n",
      " 'Fair' 'Fair' 'Fair' 'Fair' 'Fair' 'Fair' 'Fair' 'Fair' 'Fair' 'Fair'\n",
      " 'Fair' 'Fair' 'Fair' 'Fair' 'Fair' 'Fair' 'Fair' 'Fair' 'Fair' 'Fair'\n",
      " 'Fair' 'Fair' 'Fair' 'Fair' 'Fair' 'Fair' 'Fair' 'Fair' 'Fair' 'Fair'\n",
      " 'Fair' 'Fair' 'Fair' 'Fair' 'Fair' 'Fair' 'Fair' 'Fair' 'Fair' 'Fair'\n",
      " 'Fair' 'Fair' 'Fair' 'Fair' 'Fair' 'Fair' 'Fair' 'Fair' 'Fair' 'Fair'\n",
      " 'Fair' 'Fair' 'Fair' 'Fair' 'Fair' 'Fair' 'Fair' 'Fair' 'Fair' 'Fair']\n"
     ]
    }
   ],
   "source": [
    "# run viterbi algorithm on our coin data\n",
    "path, delta, phi = viterbi(pi, a, b, obs)\n",
    "print('\\n')\n",
    "print('single best state path: ', path)\n",
    "#print('delta:\\n', delta)\n",
    "#print('phi:\\n', phi)\n",
    "\n",
    "state_map = {0:'Fair', 1:'Load'}\n",
    "state_path = [state_map[v] for v in path]\n",
    "\n",
    "\n",
    "result = (pd.DataFrame()\n",
    " .assign(Observation=obs_seq)\n",
    " .assign(Best_Path=state_path))\n",
    " \n",
    "print(np.array(result.Best_Path))"
   ]
  },
  {
   "cell_type": "code",
   "execution_count": 19,
   "metadata": {},
   "outputs": [],
   "source": [
    "# now try a different sequence\n",
    "obs = np.random.randint(0,2,100)   #100 random integers in range [0:2] (so excluding 2 itself)\n",
    "\n",
    "obs[30:40] = 10*[0]"
   ]
  },
  {
   "cell_type": "code",
   "execution_count": 20,
   "metadata": {},
   "outputs": [
    {
     "name": "stdout",
     "output_type": "stream",
     "text": [
      "[0, 0, 0, 0, 0, 0, 0, 0, 0, 0]\n"
     ]
    }
   ],
   "source": [
    "print(10*[0])"
   ]
  },
  {
   "cell_type": "code",
   "execution_count": 21,
   "metadata": {},
   "outputs": [
    {
     "name": "stdout",
     "output_type": "stream",
     "text": [
      "array([1, 1, 0, 0, 0, 1, 0, 1, 0, 0, 1, 0, 1, 0, 0, 1, 0, 1, 1, 1, 0, 0,\n",
      "       1, 0, 1, 1, 0, 0, 0, 1, 0, 0, 0, 0, 0, 0, 0, 0, 0, 0, 1, 0, 1, 0,\n",
      "       1, 0, 0, 1, 1, 0, 1, 0, 0, 0, 1, 1, 1, 0, 1, 0, 0, 0, 0, 1, 1, 0,\n",
      "       1, 1, 1, 0, 1, 1, 1, 0, 1, 0, 0, 0, 0, 0, 0, 0, 0, 0, 1, 0, 1, 0,\n",
      "       1, 1, 1, 0, 1, 0, 1, 0, 1, 0, 0, 0])\n"
     ]
    }
   ],
   "source": [
    "pprint(obs)"
   ]
  },
  {
   "cell_type": "code",
   "execution_count": 45,
   "metadata": {},
   "outputs": [
    {
     "name": "stdout",
     "output_type": "stream",
     "text": [
      "\n",
      "\n",
      "single best state path:  [0. 0. 0. 0. 0. 0. 0. 0. 0. 0. 0. 0. 0. 0. 0. 0. 0. 0. 0. 0. 0. 0. 0. 0.\n",
      " 0. 0. 0. 0. 0. 1. 1. 1. 1. 1. 1. 1. 1. 1. 1. 1. 1. 0. 0. 0. 0. 0. 0. 0.\n",
      " 0. 0. 0. 0. 0. 0. 0. 0. 0. 0. 0. 0. 0. 0. 0. 0. 0. 0. 0. 0. 0. 0. 0. 0.\n",
      " 0. 0. 0. 0. 0. 0. 0. 0. 0. 0. 0. 0. 0. 0. 0. 0. 0. 0. 0. 0. 0. 0. 0. 0.\n",
      " 0. 0. 0. 0.]\n",
      "phi:\n",
      " [[0. 0. 0. 0. 0. 0. 0. 0. 0. 0. 0. 0. 0. 0. 0. 0. 0. 0. 0. 0. 0. 0. 0. 0.\n",
      "  0. 0. 0. 0. 0. 0. 0. 0. 0. 0. 0. 0. 0. 0. 0. 0. 1. 1. 0. 0. 0. 0. 0. 0.\n",
      "  0. 0. 0. 0. 0. 0. 0. 0. 0. 0. 0. 0. 0. 0. 0. 0. 0. 0. 0. 0. 0. 0. 0. 0.\n",
      "  0. 0. 0. 0. 0. 0. 0. 0. 0. 0. 0. 0. 0. 0. 0. 0. 0. 0. 0. 0. 0. 0. 0. 0.\n",
      "  0. 0. 0. 0.]\n",
      " [0. 1. 1. 1. 1. 0. 0. 0. 0. 1. 1. 1. 1. 1. 1. 1. 1. 1. 1. 1. 1. 1. 1. 0.\n",
      "  1. 0. 0. 0. 0. 0. 1. 1. 1. 1. 1. 1. 1. 1. 1. 1. 1. 1. 1. 1. 1. 1. 1. 1.\n",
      "  1. 1. 1. 1. 1. 1. 1. 1. 1. 1. 1. 1. 1. 1. 1. 1. 1. 1. 1. 1. 0. 1. 0. 0.\n",
      "  0. 0. 0. 0. 0. 0. 1. 0. 0. 0. 0. 0. 0. 1. 0. 0. 1. 0. 1. 0. 0. 1. 1. 1.\n",
      "  1. 0. 1. 1.]]\n",
      "['Fair' 'Fair' 'Fair' 'Fair' 'Fair' 'Fair' 'Fair' 'Fair' 'Fair' 'Fair'\n",
      " 'Fair' 'Fair' 'Fair' 'Fair' 'Fair' 'Fair' 'Fair' 'Fair' 'Fair' 'Fair'\n",
      " 'Fair' 'Fair' 'Fair' 'Fair' 'Fair' 'Fair' 'Fair' 'Fair' 'Fair' 'Load'\n",
      " 'Load' 'Load' 'Load' 'Load' 'Load' 'Load' 'Load' 'Load' 'Load' 'Load'\n",
      " 'Load' 'Fair' 'Fair' 'Fair' 'Fair' 'Fair' 'Fair' 'Fair' 'Fair' 'Fair'\n",
      " 'Fair' 'Fair' 'Fair' 'Fair' 'Fair' 'Fair' 'Fair' 'Fair' 'Fair' 'Fair'\n",
      " 'Fair' 'Fair' 'Fair' 'Fair' 'Fair' 'Fair' 'Fair' 'Fair' 'Fair' 'Fair'\n",
      " 'Fair' 'Fair' 'Fair' 'Fair' 'Fair' 'Fair' 'Fair' 'Fair' 'Fair' 'Fair'\n",
      " 'Fair' 'Fair' 'Fair' 'Fair' 'Fair' 'Fair' 'Fair' 'Fair' 'Fair' 'Fair'\n",
      " 'Fair' 'Fair' 'Fair' 'Fair' 'Fair' 'Fair' 'Fair' 'Fair' 'Fair' 'Fair']\n"
     ]
    }
   ],
   "source": [
    "# run viterbi algorithm (defined below)\n",
    "path, delta, phi = viterbi(pi, a, b, obs)\n",
    "print('\\n')\n",
    "print('single best state path: ', path)\n",
    "# print('delta:\\n', delta)\n",
    "print('phi:\\n', phi)\n",
    "\n",
    "state_map = {0:'Fair', 1:'Load'}\n",
    "state_path = [state_map[v] for v in path]\n",
    "\n",
    "\n",
    "result = (pd.DataFrame()\n",
    " .assign(Observation=obs_seq)\n",
    " .assign(Best_Path=state_path))\n",
    " \n",
    "output = np.array(result.Best_Path)\n",
    "print(output)"
   ]
  },
  {
   "cell_type": "code",
   "execution_count": null,
   "metadata": {},
   "outputs": [],
   "source": []
  },
  {
   "cell_type": "markdown",
   "metadata": {},
   "source": [
    "# CpG islands *******************************"
   ]
  },
  {
   "cell_type": "markdown",
   "metadata": {},
   "source": [
    "### Origin of CpG (CG) islands\n",
    "\n",
    "The CG island is a short stretch of DNA in which the frequency of the CG sequence is higher than other regions. It is also called the CpG island, where \"p\" simply indicates that \"C\" and \"G\" are connected by a phosphodiester bond.\n",
    "\n",
    "CpG islands are often located around the promoters of housekeeping genes (which are essential for general cell functions) or other genes frequently expressed in a cell. At these locations, the CG sequence is not methylated. By contrast, the CG sequences in inactive genes are usually methylated to suppress their expression. The methylated cytosine may be converted to thymine by accidental deamination. Unlike the cytosine to uracil mutation which is efficiently repaired, the cytosine to thymine mutation can be corrected only by the mismatch repair which is very inefficient. Hence, over evolutionary time scales, the methylated CG sequence will be converted to the TG sequence. This explains the deficiency of the CG sequence in inactive genes.\n",
    "\n",
    "http://www.web-books.com/MoBio/Free/Ch7F2.htm\n",
    "\n"
   ]
  },
  {
   "cell_type": "markdown",
   "metadata": {},
   "source": [
    "## Create *Observable* state space and initial state probabilities"
   ]
  },
  {
   "cell_type": "code",
   "execution_count": 15,
   "metadata": {},
   "outputs": [
    {
     "name": "stdout",
     "output_type": "stream",
     "text": [
      "A    0.25\n",
      "T    0.20\n",
      "C    0.35\n",
      "G    0.20\n",
      "Name: states, dtype: float64\n",
      "1.0\n"
     ]
    }
   ],
   "source": [
    "states = ['A', 'T', 'C', 'G']                     # these are the observable states of the system\n",
    "pi = [0.25, 0.2, 0.35, 0.2]                       # this is the chance that the system starts in each state\n",
    "\n",
    "state_space = pd.Series(pi, index=states, name='states')\n",
    "print(state_space)\n",
    "print(state_space.sum())"
   ]
  },
  {
   "cell_type": "markdown",
   "metadata": {},
   "source": []
  },
  {
   "cell_type": "markdown",
   "metadata": {},
   "source": [
    "## NOTE: MAKE SURE THAT ROWS AND COLUMNS ARE AS EXPECTED."
   ]
  },
  {
   "cell_type": "markdown",
   "metadata": {},
   "source": [
    "## Create transition matrix: \n",
    "* the probability that the next site is in state T given that the system is currently in state S\n",
    "* matrix is size (M x M) where M is number of states (here, M=2)"
   ]
  },
  {
   "cell_type": "code",
   "execution_count": 16,
   "metadata": {},
   "outputs": [
    {
     "name": "stdout",
     "output_type": "stream",
     "text": [
      "Data Frame:\n",
      "       A     T    C     G\n",
      "A   0.4   0.2  0.2   0.2\n",
      "T   0.2  0.45  0.1  0.25\n",
      "C  0.25  0.25  0.3   0.2\n",
      "G  0.15  0.25  0.3   0.3 \n",
      "\n",
      "Array:\n",
      " [[0.4 0.2 0.2 0.2]\n",
      " [0.2 0.45 0.1 0.25]\n",
      " [0.25 0.25 0.3 0.2]\n",
      " [0.15 0.25 0.3 0.3]] \n",
      "\n",
      "shape =  (4, 4) \n",
      "\n",
      "Note: the probabilities of going from state Oi to any other state has to add up to 100%\n",
      "A    1.0\n",
      "T    1.0\n",
      "C    1.0\n",
      "G    1.0\n",
      "dtype: float64\n"
     ]
    }
   ],
   "source": [
    "# data frame (easier to read)\n",
    "q_df = pd.DataFrame(columns=states, index=states)\n",
    "#q_df.loc[states[0]] = [0.9, 0.1]     # Fair -> Fair = 90%, Fair -> Biased = 10%\n",
    "#q_df.loc[states[1]] = [0.3, 0.7]     # Biased -> Fair = 30%, Biased -> Biased = 70%\n",
    "\n",
    "q_df = pd.DataFrame(columns=states, index=states)\n",
    "q_df.loc[states[0]] = [0.4, 0.2, 0.2, 0.2]\n",
    "q_df.loc[states[1]] = [0.2, 0.45, 0.1, 0.25]\n",
    "q_df.loc[states[2]] = [0.25, 0.25, .3, 0.2]\n",
    "q_df.loc[states[3]] = [0.15, 0.25, .3, 0.3]\n",
    "\n",
    "print(\"Data Frame:\\n\",q_df,\"\\n\")\n",
    "\n",
    "# make an array (suitable for use with HMM codes)\n",
    "q = q_df.values\n",
    "\n",
    "print(\"Array:\\n\",q,\"\\n\")\n",
    "\n",
    "print('shape = ',q.shape,\"\\n\")\n",
    "\n",
    "print(\"Note: the probabilities of going from state Oi to any other state has to add up to 100%\")\n",
    "\n",
    "print(q_df.sum(axis=1))"
   ]
  },
  {
   "cell_type": "markdown",
   "metadata": {},
   "source": [
    "# now make a graph: \n",
    "\n",
    "## First create a function that maps transition probability dataframe to Markov edges and weights"
   ]
  },
  {
   "cell_type": "code",
   "execution_count": 17,
   "metadata": {},
   "outputs": [
    {
     "name": "stdout",
     "output_type": "stream",
     "text": [
      "{('A', 'A'): 0.4,\n",
      " ('A', 'C'): 0.2,\n",
      " ('A', 'G'): 0.2,\n",
      " ('A', 'T'): 0.2,\n",
      " ('C', 'A'): 0.25,\n",
      " ('C', 'C'): 0.3,\n",
      " ('C', 'G'): 0.2,\n",
      " ('C', 'T'): 0.25,\n",
      " ('G', 'A'): 0.15,\n",
      " ('G', 'C'): 0.3,\n",
      " ('G', 'G'): 0.3,\n",
      " ('G', 'T'): 0.25,\n",
      " ('T', 'A'): 0.2,\n",
      " ('T', 'C'): 0.1,\n",
      " ('T', 'G'): 0.25,\n",
      " ('T', 'T'): 0.45}\n"
     ]
    }
   ],
   "source": [
    "def _get_markov_edges(Q):\n",
    "    edges = {}\n",
    "    for col in Q.columns:\n",
    "        for idx in Q.index:\n",
    "            edges[(idx,col)] = Q.loc[idx,col]\n",
    "    return edges\n",
    "\n",
    "edges_wts = _get_markov_edges(q_df)\n",
    "pprint(edges_wts)"
   ]
  },
  {
   "cell_type": "markdown",
   "metadata": {},
   "source": [
    "## Use this function to create a graph object (networkx)"
   ]
  },
  {
   "cell_type": "code",
   "execution_count": 18,
   "metadata": {},
   "outputs": [
    {
     "name": "stdout",
     "output_type": "stream",
     "text": [
      "Nodes:\n",
      "\n",
      "['A', 'T', 'C', 'G']\n",
      "\n",
      "\n",
      "Edges:\n",
      "OutMultiEdgeDataView([('A', 'A', {'weight': 0.4, 'label': 0.4}), ('A', 'T', {'weight': 0.2, 'label': 0.2}), ('A', 'C', {'weight': 0.2, 'label': 0.2}), ('A', 'G', {'weight': 0.2, 'label': 0.2}), ('T', 'A', {'weight': 0.2, 'label': 0.2}), ('T', 'T', {'weight': 0.45, 'label': 0.45}), ('T', 'C', {'weight': 0.1, 'label': 0.1}), ('T', 'G', {'weight': 0.25, 'label': 0.25}), ('C', 'A', {'weight': 0.25, 'label': 0.25}), ('C', 'T', {'weight': 0.25, 'label': 0.25}), ('C', 'C', {'weight': 0.3, 'label': 0.3}), ('C', 'G', {'weight': 0.2, 'label': 0.2}), ('G', 'A', {'weight': 0.15, 'label': 0.15}), ('G', 'T', {'weight': 0.25, 'label': 0.25}), ('G', 'C', {'weight': 0.3, 'label': 0.3}), ('G', 'G', {'weight': 0.3, 'label': 0.3})])\n"
     ]
    }
   ],
   "source": [
    "G = nx.MultiDiGraph()\n",
    "\n",
    "# nodes correspond to states\n",
    "G.add_nodes_from(states)\n",
    "\n",
    "print('Nodes:\\n')\n",
    "print(G.nodes())\n",
    "print('\\n')\n",
    "\n",
    "# edges represent transition probabilities\n",
    "for k, v in edges_wts.items():\n",
    "    tmp_origin, tmp_destination = k[0], k[1]\n",
    "    G.add_edge(tmp_origin, tmp_destination, weight=v, label=v)\n",
    "print('Edges:')\n",
    "pprint(G.edges(data=True))\n"
   ]
  },
  {
   "cell_type": "markdown",
   "metadata": {},
   "source": [
    "## create *Hidden* state space and initial state probabilities"
   ]
  },
  {
   "cell_type": "code",
   "execution_count": 19,
   "metadata": {},
   "outputs": [
    {
     "name": "stdout",
     "output_type": "stream",
     "text": [
      "\n",
      "\n",
      "(Hidden) state space:\n",
      "Std    0.5\n",
      "CpG    0.5\n",
      "Name: states, dtype: float64 \n",
      "\n",
      "Sum of hidden state prior probabilities:\n",
      "1.0\n"
     ]
    }
   ],
   "source": [
    "hidden_states = ['Std', 'CpG']\n",
    "pi = [0.5, 0.5]\n",
    "\n",
    "print('\\n')\n",
    "state_space = pd.Series(pi, index=hidden_states, name='states')\n",
    "print(\"(Hidden) state space:\") \n",
    "print(state_space, \"\\n\")\n",
    "\n",
    "print('Sum of hidden state prior probabilities:')\n",
    "print(state_space.sum())"
   ]
  },
  {
   "cell_type": "markdown",
   "metadata": {},
   "source": [
    "## Create transition matrix between hidden states, a (or alpha)\n",
    "\n",
    "= transition probability matrix of changing states given a state matrix is size (M x M) where M is number of states"
   ]
  },
  {
   "cell_type": "code",
   "execution_count": 20,
   "metadata": {},
   "outputs": [
    {
     "name": "stdout",
     "output_type": "stream",
     "text": [
      "transition matrix between hidden states (DataFrame form):\n",
      "     Std  CpG\n",
      "Std  0.9  0.1\n",
      "CpG  0.1  0.9 \n",
      "\n",
      "transition matrix between hidden states (matrix form):\n",
      "[[0.9 0.1]\n",
      " [0.1 0.9]] \n",
      "\n",
      "Shape: (2, 2) \n",
      "\n",
      "Sums:\n",
      "Std    1.0\n",
      "CpG    1.0\n",
      "dtype: float64\n"
     ]
    }
   ],
   "source": [
    "a_df = pd.DataFrame(columns=hidden_states, index=hidden_states)\n",
    "a_df.loc[hidden_states[0]] = [0.9, 0.1]\n",
    "a_df.loc[hidden_states[1]] = [0.1, 0.9]\n",
    "\n",
    "print(\"transition matrix between hidden states (DataFrame form):\")\n",
    "print(a_df, \"\\n\")\n",
    "\n",
    "print(\"transition matrix between hidden states (matrix form):\")\n",
    "\n",
    "a = a_df.values\n",
    "print(a,\"\\n\")\n",
    "\n",
    "print(\"Shape:\",a.shape,\"\\n\")\n",
    "\n",
    "print(\"Sums:\")\n",
    "print(a_df.sum(axis=1))"
   ]
  },
  {
   "cell_type": "markdown",
   "metadata": {},
   "source": [
    "## Create matrix of observation (emission) probabilities, b or beta\n",
    "\n",
    "= observation probabilities given state matrix is size (M x O) where M is number of states and O is number of different possible observations"
   ]
  },
  {
   "cell_type": "code",
   "execution_count": 21,
   "metadata": {},
   "outputs": [
    {
     "name": "stdout",
     "output_type": "stream",
     "text": [
      "Emission of observed state Oj when system is in hidden state Si\n",
      "        A     T     C     G\n",
      "Std  0.25  0.25  0.25  0.25\n",
      "CpG   0.1   0.1   0.4   0.4 \n",
      "\n",
      "matrix form:\n",
      "[[0.25 0.25 0.25 0.25]\n",
      " [0.1 0.1 0.4 0.4]] \n",
      "\n",
      "shape: (2, 4) \n",
      "\n",
      "Sums (across)\n",
      "Std    1.0\n",
      "CpG    1.0\n",
      "dtype: float64\n"
     ]
    }
   ],
   "source": [
    "observable_states = states\n",
    "\n",
    "b_df = pd.DataFrame(columns=observable_states, index=hidden_states)\n",
    "b_df.loc[hidden_states[0]] = [0.25, 0.25, 0.25, 0.25]\n",
    "b_df.loc[hidden_states[1]] = [0.1, 0.1, 0.4, 0.4]\n",
    "\n",
    "print(\"Emission of observed state Oj when system is in hidden state Si\")\n",
    "print(b_df,\"\\n\")\n",
    "\n",
    "b = b_df.values\n",
    "print(\"matrix form:\")\n",
    "print(b,\"\\n\")\n",
    "\n",
    "print(\"shape:\",b.shape,\"\\n\")\n",
    "print('Sums (across)')\n",
    "print(b_df.sum(axis=1))\n"
   ]
  },
  {
   "cell_type": "markdown",
   "metadata": {},
   "source": [
    "## create graph edges and weights"
   ]
  },
  {
   "cell_type": "code",
   "execution_count": 22,
   "metadata": {},
   "outputs": [
    {
     "name": "stdout",
     "output_type": "stream",
     "text": [
      "hidden edge weights:\n",
      "{('CpG', 'CpG'): 0.9,\n",
      " ('CpG', 'Std'): 0.1,\n",
      " ('Std', 'CpG'): 0.1,\n",
      " ('Std', 'Std'): 0.9}\n",
      "\n",
      "\n",
      "emit edge weights:\n",
      "{('CpG', 'A'): 0.1,\n",
      " ('CpG', 'C'): 0.4,\n",
      " ('CpG', 'G'): 0.4,\n",
      " ('CpG', 'T'): 0.1,\n",
      " ('Std', 'A'): 0.25,\n",
      " ('Std', 'C'): 0.25,\n",
      " ('Std', 'G'): 0.25,\n",
      " ('Std', 'T'): 0.25}\n",
      "\n",
      "\n",
      "Nodes:\n",
      "['Std', 'CpG'] \n",
      "\n",
      "Edges:\n",
      "OutMultiEdgeDataView([('Std', 'Std', {'weight': 0.9, 'label': 0.9}), ('Std', 'CpG', {'weight': 0.1, 'label': 0.1}), ('Std', 'A', {'weight': 0.25, 'label': 0.25}), ('Std', 'T', {'weight': 0.25, 'label': 0.25}), ('Std', 'C', {'weight': 0.25, 'label': 0.25}), ('Std', 'G', {'weight': 0.25, 'label': 0.25}), ('CpG', 'Std', {'weight': 0.1, 'label': 0.1}), ('CpG', 'CpG', {'weight': 0.9, 'label': 0.9}), ('CpG', 'A', {'weight': 0.1, 'label': 0.1}), ('CpG', 'T', {'weight': 0.1, 'label': 0.1}), ('CpG', 'C', {'weight': 0.4, 'label': 0.4}), ('CpG', 'G', {'weight': 0.4, 'label': 0.4})])\n"
     ]
    }
   ],
   "source": [
    "hide_edges_wts = _get_markov_edges(a_df)\n",
    "print(\"hidden edge weights:\")\n",
    "pprint(hide_edges_wts)\n",
    "print(\"\\n\")\n",
    "\n",
    "emit_edges_wts = _get_markov_edges(b_df)\n",
    "print(\"emit edge weights:\")\n",
    "pprint(emit_edges_wts)\n",
    "print(\"\\n\")\n",
    "\n",
    "# create graph object\n",
    "G = nx.MultiDiGraph()\n",
    "\n",
    "# nodes correspond to states\n",
    "G.add_nodes_from(hidden_states)\n",
    "print('Nodes:')\n",
    "print(G.nodes(),\"\\n\")\n",
    "\n",
    "# edges represent hidden probabilities\n",
    "for k, v in hide_edges_wts.items():\n",
    "    tmp_origin, tmp_destination = k[0], k[1]\n",
    "    G.add_edge(tmp_origin, tmp_destination, weight=v, label=v)\n",
    "\n",
    "# edges represent emission probabilities\n",
    "for k, v in emit_edges_wts.items():\n",
    "    tmp_origin, tmp_destination = k[0], k[1]\n",
    "    G.add_edge(tmp_origin, tmp_destination, weight=v, label=v)\n",
    "    \n",
    "print('Edges:')\n",
    "pprint(G.edges(data=True))    "
   ]
  },
  {
   "cell_type": "markdown",
   "metadata": {},
   "source": [
    "## We measure a sequence of observable states (e.g., a DNA or protein sequence)"
   ]
  },
  {
   "cell_type": "code",
   "execution_count": 23,
   "metadata": {},
   "outputs": [
    {
     "name": "stdout",
     "output_type": "stream",
     "text": [
      "   Obs_code Obs_seq\n",
      "0         1       T\n",
      "1         1       T\n",
      "2         2       C\n",
      "3         1       T\n",
      "4         0       A\n",
      "5         1       T\n",
      "6         2       C\n",
      "7         1       T\n",
      "8         3       G\n",
      "9         3       G\n",
      "10        2       C\n",
      "11        3       G\n",
      "12        2       C\n",
      "13        3       G\n",
      "14        2       C\n",
      "15        3       G\n",
      "16        2       C\n",
      "17        3       G\n",
      "18        2       C\n",
      "19        0       A\n",
      "20        2       C\n",
      "21        2       C\n",
      "22        0       A\n",
      "23        1       T\n",
      "24        0       A\n",
      "25        1       T\n"
     ]
    }
   ],
   "source": [
    "# observations are encoded numerically\n",
    "obs_map = {'A':0, 'T':1, 'C':2, 'G':3}\n",
    "obs = np.array([1,1,2,1,0,1,2,1,3,3,2,3,2,3,2,3,2,3,2,0,2,2,0,1,0,1])\n",
    "\n",
    "inv_obs_map = dict((v,k) for k, v in obs_map.items())\n",
    "obs_seq = [inv_obs_map[v] for v in list(obs)]\n",
    "\n",
    "print( pd.DataFrame(np.column_stack([obs, obs_seq]), \n",
    "                columns=['Obs_code', 'Obs_seq']) )"
   ]
  },
  {
   "cell_type": "markdown",
   "metadata": {},
   "source": [
    "## Viterbi algorithm"
   ]
  },
  {
   "cell_type": "code",
   "execution_count": 24,
   "metadata": {},
   "outputs": [],
   "source": [
    "def viterbi(pi,a,b,obs):\n",
    "\n",
    "\tnStates = np.shape(b)[0]\n",
    "\tT = np.shape(obs)[0]\n",
    "\n",
    "\tpath = np.zeros(T)\n",
    "\tdelta = np.zeros((nStates,T))\n",
    "\tphi = np.zeros((nStates,T))\n",
    "\n",
    "\tdelta[:,0] = pi * b[:,obs[0]]\n",
    "\tphi[:,0] = 0\n",
    "\n",
    "\tfor t in range(1,T):\n",
    "\t\tfor s in range(nStates):\n",
    "\t\t\tdelta[s,t] = np.max(delta[:,t-1]*a[:,s])*b[s,obs[t]]\n",
    "\t\t\tphi[s,t] = np.argmax(delta[:,t-1]*a[:,s])\n",
    "\n",
    "\tpath[T-1] = np.argmax(delta[:,T-1])\n",
    "\tfor t in range(T-2,-1,-1):\n",
    "\t\t#path[t] = phi[int(path[t+1]): int(t+1) , int(t+1)]\n",
    "\t\tpath[t] = phi[int(path[t+1]) , int(t+1)]\n",
    "\n",
    "\treturn path,delta, phi"
   ]
  },
  {
   "cell_type": "markdown",
   "metadata": {},
   "source": [
    "## now, we can find the most likely path through the hidden state space given our observations by running the Viterbi algorithm"
   ]
  },
  {
   "cell_type": "code",
   "execution_count": 25,
   "metadata": {},
   "outputs": [
    {
     "name": "stdout",
     "output_type": "stream",
     "text": [
      "\n",
      "\n",
      "single best state path:  [0. 0. 0. 0. 0. 0. 0. 0. 1. 1. 1. 1. 1. 1. 1. 1. 1. 1. 1. 1. 1. 1. 0. 0.\n",
      " 0. 0.]\n",
      "delta:\n",
      " [[1.25000000e-01 2.81250000e-02 6.32812500e-03 1.42382813e-03\n",
      "  3.20361328e-04 7.20812988e-05 1.62182922e-05 3.64911575e-06\n",
      "  8.21051044e-07 1.84736485e-07 4.15657091e-08 9.35228455e-09\n",
      "  2.10426402e-09 4.73459406e-10 1.06528366e-10 2.39688824e-11\n",
      "  5.39299854e-12 1.21342467e-12 3.70604038e-13 1.33417454e-13\n",
      "  3.00189271e-14 6.75425859e-15 1.55618118e-15 3.50140765e-16\n",
      "  7.87816722e-17 1.77258762e-17]\n",
      " [5.00000000e-02 4.50000000e-03 1.62000000e-03 1.45800000e-04\n",
      "  1.42382813e-05 3.20361328e-06 2.88325195e-06 2.59492676e-07\n",
      "  1.45964630e-07 5.25472668e-08 1.89170161e-08 6.81012578e-09\n",
      "  2.45164528e-09 8.82592302e-10 3.17733229e-10 1.14383962e-10\n",
      "  4.11782264e-11 1.48241615e-11 5.33669814e-12 4.80302833e-13\n",
      "  1.72909020e-13 6.22472472e-14 5.60225224e-15 5.04202702e-16\n",
      "  4.53782432e-17 4.08404189e-18]]\n",
      "phi:\n",
      " [[0. 0. 0. 0. 0. 0. 0. 0. 0. 0. 0. 0. 0. 0. 0. 0. 0. 0. 1. 1. 0. 0. 1. 0.\n",
      "  0. 0.]\n",
      " [0. 1. 1. 1. 0. 0. 0. 1. 0. 1. 1. 1. 1. 1. 1. 1. 1. 1. 1. 1. 1. 1. 1. 1.\n",
      "  1. 1.]]\n",
      "   Observation Best_Path\n",
      "0            T       Std\n",
      "1            T       Std\n",
      "2            C       Std\n",
      "3            T       Std\n",
      "4            A       Std\n",
      "5            T       Std\n",
      "6            C       Std\n",
      "7            T       Std\n",
      "8            G       CpG\n",
      "9            G       CpG\n",
      "10           C       CpG\n",
      "11           G       CpG\n",
      "12           C       CpG\n",
      "13           G       CpG\n",
      "14           C       CpG\n",
      "15           G       CpG\n",
      "16           C       CpG\n",
      "17           G       CpG\n",
      "18           C       CpG\n",
      "19           A       CpG\n",
      "20           C       CpG\n",
      "21           C       CpG\n",
      "22           A       Std\n",
      "23           T       Std\n",
      "24           A       Std\n",
      "25           T       Std\n"
     ]
    }
   ],
   "source": [
    "path, delta, phi = viterbi(pi, a, b, obs)\n",
    "print('\\n')\n",
    "print('single best state path: ', path)\n",
    "print('delta:\\n', delta)\n",
    "print('phi:\\n', phi)\n",
    "\n",
    "state_map = {0:'Std', 1:'CpG'}\n",
    "state_path = [state_map[v] for v in path]\n",
    "\n",
    "\n",
    "result = (pd.DataFrame()\n",
    " .assign(Observation=obs_seq)\n",
    " .assign(Best_Path=state_path))\n",
    " \n",
    "print(result)"
   ]
  },
  {
   "cell_type": "code",
   "execution_count": null,
   "metadata": {},
   "outputs": [],
   "source": []
  },
  {
   "cell_type": "markdown",
   "metadata": {},
   "source": [
    "## additional material from cited website"
   ]
  },
  {
   "cell_type": "code",
   "execution_count": 26,
   "metadata": {},
   "outputs": [
    {
     "name": "stdout",
     "output_type": "stream",
     "text": [
      "O1    0.25\n",
      "O2    0.40\n",
      "O3    0.35\n",
      "Name: states, dtype: float64\n",
      "1.0\n",
      "      O1    O2   O3\n",
      "O1   0.4   0.2  0.4\n",
      "O2  0.45  0.45  0.1\n",
      "O3  0.45  0.25  0.3\n",
      "\n",
      "\n",
      "[[0.4 0.2 0.4]\n",
      " [0.45 0.45 0.1]\n",
      " [0.45 0.25 0.3]] (3, 3)\n",
      "\n",
      "\n",
      "O1    1.0\n",
      "O2    1.0\n",
      "O3    1.0\n",
      "dtype: float64\n",
      "{('O1', 'O1'): 0.4,\n",
      " ('O1', 'O2'): 0.2,\n",
      " ('O1', 'O3'): 0.4,\n",
      " ('O2', 'O1'): 0.45,\n",
      " ('O2', 'O2'): 0.45,\n",
      " ('O2', 'O3'): 0.1,\n",
      " ('O3', 'O1'): 0.45,\n",
      " ('O3', 'O2'): 0.25,\n",
      " ('O3', 'O3'): 0.3}\n",
      "Nodes:\n",
      "\n",
      "['O1', 'O2', 'O3']\n",
      "\n",
      "\n",
      "Edges:\n",
      "OutMultiEdgeDataView([('O1', 'O1', {'weight': 0.4, 'label': 0.4}), ('O1', 'O2', {'weight': 0.2, 'label': 0.2}), ('O1', 'O3', {'weight': 0.4, 'label': 0.4}), ('O2', 'O1', {'weight': 0.45, 'label': 0.45}), ('O2', 'O2', {'weight': 0.45, 'label': 0.45}), ('O2', 'O3', {'weight': 0.1, 'label': 0.1}), ('O3', 'O1', {'weight': 0.45, 'label': 0.45}), ('O3', 'O2', {'weight': 0.25, 'label': 0.25}), ('O3', 'O3', {'weight': 0.3, 'label': 0.3})])\n",
      "\n",
      "\n",
      "S1    0.5\n",
      "S2    0.5\n",
      "Name: states, dtype: float64\n",
      "\n",
      "\n",
      "1.0\n",
      "     S1   S2\n",
      "S1  0.7  0.3\n",
      "S2  0.4  0.6\n",
      "\n",
      "\n",
      "[[0.7 0.3]\n",
      " [0.4 0.6]]\n",
      "(2, 2)\n",
      "\n",
      "\n",
      "S1    1.0\n",
      "S2    1.0\n",
      "dtype: float64\n",
      "     O1   O2   O3\n",
      "S1  0.2  0.6  0.2\n",
      "S2  0.4  0.1  0.5\n",
      "\n",
      "\n",
      "[[0.2 0.6 0.2]\n",
      " [0.4 0.1 0.5]]\n",
      "(2, 3)\n",
      "\n",
      "\n",
      "S1    1.0\n",
      "S2    1.0\n",
      "dtype: float64\n",
      "{('S1', 'S1'): 0.7, ('S1', 'S2'): 0.3, ('S2', 'S1'): 0.4, ('S2', 'S2'): 0.6}\n",
      "{('S1', 'O1'): 0.2,\n",
      " ('S1', 'O2'): 0.6,\n",
      " ('S1', 'O3'): 0.2,\n",
      " ('S2', 'O1'): 0.4,\n",
      " ('S2', 'O2'): 0.1,\n",
      " ('S2', 'O3'): 0.5}\n",
      "Nodes:\n",
      "\n",
      "['S1', 'S2']\n",
      "\n",
      "\n",
      "Edges:\n",
      "OutMultiEdgeDataView([('S1', 'S1', {'weight': 0.7, 'label': 0.7}), ('S1', 'S2', {'weight': 0.3, 'label': 0.3}), ('S1', 'O1', {'weight': 0.2, 'label': 0.2}), ('S1', 'O2', {'weight': 0.6, 'label': 0.6}), ('S1', 'O3', {'weight': 0.2, 'label': 0.2}), ('S2', 'S1', {'weight': 0.4, 'label': 0.4}), ('S2', 'S2', {'weight': 0.6, 'label': 0.6}), ('S2', 'O1', {'weight': 0.4, 'label': 0.4}), ('S2', 'O2', {'weight': 0.1, 'label': 0.1}), ('S2', 'O3', {'weight': 0.5, 'label': 0.5})])\n",
      "   Obs_code Obs_seq\n",
      "0         1      O2\n",
      "1         1      O2\n",
      "2         2      O3\n",
      "3         1      O2\n",
      "4         0      O1\n",
      "5         1      O2\n",
      "6         2      O3\n",
      "7         1      O2\n",
      "8         0      O1\n",
      "9         2      O3\n",
      "10        2      O3\n",
      "11        0      O1\n",
      "12        1      O2\n",
      "13        0      O1\n",
      "14        1      O2\n",
      "\n",
      "\n",
      "single best state path:  [0. 0. 0. 0. 0. 0. 0. 0. 1. 1. 1. 1. 0. 0. 0.]\n",
      "delta:\n",
      " [[3.00000000e-01 1.26000000e-01 1.76400000e-02 7.40880000e-03\n",
      "  1.03723200e-03 4.35637440e-04 6.09892416e-05 2.56154815e-05\n",
      "  3.58616741e-06 5.02063437e-07 7.37725866e-08 2.21317760e-08\n",
      "  1.59348787e-08 2.23088302e-09 9.36970868e-10]\n",
      " [5.00000000e-02 9.00000000e-03 1.89000000e-02 1.13400000e-03\n",
      "  8.89056000e-04 5.33433600e-05 6.53456160e-05 3.92073696e-06\n",
      "  3.07385778e-06 9.22157333e-07 2.76647200e-07 6.63953280e-08\n",
      "  3.98371968e-09 1.91218545e-09 1.14731127e-10]]\n",
      "phi:\n",
      " [[0. 0. 0. 0. 0. 0. 0. 0. 0. 0. 1. 1. 1. 0. 0.]\n",
      " [0. 0. 0. 1. 0. 1. 0. 1. 0. 1. 1. 1. 1. 0. 1.]]\n",
      "['S1' 'S1' 'S1' 'S1' 'S1' 'S1' 'S1' 'S1' 'S2' 'S2' 'S2' 'S2' 'S1' 'S1'\n",
      " 'S1']\n"
     ]
    }
   ],
   "source": [
    "\n",
    "# create state space and initial state probabilities\n",
    "\n",
    "states = ['O1', 'O2', 'O3']\n",
    "pi = [0.25, 0.4, 0.35]\n",
    "state_space = pd.Series(pi, index=states, name='states')\n",
    "print(state_space)\n",
    "print(state_space.sum())\n",
    "\n",
    "# create transition matrix\n",
    "# equals transition probability matrix of changing states given a state\n",
    "# matrix is size (M x M) where M is number of states\n",
    "\n",
    "q_df = pd.DataFrame(columns=states, index=states)\n",
    "q_df.loc[states[0]] = [0.4, 0.2, 0.4]\n",
    "q_df.loc[states[1]] = [0.45, 0.45, 0.1]\n",
    "q_df.loc[states[2]] = [0.45, 0.25, .3]\n",
    "\n",
    "print(q_df)\n",
    "\n",
    "q = q_df.values\n",
    "print('\\n')\n",
    "print(q, q.shape)\n",
    "print('\\n')\n",
    "print(q_df.sum(axis=1))\n",
    "\n",
    "from pprint import pprint \n",
    "\n",
    "# create a function that maps transition probability dataframe \n",
    "# to markov edges and weights\n",
    "\n",
    "def _get_markov_edges(Q):\n",
    "    edges = {}\n",
    "    for col in Q.columns:\n",
    "        for idx in Q.index:\n",
    "            edges[(idx,col)] = Q.loc[idx,col]\n",
    "    return edges\n",
    "\n",
    "edges_wts = _get_markov_edges(q_df)\n",
    "pprint(edges_wts)\n",
    "\n",
    "# create graph object\n",
    "G = nx.MultiDiGraph()\n",
    "\n",
    "# nodes correspond to states\n",
    "G.add_nodes_from(states)\n",
    "print('Nodes:\\n')\n",
    "print(G.nodes())\n",
    "print('\\n')\n",
    "\n",
    "# edges represent transition probabilities\n",
    "for k, v in edges_wts.items():\n",
    "    tmp_origin, tmp_destination = k[0], k[1]\n",
    "    G.add_edge(tmp_origin, tmp_destination, weight=v, label=v)\n",
    "print('Edges:')\n",
    "pprint(G.edges(data=True))\n",
    "\n",
    "########################################################################\n",
    "\n",
    "#pos = nx.drawing.nx_pydot.graphviz_layout(G, prog='dot')   # This is where the error ir\n",
    "#nx.draw_networkx(G, pos)\n",
    "\n",
    "# create edge labels for jupyter plot but is not necessary\n",
    "edge_labels = {(n1,n2):d['label'] for n1,n2,d in G.edges(data=True)}\n",
    "# nx.draw_networkx_edge_labels(G , pos, edge_labels=edge_labels) #<<<<<<<<<<<\n",
    "# nx.drawing.nx_pydot.write_dot(G, 'markov.dot')                 #<<<<<<<<<<<\n",
    "plt.show()\n",
    "\n",
    "# create state space and initial state probabilities\n",
    "\n",
    "hidden_states = ['S1', 'S2']\n",
    "pi = [0.5, 0.5]\n",
    "print('\\n')\n",
    "state_space = pd.Series(pi, index=hidden_states, name='states')\n",
    "print(state_space)\n",
    "print('\\n')\n",
    "print(state_space.sum())\n",
    "\n",
    "# create hidden transition matrix\n",
    "# a or alpha \n",
    "#   = transition probability matrix of changing states given a state\n",
    "# matrix is size (M x M) where M is number of states\n",
    "\n",
    "a_df = pd.DataFrame(columns=hidden_states, index=hidden_states)\n",
    "a_df.loc[hidden_states[0]] = [0.7, 0.3]\n",
    "a_df.loc[hidden_states[1]] = [0.4, 0.6]\n",
    "\n",
    "print(a_df)\n",
    "\n",
    "a = a_df.values\n",
    "print('\\n')\n",
    "print(a)\n",
    "print(a.shape)\n",
    "print('\\n')\n",
    "print(a_df.sum(axis=1))\n",
    "\n",
    "# create matrix of observation (emission) probabilities\n",
    "# b or beta = observation probabilities given state\n",
    "# matrix is size (M x O) where M is number of states \n",
    "# and O is number of different possible observations\n",
    "\n",
    "observable_states = states\n",
    "\n",
    "b_df = pd.DataFrame(columns=observable_states, index=hidden_states)\n",
    "b_df.loc[hidden_states[0]] = [0.2, 0.6, 0.2]\n",
    "b_df.loc[hidden_states[1]] = [0.4, 0.1, 0.5]\n",
    "\n",
    "print(b_df)\n",
    "\n",
    "b = b_df.values\n",
    "print('\\n')\n",
    "print(b)\n",
    "print(b.shape)\n",
    "print('\\n')\n",
    "print(b_df.sum(axis=1))\n",
    "\n",
    "# create graph edges and weights\n",
    "\n",
    "hide_edges_wts = _get_markov_edges(a_df)\n",
    "pprint(hide_edges_wts)\n",
    "\n",
    "emit_edges_wts = _get_markov_edges(b_df)\n",
    "pprint(emit_edges_wts)\n",
    "\n",
    "# create graph object\n",
    "G = nx.MultiDiGraph()\n",
    "\n",
    "# nodes correspond to states\n",
    "G.add_nodes_from(hidden_states)\n",
    "print('Nodes:\\n')\n",
    "print(G.nodes())\n",
    "print('\\n')\n",
    "\n",
    "# edges represent hidden probabilities\n",
    "for k, v in hide_edges_wts.items():\n",
    "    tmp_origin, tmp_destination = k[0], k[1]\n",
    "    G.add_edge(tmp_origin, tmp_destination, weight=v, label=v)\n",
    "\n",
    "# edges represent emission probabilities\n",
    "for k, v in emit_edges_wts.items():\n",
    "    tmp_origin, tmp_destination = k[0], k[1]\n",
    "    G.add_edge(tmp_origin, tmp_destination, weight=v, label=v)\n",
    "    \n",
    "print('Edges:')\n",
    "pprint(G.edges(data=True))    \n",
    "\n",
    "# pos = nx.drawing.nx_pydot.graphviz_layout(G, prog='neato') #<<<<<<<<<<<\n",
    "# nx.draw_networkx(G, pos)                                   #<<<<<<<<<<<\n",
    "# plt.show()                                                 #<<<<<<<<<<<\n",
    "\n",
    "# create edge labels \n",
    "emit_edge_labels = {(n1,n2):d['label'] for n1,n2,d in G.edges(data=True)}\n",
    "# nx.draw_networkx_edge_labels(G , pos, edge_labels=emit_edge_labels) #<<<<<<<<<\n",
    "#plt.show()                                                           #<<<<<<<<<\n",
    "# nx.drawing.nx_pydot.write_dot(G, 'hidden_markov.dot')               #<<<<<<<<<\n",
    "\n",
    "# observation sequence of dog's behaviors\n",
    "# observations are encoded numerically\n",
    "\n",
    "obs_map = {'O1':0, 'O2':1, 'O3':2}\n",
    "obs = np.array([1,1,2,1,0,1,2,1,0,2,2,0,1,0,1])\n",
    "\n",
    "inv_obs_map = dict((v,k) for k, v in obs_map.items())\n",
    "obs_seq = [inv_obs_map[v] for v in list(obs)]\n",
    "\n",
    "print( pd.DataFrame(np.column_stack([obs, obs_seq]), \n",
    "                columns=['Obs_code', 'Obs_seq']) )\n",
    "\n",
    "def viterbi(pi,a,b,obs):\n",
    "\n",
    "\tnStates = np.shape(b)[0]\n",
    "\tT = np.shape(obs)[0]\n",
    "\n",
    "\tpath = np.zeros(T)\n",
    "\tdelta = np.zeros((nStates,T))\n",
    "\tphi = np.zeros((nStates,T))\n",
    "\n",
    "\tdelta[:,0] = pi * b[:,obs[0]]\n",
    "\tphi[:,0] = 0\n",
    "\n",
    "\tfor t in range(1,T):\n",
    "\t\tfor s in range(nStates):\n",
    "\t\t\tdelta[s,t] = np.max(delta[:,t-1]*a[:,s])*b[s,obs[t]]\n",
    "\t\t\tphi[s,t] = np.argmax(delta[:,t-1]*a[:,s])\n",
    "\n",
    "\tpath[T-1] = np.argmax(delta[:,T-1])\n",
    "\tfor t in range(T-2,-1,-1):\n",
    "\t\t#path[t] = phi[int(path[t+1]): int(t+1) , int(t+1)]\n",
    "\t\tpath[t] = phi[int(path[t+1]) , int(t+1)]\n",
    "\n",
    "\treturn path,delta, phi\n",
    "\n",
    "path, delta, phi = viterbi(pi, a, b, obs)\n",
    "print('\\n')\n",
    "print('single best state path: ', path)\n",
    "print('delta:\\n', delta)\n",
    "print('phi:\\n', phi)\n",
    "\n",
    "state_map = {0:'S1', 1:'S2'}\n",
    "state_path = [state_map[v] for v in path]\n",
    "\n",
    "\n",
    "result = (pd.DataFrame()\n",
    " .assign(Observation=obs_seq)\n",
    " .assign(Best_Path=state_path))\n",
    " \n",
    "print(np.array(result.Best_Path))"
   ]
  },
  {
   "cell_type": "code",
   "execution_count": null,
   "metadata": {},
   "outputs": [],
   "source": []
  }
 ],
 "metadata": {
  "kernelspec": {
   "display_name": "Python 3",
   "language": "python",
   "name": "python3"
  },
  "language_info": {
   "codemirror_mode": {
    "name": "ipython",
    "version": 3
   },
   "file_extension": ".py",
   "mimetype": "text/x-python",
   "name": "python",
   "nbconvert_exporter": "python",
   "pygments_lexer": "ipython3",
   "version": "3.7.1"
  }
 },
 "nbformat": 4,
 "nbformat_minor": 2
}
