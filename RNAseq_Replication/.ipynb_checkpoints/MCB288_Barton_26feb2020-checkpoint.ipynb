{
 "cells": [
  {
   "cell_type": "code",
   "execution_count": null,
   "metadata": {},
   "outputs": [],
   "source": [
    "%matplotlib inline"
   ]
  },
  {
   "cell_type": "code",
   "execution_count": null,
   "metadata": {},
   "outputs": [],
   "source": [
    "import warnings\n",
    "warnings.filterwarnings('ignore')"
   ]
  },
  {
   "cell_type": "code",
   "execution_count": null,
   "metadata": {},
   "outputs": [],
   "source": [
    "# import libraries \n",
    "\n",
    "import pandas as pd\n",
    "\n",
    "# this is here to shut off some annoying warnings from pandas\n",
    "pd.options.mode.chained_assignment = None\n",
    "\n",
    "# matplotlib is one of the main plotting libraries we're going to use\n",
    "import matplotlib \n",
    "import matplotlib.pyplot as plt\n",
    "%matplotlib inline\n",
    "\n",
    "# the other plotting library is seaborn - we'll use both during the class\n",
    "\n",
    "# import seaborn as sns\n",
    "\n",
    "# numpy and scipy are for handling numerical and scientific data\n",
    "\n",
    "import numpy as np\n",
    "import scipy as sp\n",
    "\n",
    "#import statsmodels.formula.api as smf # basic statistical modeling\n",
    "\n",
    "from scipy.stats.stats import pearsonr \n",
    "\n",
    "import os\n",
    "\n",
    "from scipy import stats\n",
    "from scipy.stats import ks_2samp\n",
    "from scipy.stats import entropy\n",
    "from scipy.stats import norm\n",
    "from scipy.stats import lognorm\n",
    "from scipy.stats import nbinom\n",
    "from scipy.stats.mstats import gmean\n",
    "\n",
    "#from pandas.tools.plotting import scatter_matrix\n",
    "\n"
   ]
  },
  {
   "cell_type": "code",
   "execution_count": null,
   "metadata": {},
   "outputs": [],
   "source": [
    "# load dataframe with expression data\n",
    "\n",
    "datafile = \"data/barton/Barton_combined_Ygenes.txt\"\n",
    "df = pd.read_csv(datafile, sep='\\t')   # the sep='\\t' tells pandas that it is a tab separated file\n",
    "\n",
    "df = df.set_index('Gene')\n",
    "\n",
    "df.head()"
   ]
  },
  {
   "cell_type": "code",
   "execution_count": null,
   "metadata": {},
   "outputs": [],
   "source": [
    "# define some lists of columns\n",
    "\n",
    "exps = {}\n",
    "exps['wt'] = [c for c in df.columns if c.startswith('WT')]\n",
    "exps['mut'] = [c for c in df.columns if c.startswith('Snf2')]\n",
    "\n",
    "# it's possible to \"add\" two python lists to create a new list with the elements of both\n",
    "exps['all'] = exps['wt'] + exps['mut']"
   ]
  },
  {
   "cell_type": "code",
   "execution_count": null,
   "metadata": {},
   "outputs": [],
   "source": [
    "# just to clean data up a tiny bit I'm going to get rid of all genes that are all 0's\n",
    "\n",
    "df = df.dropna().loc[df[exps['all']].sum(axis=1) > 0]"
   ]
  },
  {
   "cell_type": "code",
   "execution_count": null,
   "metadata": {},
   "outputs": [],
   "source": [
    "df['ref'] = df[exps['all']].mean(axis=1)"
   ]
  },
  {
   "cell_type": "code",
   "execution_count": null,
   "metadata": {
    "scrolled": true
   },
   "outputs": [],
   "source": [
    "for c in exps['all']:\n",
    "    colnorm = np.median(df[c]/df['ref'])\n",
    "    df[c] = df[c] / colnorm\n",
    "\n",
    "# recalculate the reference\n",
    "\n",
    "df['ref'] = df[exps['all']].mean(axis=1)"
   ]
  },
  {
   "cell_type": "code",
   "execution_count": null,
   "metadata": {},
   "outputs": [],
   "source": [
    "df"
   ]
  },
  {
   "cell_type": "code",
   "execution_count": null,
   "metadata": {},
   "outputs": [],
   "source": [
    "def plotdiff(df,c1,c2,ax):\n",
    "\n",
    "    # the rest is just what we did before\n",
    "    # except I don't create the figure\n",
    "    \n",
    "    x = df[c1].values\n",
    "    y = df[c2].values\n",
    "\n",
    "    ax.set_xscale('log')\n",
    "    ax.set_yscale('log')\n",
    "\n",
    "    ul = max(max(x),max(y)) * 2\n",
    "\n",
    "    ax.set_xlim(1,ul)\n",
    "    ax.set_ylim(1,ul)\n",
    "\n",
    "    ax.set_xlabel(\"expression in \" + c1)\n",
    "    ax.set_ylabel(\"expression in \" + c2)\n",
    "    ax.set_title(\"Comparison of \" + c1 + \" \" + c2)\n",
    "\n",
    "    oedf = df[df[c2] > 2 * df[c1]]\n",
    "\n",
    "    x = oedf[c1].values\n",
    "    y = oedf[c2].values\n",
    "\n",
    "    ax.scatter(x,y,s=1,c='red', label='2x up, n = %d' % len(oedf))\n",
    "\n",
    "    uedf = df[df[c1] > 2 * df[c2]]\n",
    "\n",
    "    x = uedf[c1].values\n",
    "    y = uedf[c2].values\n",
    "\n",
    "    ax.scatter(x,y,s=1,c='green', label = '2x down, n = %d' % len(uedf))\n",
    "\n",
    "    ucdf = df[(df[c1].between(df[c2] * .5, df[c2] * 2.0))]\n",
    "\n",
    "    x = ucdf[c1].values\n",
    "    y = ucdf[c2].values\n",
    "\n",
    "    # one last little tweek\n",
    "    # i don't want the black spots to dominate visually\n",
    "    # so i make them somewhat dimmer using an \n",
    "    # alpha value of < 1 which makes them somewhat transparent\n",
    "\n",
    "    ax.scatter(x,y,s=1,c='black',alpha=.1)\n",
    "    ax.legend()\n",
    "    "
   ]
  },
  {
   "cell_type": "code",
   "execution_count": null,
   "metadata": {},
   "outputs": [],
   "source": [
    "fig,ax = plt.subplots(1,1,figsize=(6,6))\n",
    "plotdiff(df,'WT_rep01','ref',ax)"
   ]
  },
  {
   "cell_type": "code",
   "execution_count": null,
   "metadata": {},
   "outputs": [],
   "source": [
    "# Does this replicate?\n",
    "\n",
    "wt1 = 'WT_rep01'\n",
    "wt2 = 'WT_rep02'\n",
    "\n",
    "mut1 = 'Snf2_rep01'\n",
    "mut2 = 'Snf2_rep02'\n",
    "\n",
    "cols = [wt1,wt2,mut1,mut2]\n",
    "\n",
    "# create a temporary data frame where any row with values < 1 are removed\n",
    "\n",
    "tdf = df[cols][df > 1].dropna()\n",
    "\n",
    "x = np.log2(tdf[wt1]/tdf[mut1]).values\n",
    "y = np.log2(tdf[wt2]/tdf[mut2]).values\n",
    "\n",
    "c = []\n",
    "s = []\n",
    "\n",
    "for i,vx in enumerate(x):    \n",
    "    if x[i] > 1.0: \n",
    "        if y[i] > 1.0:\n",
    "            c.append('g')\n",
    "            s.append(8)\n",
    "        else:\n",
    "            c.append('r')\n",
    "            s.append(8)\n",
    "    elif x[i] < -1.0:\n",
    "        if y[i] < -1.0:\n",
    "            c.append('g')\n",
    "            s.append(8)\n",
    "        else:\n",
    "            c.append('r')\n",
    "            s.append(8)\n",
    "    else:\n",
    "        c.append('k')\n",
    "        s.append(1)\n",
    "\n",
    "fig = plt.figure(figsize = (4,4))\n",
    "ax = fig.add_subplot(1,1,1)\n",
    "ax.set_xlim(-3,3)\n",
    "ax.set_ylim(-3,3)\n",
    "ax.scatter(x, y, s = s, c = c, edgecolor = 'none')\n",
    "ax.set_xlabel(\"log(fold change) experiment 1\")\n",
    "ax.set_ylabel(\"log(fold change) experiment 2\")\n",
    "#ax.plot(x,x,'r-')"
   ]
  },
  {
   "cell_type": "markdown",
   "metadata": {},
   "source": [
    "### Looking at individual genes\n",
    "\n",
    "Now we are going to start looking at individual genes. The first thing we're doing to do is sort based on the magnitude of the ratio between the WT and Snf2 averages and then plot the individual values."
   ]
  },
  {
   "cell_type": "code",
   "execution_count": null,
   "metadata": {},
   "outputs": [],
   "source": [
    "\n",
    "df['ave_wt'] = df[exps['wt']].mean(axis=1)\n",
    "df['ave_mut'] = df[exps['mut']].mean(axis=1)\n",
    "df['ave'] = df[exps['wt'] + exps['mut']].mean(axis=1)"
   ]
  },
  {
   "cell_type": "code",
   "execution_count": null,
   "metadata": {},
   "outputs": [],
   "source": [
    "fig,ax = plt.subplots(1,1,figsize=(6,6))\n",
    "plotdiff(df,'ave_wt','ave_mut',ax)"
   ]
  },
  {
   "cell_type": "code",
   "execution_count": null,
   "metadata": {
    "scrolled": false
   },
   "outputs": [],
   "source": [
    "# Sort based ratio of snf2 ave vs wt ave\n",
    "\n",
    "aved = {}\n",
    "\n",
    "cols = ['ave_wt','ave_mut']\n",
    "\n",
    "tdf = df[cols][df[cols].max(axis=1) > 10].dropna()\n",
    "\n",
    "for index, row in tdf.iterrows():\n",
    "    mut = row['ave_mut']\n",
    "    wt = row['ave_wt']\n",
    "    \n",
    "    alograt2 = abs(np.log2(mut/wt))\n",
    "    aved[index] = alograt2\n",
    "\n",
    "aved = {k:v for (k,v) in aved.items() if v > 1.0}\n",
    "aveds = sorted(aved.keys(),key = lambda x: aved[x], reverse=True)\n",
    "\n",
    "\n",
    "mut_ind = []\n",
    "mut = []\n",
    "wt_ind = [] \n",
    "wt = []\n",
    "\n",
    "for i,t in enumerate(aveds):\n",
    "    for c in exps['mut']:\n",
    "        mut_ind.append(i+1)\n",
    "        mut.append(df.loc[t,c])\n",
    "    for c in exps['wt']:\n",
    "        wt_ind.append(i+1)\n",
    "        wt.append(df.loc[t,c])\n",
    "        \n",
    "fig = plt.figure(figsize = (10,.1*max(wt_ind)))\n",
    "ax = fig.add_subplot(1,1,1)\n",
    "ax.set_xlim(1,max(wt + mut))\n",
    "ax.set_ylim(max(wt_ind + mut_ind),0)\n",
    "ax.set_xscale(\"log\", nonposx='clip')\n",
    "ax.set_xlabel(\"expression level\")\n",
    "ax.set_ylabel(\"gene - sorted by mut/wt\")\n",
    "ax.scatter(wt,wt_ind,s=12,alpha=.25,c='r',edgecolor='none')\n",
    "ax.scatter(mut,mut_ind,s=12,alpha=.25,c='b',edgecolor='none')"
   ]
  },
  {
   "cell_type": "code",
   "execution_count": null,
   "metadata": {},
   "outputs": [],
   "source": [
    "# look at individual genes\n",
    "\n",
    "gene = aveds[2]\n",
    "\n",
    "mut = []\n",
    "wt = []\n",
    "\n",
    "\n",
    "for c in exps['mut']:\n",
    "    mut.append(np.log10(df.at[gene,c]))\n",
    "for c in exps['wt']:\n",
    "    wt.append(np.log10(df.at[gene,c]))\n",
    "        \n",
    "h = plt.hist(wt, color = 'blue',label='WT')\n",
    "h = plt.hist(mut, color = 'red',label='MUT')\n",
    "plt.xlabel(\"log(expression)\")\n",
    "plt.legend()"
   ]
  },
  {
   "cell_type": "code",
   "execution_count": null,
   "metadata": {},
   "outputs": [],
   "source": [
    "# do the data fit a normal distribution and do we have enough data to do a fit\n",
    "\n",
    "gene = aveds[0]\n",
    "\n",
    "mut = []\n",
    "wt = []\n",
    "\n",
    "for c in exps['mut']:\n",
    "    mut.append(df.at[gene,c])\n",
    "for c in exps['wt']:\n",
    "    wt.append(df.at[gene,c])\n",
    "\n",
    "# Fit a normal distribution to the data:\n",
    "wt_mu, wt_std = norm.fit(wt)\n",
    "mut_mu, mut_std = norm.fit(mut)\n",
    "\n",
    "ax = plt.subplot(2, 1, 1)\n",
    "ax.hist(wt, density=True, bins=15,  alpha=0.6, color='red')\n",
    "xmin, xmax = plt.xlim()\n",
    "x = np.linspace(xmin, xmax, 100)\n",
    "p = norm.pdf(x, wt_mu, wt_std)\n",
    "ax.plot(x, p, 'k', linewidth=2)\n",
    "title = \"Fit results: mu = %.2f,  std = %.2f\" % (wt_mu, wt_std)\n",
    "ax.set_title(title)\n",
    "\n",
    "ax = plt.subplot(2, 1, 2)\n",
    "ax.hist(mut, bins=15, density=True, alpha=0.6, color='blue')\n",
    "xmin, xmax = plt.xlim()\n",
    "x = np.linspace(xmin, xmax, 100)\n",
    "p = norm.pdf(x, mut_mu, mut_std)\n",
    "ax.plot(x, p, 'k', linewidth=2)\n",
    "title = \"Fit results: mu = %.2f,  std = %.2f\" % (mut_mu, mut_std)\n",
    "ax.set_title(title)\n",
    "plt.tight_layout()\n",
    "plt.show()"
   ]
  },
  {
   "cell_type": "code",
   "execution_count": null,
   "metadata": {},
   "outputs": [],
   "source": [
    "# do the data fit a normal distribution and do we have enough data to do a fit\n",
    "\n",
    "gene = aveds[0]\n",
    "\n",
    "mut = []\n",
    "wt = []\n",
    "\n",
    "for c in exps['mut']:\n",
    "    mut.append(np.log10(df.at[gene,c]))\n",
    "for c in exps['wt']:\n",
    "    wt.append(np.log10(df.at[gene,c]))\n",
    "\n",
    "\n",
    "# Fit a normal distribution to the data:\n",
    "wt_mu, wt_std = norm.fit(wt)\n",
    "mut_mu, mut_std = norm.fit(mut)\n",
    "\n",
    "ax = plt.subplot(2, 1, 1)\n",
    "ax.hist(wt, density=True, bins=15,  alpha=0.6, color='red')\n",
    "xmin, xmax = plt.xlim()\n",
    "x = np.linspace(xmin, xmax, 100)\n",
    "p = norm.pdf(x, wt_mu, wt_std)\n",
    "ax.plot(x, p, 'k', linewidth=2)\n",
    "title = \"Fit results: mu = %.2f,  std = %.2f\" % (wt_mu, wt_std)\n",
    "ax.set_title(title)\n",
    "\n",
    "ax = plt.subplot(2, 1, 2)\n",
    "ax.hist(mut, bins=15, density=True, alpha=0.6, color='blue')\n",
    "xmin, xmax = plt.xlim()\n",
    "x = np.linspace(xmin, xmax, 100)\n",
    "p = norm.pdf(x, mut_mu, mut_std)\n",
    "ax.plot(x, p, 'k', linewidth=2)\n",
    "title = \"Fit results: mu = %.2f,  std = %.2f\" % (mut_mu, mut_std)\n",
    "ax.set_title(title)\n",
    "plt.tight_layout()\n",
    "plt.show()"
   ]
  },
  {
   "cell_type": "code",
   "execution_count": null,
   "metadata": {},
   "outputs": [],
   "source": [
    "from scipy.stats import ttest_ind\n",
    "\n",
    "# compare distributions with t-test\n",
    "\n",
    "ttest_ind(wt,mut)"
   ]
  },
  {
   "cell_type": "code",
   "execution_count": null,
   "metadata": {
    "scrolled": false
   },
   "outputs": [],
   "source": [
    "ttestp = {}\n",
    "\n",
    "for index, row in df.iterrows():\n",
    "    mut = row[exps['mut']]\n",
    "    wt = row[exps['wt']]\n",
    "    ttestp[index] = ttest_ind(wt,mut)[1]\n",
    "    \n",
    "ttestps = sorted(ttestp.keys(),key = lambda x: ttestp[x])\n",
    "\n",
    "mut_ind = []\n",
    "mut = []\n",
    "wt_ind = [] \n",
    "wt = []\n",
    "\n",
    "for i,t in enumerate(ttestps[0:100]):\n",
    "    for c in exps['mut']:\n",
    "        mut_ind.append(i+1)\n",
    "        mut.append(df.at[t,c])\n",
    "    for c in exps['wt']:\n",
    "        wt_ind.append(i+1)\n",
    "        wt.append(df.at[t,c])\n",
    "        \n",
    "fig = plt.figure(figsize = (10,.1*max(wt_ind)))\n",
    "ax = fig.add_subplot(1,1,1)\n",
    "ax.set_xlim(1,max(wt + mut))\n",
    "ax.set_ylim(max(wt_ind + mut_ind),0)\n",
    "ax.set_xscale(\"log\", nonposx='clip')\n",
    "ax.set_xlabel(\"expression level\")\n",
    "ax.set_ylabel(\"gene - sorted by KS\")\n",
    "ax.scatter(wt,wt_ind,s=12,alpha=.25,c='r',edgecolor='none')\n",
    "ax.scatter(mut,mut_ind,s=12,alpha=.25,c='b',edgecolor='none')"
   ]
  },
  {
   "cell_type": "markdown",
   "metadata": {},
   "source": [
    "Might be better to treat this as a non-parametric test. The test most commonly used to ask if two distributions are different is the Kolmogorov-Smirnov test. https://en.wikipedia.org/wiki/Kolmogorov%E2%80%93Smirnov_test\n"
   ]
  },
  {
   "cell_type": "code",
   "execution_count": null,
   "metadata": {},
   "outputs": [],
   "source": [
    "ksv = {}\n",
    "\n",
    "for index, row in df.iterrows():\n",
    "    mut = row[exps['mut']]\n",
    "    wt = row[exps['wt']]\n",
    "    ksv[index] = ks_2samp(wt,mut)[1]\n",
    "    \n",
    "ksvs = sorted(ksv.keys(),key = lambda x: ksv[x])\n",
    "\n",
    "mut_ind = []\n",
    "mut = []\n",
    "wt_ind = [] \n",
    "wt = []\n",
    "\n",
    "for i,t in enumerate(ksvs[0:100]):\n",
    "    for c in exps['mut']:\n",
    "        mut_ind.append(i+1)\n",
    "        mut.append(df.at[t,c])\n",
    "    for c in exps['wt']:\n",
    "        wt_ind.append(i+1)\n",
    "        wt.append(df.at[t,c])\n",
    "        \n",
    "fig = plt.figure(figsize = (10,.1*max(wt_ind)))\n",
    "ax = fig.add_subplot(1,1,1)\n",
    "ax.set_xlim(1,max(wt + mut))\n",
    "ax.set_ylim(max(wt_ind + mut_ind),0)\n",
    "ax.set_xscale(\"log\", nonposx='clip')\n",
    "ax.set_xlabel(\"expression level\")\n",
    "ax.set_ylabel(\"gene - sorted by KS\")\n",
    "ax.scatter(wt,wt_ind,s=12,alpha=.25,c='r',edgecolor='none')\n",
    "ax.scatter(mut,mut_ind,s=12,alpha=.25,c='b',edgecolor='none')"
   ]
  },
  {
   "cell_type": "markdown",
   "metadata": {},
   "source": [
    "How does the power of these tests vary as we change the sample size?"
   ]
  },
  {
   "cell_type": "code",
   "execution_count": null,
   "metadata": {},
   "outputs": [],
   "source": [
    "#\n",
    "# generate some synthetic data\n",
    "#\n",
    "\n",
    "foldchange = .5\n",
    "\n",
    "\n",
    "replicates = 10000\n",
    "m1 = 1000\n",
    "m2 = foldchange * m1\n",
    "v = .3\n",
    "\n",
    "wt = np.random.lognormal(np.log(m1),v,replicates)\n",
    "mut = np.random.lognormal(np.log(m2),v,replicates)\n",
    "\n",
    "x = plt.hist(np.log(wt),bins=50,alpha=0.5,density=True)\n",
    "x = plt.hist(np.log(mut),bins=50,alpha=0.5,density=True)\n",
    "\n"
   ]
  },
  {
   "cell_type": "code",
   "execution_count": null,
   "metadata": {},
   "outputs": [],
   "source": [
    "\n",
    "#\n",
    "# lets look at the effect of changing the number of experiments we did\n",
    "#\n",
    "\n",
    "pvals = {}\n",
    "\n",
    "trials = 1000\n",
    "\n",
    "sample_sizes = [2,3,4,5,6,7,8,9,10,15,20]\n",
    "for n in sample_sizes:\n",
    "    pvals[n] = []\n",
    "    for t in range(0,trials):\n",
    "        wtr = np.random.choice(wt,n)\n",
    "        mutr = np.random.choice(mut,n)\n",
    "        #pvals[n].append(-np.log10(ks_2samp(wtr,mutr)[1]))\n",
    "        pvals[n].append(-np.log10(ttest_ind(np.log(wtr),np.log(mutr))[1]))\n",
    "    "
   ]
  },
  {
   "cell_type": "code",
   "execution_count": null,
   "metadata": {},
   "outputs": [],
   "source": [
    "fig, ax = plt.subplots(figsize=(6,4))\n",
    "\n",
    "ax.violinplot(dataset = [pvals[v] for v in sample_sizes])\n",
    "ax.set_title('')\n",
    "ax.yaxis.grid(False)\n",
    "ax.set_xlabel('Sample Size')\n",
    "ax.set_ylabel('-log10(KS p-value)')\n",
    "a = plt.xticks(range(1,len(sample_sizes)+1),sample_sizes)"
   ]
  },
  {
   "cell_type": "code",
   "execution_count": null,
   "metadata": {},
   "outputs": [],
   "source": [
    "\n",
    "#\n",
    "# lets look at the effect of changing the number of experiments we did\n",
    "#\n",
    "\n",
    "vars = {}\n",
    "\n",
    "trials = 1000\n",
    "\n",
    "sample_sizes = [2,3,4,5,6,7,8,9,10,15,20,40]\n",
    "for n in sample_sizes:\n",
    "    vars[n] = []\n",
    "    for t in range(0,trials):\n",
    "        wtr = np.random.choice(wt,n)\n",
    "        vars[n].append(np.std(np.log(wtr)))\n",
    "        \n",
    "fig, ax = plt.subplots()\n",
    "\n",
    "ax.violinplot(dataset = [vars[v] for v in sample_sizes])\n",
    "ax.set_title('')\n",
    "ax.yaxis.grid(False)\n",
    "ax.set_xlabel('Sample Size')\n",
    "ax.set_ylabel('Variance')\n",
    "a = plt.xticks(range(1,len(sample_sizes)+1),sample_sizes)"
   ]
  },
  {
   "cell_type": "code",
   "execution_count": null,
   "metadata": {},
   "outputs": [],
   "source": [
    "for v in [2,5,10,20]:\n",
    "    plt.hist(vars[v],alpha=.5,label='n=%d' %v, histtype='step')\n",
    "\n",
    "plt.legend()"
   ]
  },
  {
   "cell_type": "code",
   "execution_count": null,
   "metadata": {},
   "outputs": [],
   "source": [
    "wt = df[exps['wt']].values\n",
    "mut = df[exps['mut']].values\n",
    "\n",
    "ttest_p = ttest_ind(wt,mut,axis=1).pvalue"
   ]
  },
  {
   "cell_type": "code",
   "execution_count": null,
   "metadata": {
    "scrolled": false
   },
   "outputs": [],
   "source": [
    "h = plt.hist(-np.log10(ttest_p),bins=np.linspace(0,50,50))"
   ]
  },
  {
   "cell_type": "code",
   "execution_count": null,
   "metadata": {},
   "outputs": [],
   "source": [
    "# how many genes are significantly different?\n",
    "\n",
    "# we did 6505 test\n",
    "# with a p-value cutoff of .05\n",
    "# we should conservatively demand p < .05 / 6505\n",
    "\n",
    "p_cut = .05 / 6505\n",
    "\n",
    "len(ttest_p[ttest_p < p_cut])"
   ]
  },
  {
   "cell_type": "code",
   "execution_count": null,
   "metadata": {},
   "outputs": [],
   "source": [
    "# lets do some random sampling of different numbers of experiments\n",
    "\n",
    "n = 2\n",
    "\n",
    "wt_rand_ind = np.random.choice(range(0,48),replace=False,size=n)\n",
    "wt_rand = wt[:,wt_rand_ind]\n",
    "\n",
    "mut_rand_ind = np.random.choice(range(0,48),replace=False,size=n)\n",
    "mut_rand = mut[:,mut_rand_ind]\n",
    "\n",
    "ttest_p_rand = ttest_ind(wt_rand,mut_rand,axis=1).pvalue"
   ]
  },
  {
   "cell_type": "code",
   "execution_count": null,
   "metadata": {},
   "outputs": [],
   "source": [
    "plt_x = -np.log10(ttest_p)\n",
    "plt_y = -np.log10(ttest_p_rand)\n",
    "fig,ax = plt.subplots(1,1,figsize=(5,5))\n",
    "maxval = max(max(plt_x),max(plt_y))\n",
    "ax.scatter(plt_x,plt_y)\n",
    "ax.set_xlim(0,maxval)\n",
    "ax.set_ylim(0,maxval)\n",
    "ax.set_xlabel(\"pvalue from full data\")\n",
    "ax.set_ylabel(\"pvalue from sampled data\")"
   ]
  },
  {
   "cell_type": "code",
   "execution_count": null,
   "metadata": {},
   "outputs": [],
   "source": [
    "# how many genes are significantly different?\n",
    "\n",
    "# we did 6505 test\n",
    "# with a p-value cutoff of .05\n",
    "# we should conservatively demand p < .05 / 6505\n",
    "\n",
    "p_cut = .05 / 6505\n",
    "\n",
    "print (\"Significant in full: \", len(ttest_p[ttest_p < p_cut]))\n",
    "print (\"Significant in sample: \", len(ttest_p_rand[ttest_p_rand < p_cut]))"
   ]
  },
  {
   "cell_type": "code",
   "execution_count": null,
   "metadata": {},
   "outputs": [],
   "source": [
    "data = []\n",
    "for n in range(2,40):\n",
    "    for t in range(0,100):\n",
    "        wt_rand_ind = np.random.choice(range(0,48),replace=False,size=n)\n",
    "        wt_rand = wt[:,wt_rand_ind]\n",
    "\n",
    "        mut_rand_ind = np.random.choice(range(0,48),replace=False,size=n)\n",
    "        mut_rand = mut[:,mut_rand_ind]\n",
    "\n",
    "        ttest_p_rand = ttest_ind(wt_rand,mut_rand,axis=1).pvalue\n",
    "        nsig = len(ttest_p_rand[ttest_p_rand < p_cut])\n",
    "        data.append([n,nsig])\n",
    "        \n",
    "sims = pd.DataFrame(data=data,columns=['n','nsig'])"
   ]
  },
  {
   "cell_type": "code",
   "execution_count": null,
   "metadata": {},
   "outputs": [],
   "source": [
    "fig,ax = plt.subplots()\n",
    "ax.scatter(sims.n,sims.nsig,s=1)\n",
    "t = ax.set_xticks(range(5,40,5))"
   ]
  },
  {
   "cell_type": "code",
   "execution_count": null,
   "metadata": {},
   "outputs": [],
   "source": [
    "data = []\n",
    "for n in range(2,40):\n",
    "    for t in range(0,100):\n",
    "        wt_rand_ind = np.random.choice(range(0,48),replace=False,size=n)\n",
    "        wt_rand = wt[:,wt_rand_ind]\n",
    "\n",
    "        mut_rand_ind = np.random.choice(range(0,48),replace=False,size=n)\n",
    "        mut_rand = mut[:,mut_rand_ind]\n",
    "\n",
    "        ttest_p_rand = ttest_ind(wt_rand,mut_rand,axis=1,equal_var=False).pvalue\n",
    "        nsig = len(ttest_p_rand[ttest_p_rand < p_cut])\n",
    "        data.append([n,nsig])\n",
    "        \n",
    "sims = pd.DataFrame(data=data,columns=['n','nsig'])"
   ]
  },
  {
   "cell_type": "code",
   "execution_count": null,
   "metadata": {},
   "outputs": [],
   "source": [
    "fig,ax = plt.subplots()\n",
    "ax.scatter(sims.n,sims.nsig,s=1)\n",
    "t = ax.set_xticks(range(5,40,5))"
   ]
  },
  {
   "cell_type": "code",
   "execution_count": null,
   "metadata": {},
   "outputs": [],
   "source": [
    "# lets do some random sampling of different numbers of experiments\n",
    "\n",
    "n = 3\n",
    "\n",
    "wt_rand_ind = np.random.choice(range(0,48),replace=False,size=n)\n",
    "wt_rand = wt[:,wt_rand_ind]\n",
    "\n",
    "wt_mean = np.mean(wt,axis=1)\n",
    "wt_mean_rand = np.mean(wt_rand,axis=1)\n",
    "wt_var = np.var(wt,axis=1)\n",
    "wt_var_rand = np.var(wt_rand,axis=1)\n"
   ]
  },
  {
   "cell_type": "code",
   "execution_count": null,
   "metadata": {},
   "outputs": [],
   "source": [
    "plt_x = wt_mean\n",
    "plt_y = wt_mean_rand\n",
    "maxval = max(max(plt_x),max(plt_y))\n",
    "fig,ax = plt.subplots(1,1,figsize=(5,5))\n",
    "ax.set_xscale('log')\n",
    "ax.set_yscale('log')\n",
    "ax.scatter(plt_x,plt_y,s=1)\n",
    "ax.set_xlim(1,maxval)\n",
    "ax.set_ylim(1,maxval)\n",
    "ax.set_xlabel(\"mean full data\")\n",
    "ax.set_ylabel(\"mean in sampled data\")\n",
    "ax.plot(np.linspace(1,maxval,10),np.linspace(1,maxval,10),color='red')"
   ]
  },
  {
   "cell_type": "code",
   "execution_count": null,
   "metadata": {},
   "outputs": [],
   "source": [
    "plt_x = wt_var\n",
    "plt_y = wt_var_rand\n",
    "maxval = max(max(plt_x),max(plt_y))\n",
    "fig,ax = plt.subplots(1,1,figsize=(5,5))\n",
    "ax.set_xscale('log')\n",
    "ax.set_yscale('log')\n",
    "ax.scatter(plt_x,plt_y,s=1)\n",
    "ax.set_xlim(1,maxval)\n",
    "ax.set_ylim(1,maxval)\n",
    "ax.set_xlabel(\"variance full data\")\n",
    "ax.set_ylabel(\"variance in sampled data\")\n",
    "ax.plot(np.linspace(1,maxval,10),np.linspace(1,maxval,10),color='red')"
   ]
  },
  {
   "cell_type": "code",
   "execution_count": null,
   "metadata": {
    "scrolled": false
   },
   "outputs": [],
   "source": [
    "plt_x = wt_mean\n",
    "plt_y = wt_var\n",
    "fig,ax = plt.subplots(1,1,figsize=(5,5))\n",
    "ax.set_xscale('log')\n",
    "ax.set_yscale('log')\n",
    "ax.set_xlim(1,max(plt_x))\n",
    "ax.set_ylim(1,max(plt_y))\n",
    "ax.scatter(plt_x,plt_y,s=1)\n",
    "ax.set_xlabel(\"mean\")\n",
    "ax.set_ylabel(\"variance\")\n"
   ]
  },
  {
   "cell_type": "code",
   "execution_count": null,
   "metadata": {},
   "outputs": [],
   "source": [
    "plt_x = wt_mean_rand\n",
    "plt_y = wt_var_rand\n",
    "fig,ax = plt.subplots(1,1,figsize=(5,5))\n",
    "ax.set_xscale('log')\n",
    "ax.set_yscale('log')\n",
    "ax.set_xlim(1,max(plt_x))\n",
    "ax.set_ylim(1,max(plt_y))\n",
    "ax.scatter(plt_x,plt_y,s=1)\n",
    "ax.set_xlabel(\"mean\")\n",
    "ax.set_ylabel(\"variance\")\n"
   ]
  },
  {
   "cell_type": "code",
   "execution_count": null,
   "metadata": {},
   "outputs": [],
   "source": [
    "plt_x = wt_mean_rand\n",
    "plt_y = wt_var\n",
    "fig,ax = plt.subplots(1,1,figsize=(5,5))\n",
    "ax.set_xscale('log')\n",
    "ax.set_yscale('log')\n",
    "ax.set_xlim(1,max(plt_x))\n",
    "ax.set_ylim(1,max(plt_y))\n",
    "ax.scatter(plt_x,plt_y,s=1)\n",
    "ax.set_xlabel(\"mean in rand\")\n",
    "ax.set_ylabel(\"variance\")\n"
   ]
  },
  {
   "cell_type": "code",
   "execution_count": null,
   "metadata": {},
   "outputs": [],
   "source": [
    "def runave(x,y,n):\n",
    "    sinds = x.argsort()\n",
    "    xsrt = x[sinds]\n",
    "    xsrt = x[sinds]\n",
    "    ysrt = y[sinds]\n",
    "    return (xsrt,np.convolve(ysrt,np.ones((n,))/n,mode='same'))"
   ]
  },
  {
   "cell_type": "code",
   "execution_count": null,
   "metadata": {},
   "outputs": [],
   "source": [
    "x = wt_mean\n",
    "y = wt_var\n",
    "xs,r = runave(x,y,100)"
   ]
  },
  {
   "cell_type": "code",
   "execution_count": null,
   "metadata": {},
   "outputs": [],
   "source": [
    "plt_x = x\n",
    "plt_y = y\n",
    "fig,ax = plt.subplots(1,1,figsize=(5,5))\n",
    "ax.set_xscale('log')\n",
    "ax.set_yscale('log')\n",
    "ax.set_xlim(1,max(plt_x))\n",
    "ax.set_ylim(1,max(plt_y))\n",
    "ax.scatter(plt_x,plt_y,s=1)\n",
    "ax.set_xlabel(\"mean in rand\")\n",
    "ax.set_ylabel(\"variance\")\n",
    "plt_x = xs\n",
    "plt_y = r\n",
    "ax.scatter(plt_x,plt_y,s=1,c='red')\n",
    "\n"
   ]
  },
  {
   "cell_type": "code",
   "execution_count": null,
   "metadata": {},
   "outputs": [],
   "source": [
    "x = wt_mean_rand\n",
    "y = wt_var_rand\n",
    "xs,r = runave(x,y,100)"
   ]
  },
  {
   "cell_type": "code",
   "execution_count": null,
   "metadata": {},
   "outputs": [],
   "source": [
    "plt_x = x\n",
    "plt_y = y\n",
    "fig,ax = plt.subplots(1,1,figsize=(5,5))\n",
    "ax.set_xscale('log')\n",
    "ax.set_yscale('log')\n",
    "ax.set_xlim(1,max(plt_x))\n",
    "ax.set_ylim(1,max(plt_y))\n",
    "ax.scatter(plt_x,plt_y,s=1)\n",
    "ax.set_xlabel(\"mean in rand\")\n",
    "ax.set_ylabel(\"variance\")\n",
    "plt_x = xs\n",
    "plt_y = r\n",
    "ax.scatter(plt_x,plt_y,s=1,c='red')\n",
    "\n"
   ]
  },
  {
   "cell_type": "code",
   "execution_count": null,
   "metadata": {},
   "outputs": [],
   "source": []
  }
 ],
 "metadata": {
  "anaconda-cloud": {},
  "kernelspec": {
   "display_name": "Python 3",
   "language": "python",
   "name": "python3"
  },
  "language_info": {
   "codemirror_mode": {
    "name": "ipython",
    "version": 3
   },
   "file_extension": ".py",
   "mimetype": "text/x-python",
   "name": "python",
   "nbconvert_exporter": "python",
   "pygments_lexer": "ipython3",
   "version": "3.7.6"
  }
 },
 "nbformat": 4,
 "nbformat_minor": 1
}
