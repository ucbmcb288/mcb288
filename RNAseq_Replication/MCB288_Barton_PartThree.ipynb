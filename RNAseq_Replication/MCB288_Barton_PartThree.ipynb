{
 "cells": [
  {
   "cell_type": "code",
   "execution_count": 1,
   "metadata": {},
   "outputs": [],
   "source": [
    "%matplotlib inline"
   ]
  },
  {
   "cell_type": "code",
   "execution_count": 2,
   "metadata": {},
   "outputs": [],
   "source": [
    "# import libraries \n",
    "\n",
    "import pandas as pd\n",
    "\n",
    "# this is here to shut off some annoying warnings from pandas\n",
    "pd.options.mode.chained_assignment = None\n",
    "\n",
    "# matplotlib is one of the main plotting libraries we're going to use\n",
    "import matplotlib \n",
    "import matplotlib.pyplot as plt\n",
    "%matplotlib inline\n",
    "\n",
    "# the other plotting library is seaborn - we'll use both during the class\n",
    "\n",
    "# import seaborn as sns\n",
    "\n",
    "# numpy and scipy are for handling numerical and scientific data\n",
    "\n",
    "import numpy as np\n",
    "import scipy as sp\n",
    "\n",
    "#import statsmodels.formula.api as smf # basic statistical modeling\n",
    "\n",
    "from scipy.stats.stats import pearsonr \n",
    "\n",
    "import os\n",
    "\n",
    "import scipy\n",
    "from scipy import stats\n",
    "from scipy import stats\n",
    "from scipy.stats import ks_2samp\n",
    "from scipy.stats import entropy\n",
    "from scipy.stats import norm\n",
    "from scipy.stats import lognorm\n",
    "from scipy.stats import nbinom\n",
    "from scipy.stats.mstats import gmean\n",
    "from scipy.stats import linregress\n",
    "\n",
    "\n",
    "#from pandas.tools.plotting import scatter_matrix"
   ]
  },
  {
   "cell_type": "code",
   "execution_count": 3,
   "metadata": {},
   "outputs": [],
   "source": [
    "# setup\n",
    "\n",
    "datafile = \"data/barton/Barton_combined.txt\"\n",
    "ye = pd.read_csv(datafile)   # the sep='\\t' tells pandas that it is a tab separated file\n",
    "ye = ye.set_index('Gene')\n",
    "\n",
    "exps = {}\n",
    "exps['wt'] = [e for e in ye.columns if e.startswith('WT')] \n",
    "exps['mut'] = [e for e in ye.columns if e.startswith('Snf2')] \n",
    "exps['all'] = exps['wt'] + exps['mut']\n",
    "\n",
    "for cycles in range(0,10):\n",
    "    ye['all_gmean']  = gmean(ye[exps['all']].replace(0,np.nan).values,axis=1)\n",
    "    \n",
    "    df = ye[ye['all_gmean'] > 10]\n",
    "\n",
    "    for c in exps['all']:\n",
    "        norm = np.median(df[c]/df['all_gmean'])\n",
    "        ye[c] = ye[c] / norm\n",
    "        \n",
    "# computer row stats\n",
    "\n",
    "for d in ['all','wt','mut']:\n",
    "    ye[d + '_mean']   = ye[exps[d]].mean(axis=1)\n",
    "    ye[d + '_median'] = ye[exps[d]].median(axis=1)\n",
    "    ye[d + '_var']    = ye[exps[d]].var(axis=1)\n",
    "    ye[d + '_std']    = ye[exps[d]].std(axis=1)\n",
    "    ye[d + '_gmean']  = gmean(ye[exps[d]].replace(0,np.nan).values,axis=1) "
   ]
  },
  {
   "cell_type": "code",
   "execution_count": 42,
   "metadata": {},
   "outputs": [
    {
     "name": "stderr",
     "output_type": "stream",
     "text": [
      "/Users/eisen/anaconda3/lib/python3.6/site-packages/pandas/core/series.py:726: RuntimeWarning: divide by zero encountered in log\n",
      "  result = getattr(ufunc, method)(*inputs, **kwargs)\n"
     ]
    }
   ],
   "source": [
    "ye['med_ratio'] =  ye['mut_median'] / ye['wt_median'] \n",
    "ye['true_de'] = np.log(ye['med_ratio'])/np.log(2)\n",
    "ye['abs_true_de'] = np.abs(ye['true_de'])"
   ]
  },
  {
   "cell_type": "code",
   "execution_count": 4,
   "metadata": {
    "scrolled": true
   },
   "outputs": [
    {
     "data": {
      "text/html": [
       "<div>\n",
       "<style scoped>\n",
       "    .dataframe tbody tr th:only-of-type {\n",
       "        vertical-align: middle;\n",
       "    }\n",
       "\n",
       "    .dataframe tbody tr th {\n",
       "        vertical-align: top;\n",
       "    }\n",
       "\n",
       "    .dataframe thead th {\n",
       "        text-align: right;\n",
       "    }\n",
       "</style>\n",
       "<table border=\"1\" class=\"dataframe\">\n",
       "  <thead>\n",
       "    <tr style=\"text-align: right;\">\n",
       "      <th></th>\n",
       "      <th>Snf2_rep01</th>\n",
       "      <th>Snf2_rep02</th>\n",
       "      <th>Snf2_rep03</th>\n",
       "      <th>Snf2_rep04</th>\n",
       "      <th>Snf2_rep05</th>\n",
       "      <th>Snf2_rep06</th>\n",
       "      <th>Snf2_rep07</th>\n",
       "      <th>Snf2_rep08</th>\n",
       "      <th>Snf2_rep09</th>\n",
       "      <th>Snf2_rep10</th>\n",
       "      <th>...</th>\n",
       "      <th>wt_mean</th>\n",
       "      <th>wt_median</th>\n",
       "      <th>wt_var</th>\n",
       "      <th>wt_std</th>\n",
       "      <th>wt_gmean</th>\n",
       "      <th>mut_mean</th>\n",
       "      <th>mut_median</th>\n",
       "      <th>mut_var</th>\n",
       "      <th>mut_std</th>\n",
       "      <th>mut_gmean</th>\n",
       "    </tr>\n",
       "    <tr>\n",
       "      <th>Gene</th>\n",
       "      <th></th>\n",
       "      <th></th>\n",
       "      <th></th>\n",
       "      <th></th>\n",
       "      <th></th>\n",
       "      <th></th>\n",
       "      <th></th>\n",
       "      <th></th>\n",
       "      <th></th>\n",
       "      <th></th>\n",
       "      <th></th>\n",
       "      <th></th>\n",
       "      <th></th>\n",
       "      <th></th>\n",
       "      <th></th>\n",
       "      <th></th>\n",
       "      <th></th>\n",
       "      <th></th>\n",
       "      <th></th>\n",
       "      <th></th>\n",
       "      <th></th>\n",
       "    </tr>\n",
       "  </thead>\n",
       "  <tbody>\n",
       "    <tr>\n",
       "      <th>15S_rRNA</th>\n",
       "      <td>2.784371</td>\n",
       "      <td>1.786768</td>\n",
       "      <td>4.497414</td>\n",
       "      <td>3.355006</td>\n",
       "      <td>51.033467</td>\n",
       "      <td>2.113777</td>\n",
       "      <td>2.825676</td>\n",
       "      <td>4.015762</td>\n",
       "      <td>1.528659</td>\n",
       "      <td>39.687545</td>\n",
       "      <td>...</td>\n",
       "      <td>16.784897</td>\n",
       "      <td>9.587454</td>\n",
       "      <td>319.489531</td>\n",
       "      <td>17.874270</td>\n",
       "      <td>NaN</td>\n",
       "      <td>18.792029</td>\n",
       "      <td>5.688525</td>\n",
       "      <td>1242.564028</td>\n",
       "      <td>35.250022</td>\n",
       "      <td>7.726360</td>\n",
       "    </tr>\n",
       "    <tr>\n",
       "      <th>21S_rRNA</th>\n",
       "      <td>21.578875</td>\n",
       "      <td>16.080910</td>\n",
       "      <td>20.688103</td>\n",
       "      <td>29.524050</td>\n",
       "      <td>394.954661</td>\n",
       "      <td>43.684733</td>\n",
       "      <td>19.779733</td>\n",
       "      <td>33.130039</td>\n",
       "      <td>9.936283</td>\n",
       "      <td>146.843917</td>\n",
       "      <td>...</td>\n",
       "      <td>107.497402</td>\n",
       "      <td>80.589967</td>\n",
       "      <td>9835.398309</td>\n",
       "      <td>99.173577</td>\n",
       "      <td>74.952300</td>\n",
       "      <td>100.736659</td>\n",
       "      <td>42.748866</td>\n",
       "      <td>19990.206019</td>\n",
       "      <td>141.386725</td>\n",
       "      <td>53.449015</td>\n",
       "    </tr>\n",
       "    <tr>\n",
       "      <th>HRA1</th>\n",
       "      <td>3.480464</td>\n",
       "      <td>0.893384</td>\n",
       "      <td>2.698448</td>\n",
       "      <td>0.671001</td>\n",
       "      <td>2.218846</td>\n",
       "      <td>0.704592</td>\n",
       "      <td>0.565135</td>\n",
       "      <td>4.015762</td>\n",
       "      <td>3.057318</td>\n",
       "      <td>0.000000</td>\n",
       "      <td>...</td>\n",
       "      <td>3.106914</td>\n",
       "      <td>2.716435</td>\n",
       "      <td>4.564093</td>\n",
       "      <td>2.136374</td>\n",
       "      <td>NaN</td>\n",
       "      <td>1.793797</td>\n",
       "      <td>1.559810</td>\n",
       "      <td>1.879487</td>\n",
       "      <td>1.370944</td>\n",
       "      <td>NaN</td>\n",
       "    </tr>\n",
       "    <tr>\n",
       "      <th>ICR1</th>\n",
       "      <td>142.699015</td>\n",
       "      <td>175.103238</td>\n",
       "      <td>189.790857</td>\n",
       "      <td>169.092286</td>\n",
       "      <td>140.896747</td>\n",
       "      <td>102.870501</td>\n",
       "      <td>155.412185</td>\n",
       "      <td>160.630494</td>\n",
       "      <td>145.222596</td>\n",
       "      <td>144.859540</td>\n",
       "      <td>...</td>\n",
       "      <td>127.023975</td>\n",
       "      <td>125.020780</td>\n",
       "      <td>180.159201</td>\n",
       "      <td>13.422340</td>\n",
       "      <td>126.314115</td>\n",
       "      <td>147.660017</td>\n",
       "      <td>147.538356</td>\n",
       "      <td>382.072521</td>\n",
       "      <td>19.546675</td>\n",
       "      <td>146.359174</td>\n",
       "    </tr>\n",
       "    <tr>\n",
       "      <th>LSR1</th>\n",
       "      <td>146.179479</td>\n",
       "      <td>92.018538</td>\n",
       "      <td>143.017755</td>\n",
       "      <td>174.460295</td>\n",
       "      <td>330.608115</td>\n",
       "      <td>367.797272</td>\n",
       "      <td>171.235971</td>\n",
       "      <td>96.378296</td>\n",
       "      <td>100.891487</td>\n",
       "      <td>260.945610</td>\n",
       "      <td>...</td>\n",
       "      <td>210.868046</td>\n",
       "      <td>182.622607</td>\n",
       "      <td>14667.664941</td>\n",
       "      <td>121.110136</td>\n",
       "      <td>186.387195</td>\n",
       "      <td>191.761881</td>\n",
       "      <td>148.711546</td>\n",
       "      <td>20291.176788</td>\n",
       "      <td>142.447102</td>\n",
       "      <td>161.422162</td>\n",
       "    </tr>\n",
       "    <tr>\n",
       "      <th>...</th>\n",
       "      <td>...</td>\n",
       "      <td>...</td>\n",
       "      <td>...</td>\n",
       "      <td>...</td>\n",
       "      <td>...</td>\n",
       "      <td>...</td>\n",
       "      <td>...</td>\n",
       "      <td>...</td>\n",
       "      <td>...</td>\n",
       "      <td>...</td>\n",
       "      <td>...</td>\n",
       "      <td>...</td>\n",
       "      <td>...</td>\n",
       "      <td>...</td>\n",
       "      <td>...</td>\n",
       "      <td>...</td>\n",
       "      <td>...</td>\n",
       "      <td>...</td>\n",
       "      <td>...</td>\n",
       "      <td>...</td>\n",
       "      <td>...</td>\n",
       "    </tr>\n",
       "    <tr>\n",
       "      <th>tY(GUA)J2</th>\n",
       "      <td>0.696093</td>\n",
       "      <td>0.000000</td>\n",
       "      <td>0.000000</td>\n",
       "      <td>0.000000</td>\n",
       "      <td>0.000000</td>\n",
       "      <td>0.000000</td>\n",
       "      <td>0.000000</td>\n",
       "      <td>1.003941</td>\n",
       "      <td>0.000000</td>\n",
       "      <td>0.000000</td>\n",
       "      <td>...</td>\n",
       "      <td>0.122387</td>\n",
       "      <td>0.000000</td>\n",
       "      <td>0.137522</td>\n",
       "      <td>0.370839</td>\n",
       "      <td>NaN</td>\n",
       "      <td>0.155824</td>\n",
       "      <td>0.000000</td>\n",
       "      <td>0.142198</td>\n",
       "      <td>0.377092</td>\n",
       "      <td>NaN</td>\n",
       "    </tr>\n",
       "    <tr>\n",
       "      <th>tY(GUA)M1</th>\n",
       "      <td>0.000000</td>\n",
       "      <td>0.000000</td>\n",
       "      <td>0.899483</td>\n",
       "      <td>0.000000</td>\n",
       "      <td>2.218846</td>\n",
       "      <td>0.000000</td>\n",
       "      <td>0.000000</td>\n",
       "      <td>0.000000</td>\n",
       "      <td>0.000000</td>\n",
       "      <td>0.000000</td>\n",
       "      <td>...</td>\n",
       "      <td>0.374060</td>\n",
       "      <td>0.000000</td>\n",
       "      <td>0.304238</td>\n",
       "      <td>0.551578</td>\n",
       "      <td>NaN</td>\n",
       "      <td>0.338083</td>\n",
       "      <td>0.000000</td>\n",
       "      <td>0.340122</td>\n",
       "      <td>0.583200</td>\n",
       "      <td>NaN</td>\n",
       "    </tr>\n",
       "    <tr>\n",
       "      <th>tY(GUA)M2</th>\n",
       "      <td>0.000000</td>\n",
       "      <td>0.000000</td>\n",
       "      <td>0.000000</td>\n",
       "      <td>0.000000</td>\n",
       "      <td>0.000000</td>\n",
       "      <td>0.000000</td>\n",
       "      <td>0.000000</td>\n",
       "      <td>0.000000</td>\n",
       "      <td>0.000000</td>\n",
       "      <td>0.000000</td>\n",
       "      <td>...</td>\n",
       "      <td>0.139898</td>\n",
       "      <td>0.000000</td>\n",
       "      <td>0.208995</td>\n",
       "      <td>0.457159</td>\n",
       "      <td>NaN</td>\n",
       "      <td>0.069549</td>\n",
       "      <td>0.000000</td>\n",
       "      <td>0.055156</td>\n",
       "      <td>0.234854</td>\n",
       "      <td>NaN</td>\n",
       "    </tr>\n",
       "    <tr>\n",
       "      <th>tY(GUA)O</th>\n",
       "      <td>0.000000</td>\n",
       "      <td>0.893384</td>\n",
       "      <td>0.000000</td>\n",
       "      <td>0.000000</td>\n",
       "      <td>0.000000</td>\n",
       "      <td>0.000000</td>\n",
       "      <td>0.000000</td>\n",
       "      <td>0.000000</td>\n",
       "      <td>0.000000</td>\n",
       "      <td>0.992189</td>\n",
       "      <td>...</td>\n",
       "      <td>0.087417</td>\n",
       "      <td>0.000000</td>\n",
       "      <td>0.086436</td>\n",
       "      <td>0.294000</td>\n",
       "      <td>NaN</td>\n",
       "      <td>0.133130</td>\n",
       "      <td>0.000000</td>\n",
       "      <td>0.138277</td>\n",
       "      <td>0.371856</td>\n",
       "      <td>NaN</td>\n",
       "    </tr>\n",
       "    <tr>\n",
       "      <th>tY(GUA)Q</th>\n",
       "      <td>0.000000</td>\n",
       "      <td>0.000000</td>\n",
       "      <td>0.000000</td>\n",
       "      <td>0.000000</td>\n",
       "      <td>0.000000</td>\n",
       "      <td>0.000000</td>\n",
       "      <td>0.000000</td>\n",
       "      <td>0.000000</td>\n",
       "      <td>0.000000</td>\n",
       "      <td>0.000000</td>\n",
       "      <td>...</td>\n",
       "      <td>0.000000</td>\n",
       "      <td>0.000000</td>\n",
       "      <td>0.000000</td>\n",
       "      <td>0.000000</td>\n",
       "      <td>NaN</td>\n",
       "      <td>0.000000</td>\n",
       "      <td>0.000000</td>\n",
       "      <td>0.000000</td>\n",
       "      <td>0.000000</td>\n",
       "      <td>NaN</td>\n",
       "    </tr>\n",
       "  </tbody>\n",
       "</table>\n",
       "<p>7126 rows × 111 columns</p>\n",
       "</div>"
      ],
      "text/plain": [
       "           Snf2_rep01  Snf2_rep02  Snf2_rep03  Snf2_rep04  Snf2_rep05  \\\n",
       "Gene                                                                    \n",
       "15S_rRNA     2.784371    1.786768    4.497414    3.355006   51.033467   \n",
       "21S_rRNA    21.578875   16.080910   20.688103   29.524050  394.954661   \n",
       "HRA1         3.480464    0.893384    2.698448    0.671001    2.218846   \n",
       "ICR1       142.699015  175.103238  189.790857  169.092286  140.896747   \n",
       "LSR1       146.179479   92.018538  143.017755  174.460295  330.608115   \n",
       "...               ...         ...         ...         ...         ...   \n",
       "tY(GUA)J2    0.696093    0.000000    0.000000    0.000000    0.000000   \n",
       "tY(GUA)M1    0.000000    0.000000    0.899483    0.000000    2.218846   \n",
       "tY(GUA)M2    0.000000    0.000000    0.000000    0.000000    0.000000   \n",
       "tY(GUA)O     0.000000    0.893384    0.000000    0.000000    0.000000   \n",
       "tY(GUA)Q     0.000000    0.000000    0.000000    0.000000    0.000000   \n",
       "\n",
       "           Snf2_rep06  Snf2_rep07  Snf2_rep08  Snf2_rep09  Snf2_rep10  ...  \\\n",
       "Gene                                                                   ...   \n",
       "15S_rRNA     2.113777    2.825676    4.015762    1.528659   39.687545  ...   \n",
       "21S_rRNA    43.684733   19.779733   33.130039    9.936283  146.843917  ...   \n",
       "HRA1         0.704592    0.565135    4.015762    3.057318    0.000000  ...   \n",
       "ICR1       102.870501  155.412185  160.630494  145.222596  144.859540  ...   \n",
       "LSR1       367.797272  171.235971   96.378296  100.891487  260.945610  ...   \n",
       "...               ...         ...         ...         ...         ...  ...   \n",
       "tY(GUA)J2    0.000000    0.000000    1.003941    0.000000    0.000000  ...   \n",
       "tY(GUA)M1    0.000000    0.000000    0.000000    0.000000    0.000000  ...   \n",
       "tY(GUA)M2    0.000000    0.000000    0.000000    0.000000    0.000000  ...   \n",
       "tY(GUA)O     0.000000    0.000000    0.000000    0.000000    0.992189  ...   \n",
       "tY(GUA)Q     0.000000    0.000000    0.000000    0.000000    0.000000  ...   \n",
       "\n",
       "              wt_mean   wt_median        wt_var      wt_std    wt_gmean  \\\n",
       "Gene                                                                      \n",
       "15S_rRNA    16.784897    9.587454    319.489531   17.874270         NaN   \n",
       "21S_rRNA   107.497402   80.589967   9835.398309   99.173577   74.952300   \n",
       "HRA1         3.106914    2.716435      4.564093    2.136374         NaN   \n",
       "ICR1       127.023975  125.020780    180.159201   13.422340  126.314115   \n",
       "LSR1       210.868046  182.622607  14667.664941  121.110136  186.387195   \n",
       "...               ...         ...           ...         ...         ...   \n",
       "tY(GUA)J2    0.122387    0.000000      0.137522    0.370839         NaN   \n",
       "tY(GUA)M1    0.374060    0.000000      0.304238    0.551578         NaN   \n",
       "tY(GUA)M2    0.139898    0.000000      0.208995    0.457159         NaN   \n",
       "tY(GUA)O     0.087417    0.000000      0.086436    0.294000         NaN   \n",
       "tY(GUA)Q     0.000000    0.000000      0.000000    0.000000         NaN   \n",
       "\n",
       "             mut_mean  mut_median       mut_var     mut_std   mut_gmean  \n",
       "Gene                                                                     \n",
       "15S_rRNA    18.792029    5.688525   1242.564028   35.250022    7.726360  \n",
       "21S_rRNA   100.736659   42.748866  19990.206019  141.386725   53.449015  \n",
       "HRA1         1.793797    1.559810      1.879487    1.370944         NaN  \n",
       "ICR1       147.660017  147.538356    382.072521   19.546675  146.359174  \n",
       "LSR1       191.761881  148.711546  20291.176788  142.447102  161.422162  \n",
       "...               ...         ...           ...         ...         ...  \n",
       "tY(GUA)J2    0.155824    0.000000      0.142198    0.377092         NaN  \n",
       "tY(GUA)M1    0.338083    0.000000      0.340122    0.583200         NaN  \n",
       "tY(GUA)M2    0.069549    0.000000      0.055156    0.234854         NaN  \n",
       "tY(GUA)O     0.133130    0.000000      0.138277    0.371856         NaN  \n",
       "tY(GUA)Q     0.000000    0.000000      0.000000    0.000000         NaN  \n",
       "\n",
       "[7126 rows x 111 columns]"
      ]
     },
     "execution_count": 4,
     "metadata": {},
     "output_type": "execute_result"
    }
   ],
   "source": [
    "ye"
   ]
  },
  {
   "cell_type": "code",
   "execution_count": 6,
   "metadata": {},
   "outputs": [
    {
     "data": {
      "text/plain": [
       "<matplotlib.collections.PathCollection at 0x7fe13189d160>"
      ]
     },
     "execution_count": 6,
     "metadata": {},
     "output_type": "execute_result"
    },
    {
     "data": {
      "image/png": "[encoded data removed]",
      "text/plain": [
       "<Figure size 432x288 with 1 Axes>"
      ]
     },
     "metadata": {
      "needs_background": "light"
     },
     "output_type": "display_data"
    }
   ],
   "source": [
    "yew = ye[exps['wt']]\n",
    "yew = yew[yew.min(axis=1) > 0]\n",
    "\n",
    "x = np.log10(np.mean(yew,axis=1))\n",
    "y = np.log10(np.var(yew,axis=1))\n",
    "plt.scatter(x,y,s=1,c='black',alpha=.5)\n",
    "plt.xlabel('log10 Mean')\n",
    "plt.ylabel('log10 Var')\n",
    "\n",
    "pf = np.polyfit(x,y, 2, rcond=None, full=False, w=None, cov=False)\n",
    "var_from_mean_pf = np.poly1d(pf)\n",
    "\n",
    "plt.scatter(x,var_from_mean_pf(x),c='red',s=1)"
   ]
  },
  {
   "cell_type": "code",
   "execution_count": 9,
   "metadata": {},
   "outputs": [],
   "source": [
    "def var_from_mean(mu):\n",
    "    return np.power(10,var_from_mean_pf(np.log10(mu)))"
   ]
  },
  {
   "cell_type": "code",
   "execution_count": 10,
   "metadata": {},
   "outputs": [
    {
     "data": {
      "text/plain": [
       "26132.640435338217"
      ]
     },
     "execution_count": 10,
     "metadata": {},
     "output_type": "execute_result"
    }
   ],
   "source": [
    "var_from_mean(1000)"
   ]
  },
  {
   "cell_type": "code",
   "execution_count": null,
   "metadata": {},
   "outputs": [],
   "source": []
  },
  {
   "cell_type": "markdown",
   "metadata": {},
   "source": [
    "## How do we test for differential expression?\n",
    "\n",
    "There are many ways of formulating this question, and there is no simple answer, but we'll explore some ideas here. For starters, let's use a standard t-test.\n",
    "\n",
    "A t-test compares the means of two distributions and asks what the probability is that two samples with those means came from the same distribution by testing this as the null hypothesis.  \n",
    "\n",
    "It uses the t-statistic, defined as:\n",
    "\n",
    "$\\huge t = { {M_1 - M_2}\\over{\\sigma\\over{\\sqrt{n_{\\small1}+n_{\\small2}}}}}$\n",
    "\n",
    "where\n",
    "\n",
    "$M_1$ and $M_2$ are the sample means, $\\sigma$ is the standard deviation and $n_1$ and $n_2$ are the sample sizes.  \n",
    "\n",
    "I'm sure you've all done t-tests, but it's useful just to see what we're doing here."
   ]
  },
  {
   "cell_type": "code",
   "execution_count": 12,
   "metadata": {},
   "outputs": [
    {
     "data": {
      "text/plain": [
       "(array([  2.,  13.,  50., 118., 248., 261., 184.,  88.,  23.,  13.]),\n",
       " array([-762.40060346, -422.58114719,  -82.76169092,  257.05776535,\n",
       "         596.87722162,  936.69667789, 1276.51613416, 1616.33559043,\n",
       "        1956.1550467 , 2295.97450297, 2635.79395924]),\n",
       " <BarContainer object of 10 artists>)"
      ]
     },
     "execution_count": 12,
     "metadata": {},
     "output_type": "execute_result"
    },
    {
     "data": {
      "image/png": "[encoded data removed]",
      "text/plain": [
       "<Figure size 432x288 with 1 Axes>"
      ]
     },
     "metadata": {
      "needs_background": "light"
     },
     "output_type": "display_data"
    }
   ],
   "source": [
    "# let's sample from a normal distribution\n",
    "\n",
    "mu = 1000\n",
    "sigma = 500\n",
    "s = np.random.normal(mu, sigma, 1000)\n",
    "\n",
    "plt.hist(s)"
   ]
  },
  {
   "cell_type": "code",
   "execution_count": 14,
   "metadata": {},
   "outputs": [
    {
     "data": {
      "text/plain": [
       "[1, 2, 3, 4, 5, 6, 7, 8, 9, 10, 11, 12]"
      ]
     },
     "execution_count": 14,
     "metadata": {},
     "output_type": "execute_result"
    }
   ],
   "source": [
    "a = [1,2,3,4,5,6]\n",
    "b = [7,8,9,10,11,12]\n",
    "\n",
    "a + b"
   ]
  },
  {
   "cell_type": "code",
   "execution_count": 16,
   "metadata": {},
   "outputs": [
    {
     "data": {
      "text/plain": [
       "array([ 8, 10, 12, 14, 16, 18])"
      ]
     },
     "execution_count": 16,
     "metadata": {},
     "output_type": "execute_result"
    }
   ],
   "source": [
    "a = np.array([1,2,3,4,5,6])\n",
    "b = np.array([7,8,9,10,11,12])\n",
    "\n",
    "a + b"
   ]
  },
  {
   "cell_type": "code",
   "execution_count": 17,
   "metadata": {},
   "outputs": [
    {
     "data": {
      "text/plain": [
       "array([ 1,  2,  3,  4,  5,  6,  7,  8,  9, 10, 11, 12])"
      ]
     },
     "execution_count": 17,
     "metadata": {},
     "output_type": "execute_result"
    }
   ],
   "source": [
    "np.concatenate((a,b))"
   ]
  },
  {
   "cell_type": "code",
   "execution_count": 18,
   "metadata": {},
   "outputs": [],
   "source": [
    "# now define a t-stat\n",
    "\n",
    "def tstat (s1,s2):\n",
    "    m1 = np.mean(s1)\n",
    "    m2 = np.mean(s2)\n",
    "    sd = np.std(np.concatenate((s1,s2)))\n",
    "    tstat = (m1 - m2) / (sd / np.sqrt(len(s1)+len(s2)))\n",
    "    return tstat"
   ]
  },
  {
   "cell_type": "code",
   "execution_count": 22,
   "metadata": {},
   "outputs": [
    {
     "data": {
      "text/plain": [
       "-2.57835821820261"
      ]
     },
     "execution_count": 22,
     "metadata": {},
     "output_type": "execute_result"
    }
   ],
   "source": [
    "mu = 1000\n",
    "sigma = 500\n",
    "sample_size = 3\n",
    "s1 = np.random.normal(mu, sigma, sample_size)\n",
    "s2 = np.random.normal(mu, sigma, sample_size)\n",
    "tstat(s1,s2)"
   ]
  },
  {
   "cell_type": "code",
   "execution_count": 23,
   "metadata": {},
   "outputs": [
    {
     "data": {
      "text/plain": [
       "(array([0.02859069, 0.07235405, 0.11838815, 0.1387216 , 0.15234604,\n",
       "        0.14924958, 0.14501775, 0.11343381, 0.08050807, 0.03354503]),\n",
       " array([-4.88142146, -3.91257452, -2.94372757, -1.97488063, -1.00603369,\n",
       "        -0.03718674,  0.9316602 ,  1.90050715,  2.86935409,  3.83820103,\n",
       "         4.80704798]),\n",
       " <BarContainer object of 10 artists>)"
      ]
     },
     "execution_count": 23,
     "metadata": {},
     "output_type": "execute_result"
    },
    {
     "data": {
      "image/png": "[encoded data removed]",
      "text/plain": [
       "<Figure size 432x288 with 1 Axes>"
      ]
     },
     "metadata": {
      "needs_background": "light"
     },
     "output_type": "display_data"
    }
   ],
   "source": [
    "# now let's look at the distribution of the t-stat\n",
    "\n",
    "mu = 1000\n",
    "sigma = 500\n",
    "sample_size = 3\n",
    "\n",
    "tstats = []\n",
    "for trials in range(0,10000):\n",
    "    s1 = np.random.normal(mu, sigma, sample_size)\n",
    "    s2 = np.random.normal(mu, sigma, sample_size)\n",
    "    tstats.append(tstat(s1,s2))\n",
    "    \n",
    "plt.hist(tstats,color='blue',alpha=.5,density=True)"
   ]
  },
  {
   "cell_type": "code",
   "execution_count": 24,
   "metadata": {},
   "outputs": [
    {
     "data": {
      "image/png": "[encoded data removed]",
      "text/plain": [
       "<Figure size 432x288 with 1 Axes>"
      ]
     },
     "metadata": {
      "needs_background": "light"
     },
     "output_type": "display_data"
    }
   ],
   "source": [
    "# now let's compare \n",
    "\n",
    "mu = 1000\n",
    "sigma = 500\n",
    "sample_size = 3\n",
    "\n",
    "tstats = []\n",
    "for trials in range(0,10000):\n",
    "    s1 = np.random.normal(mu, sigma, sample_size)\n",
    "    s2 = np.random.normal(mu, sigma, sample_size)\n",
    "    tstats.append(tstat(s1,s2))\n",
    "    \n",
    "h1 = plt.hist(tstats,color='blue',alpha=.5,density=True)\n",
    "\n",
    "\n",
    "mu = 1000\n",
    "sigma = 500\n",
    "sample_size = 10\n",
    "\n",
    "tstats = []\n",
    "for trials in range(0,10000):\n",
    "    s1 = np.random.normal(mu, sigma, sample_size)\n",
    "    s2 = np.random.normal(mu, sigma, sample_size)\n",
    "    tstats.append(tstat(s1,s2))\n",
    "    \n",
    "h2 = plt.hist(tstats,color='red',alpha=.5,density=True)"
   ]
  },
  {
   "cell_type": "code",
   "execution_count": 25,
   "metadata": {},
   "outputs": [
    {
     "data": {
      "image/png": "[encoded data removed]",
      "text/plain": [
       "<Figure size 432x288 with 1 Axes>"
      ]
     },
     "metadata": {
      "needs_background": "light"
     },
     "output_type": "display_data"
    }
   ],
   "source": [
    "# now let's compare \n",
    "\n",
    "mu = 1000\n",
    "sigma = 500\n",
    "sample_size = 5\n",
    "\n",
    "tstats = []\n",
    "for trials in range(0,10000):\n",
    "    s1 = np.random.normal(mu, sigma, sample_size)\n",
    "    s2 = np.random.normal(mu, sigma, sample_size)\n",
    "    tstats.append(tstat(s1,s2))\n",
    "    \n",
    "h1 = plt.hist(tstats,color='blue',alpha=.5,density=True)\n",
    "\n",
    "\n",
    "mu = 1000\n",
    "sigma = 100\n",
    "sample_size = 5\n",
    "\n",
    "tstats = []\n",
    "for trials in range(0,10000):\n",
    "    s1 = np.random.normal(mu, sigma, sample_size)\n",
    "    s2 = np.random.normal(mu, sigma, sample_size)\n",
    "    tstats.append(tstat(s1,s2))\n",
    "    \n",
    "h2 = plt.hist(tstats,color='red',alpha=.5,density=True)"
   ]
  },
  {
   "cell_type": "code",
   "execution_count": 28,
   "metadata": {},
   "outputs": [],
   "source": [
    "# let's look at behavior of samples\n",
    "\n",
    "mu = 1000\n",
    "sigma = 500\n",
    "\n",
    "results = []\n",
    "\n",
    "for sample_size in range(5,100,5):\n",
    "    for trials in range(0,100):\n",
    "        s1 = np.random.normal(mu, sigma, sample_size)\n",
    "        s2 = np.random.normal(mu, sigma, sample_size)\n",
    "        sd = np.std(np.concatenate((s1,s2)))\n",
    "        ts = tstat(s1,s2)\n",
    "        results.append([sample_size,sd,ts])\n",
    "        \n",
    "results = np.array(results)"
   ]
  },
  {
   "cell_type": "code",
   "execution_count": 29,
   "metadata": {},
   "outputs": [
    {
     "data": {
      "text/plain": [
       "array([[ 5.00000000e+00,  6.26755217e+02, -1.65992404e+00],\n",
       "       [ 5.00000000e+00,  6.31070761e+02,  1.25158544e+00],\n",
       "       [ 5.00000000e+00,  5.76983972e+02,  4.45514387e+00],\n",
       "       ...,\n",
       "       [ 9.50000000e+01,  4.58027693e+02,  7.37857487e-01],\n",
       "       [ 9.50000000e+01,  4.88018018e+02, -8.85124371e-01],\n",
       "       [ 9.50000000e+01,  4.99710791e+02,  3.84403714e-02]])"
      ]
     },
     "execution_count": 29,
     "metadata": {},
     "output_type": "execute_result"
    }
   ],
   "source": [
    "results"
   ]
  },
  {
   "cell_type": "code",
   "execution_count": 30,
   "metadata": {
    "scrolled": false
   },
   "outputs": [
    {
     "data": {
      "text/plain": [
       "Text(0, 0.5, 'SD')"
      ]
     },
     "execution_count": 30,
     "metadata": {},
     "output_type": "execute_result"
    },
    {
     "data": {
      "image/png": "[encoded data removed]",
      "text/plain": [
       "<Figure size 432x288 with 1 Axes>"
      ]
     },
     "metadata": {
      "needs_background": "light"
     },
     "output_type": "display_data"
    }
   ],
   "source": [
    "plt.scatter(results[:,0],results[:,1],alpha=.1)\n",
    "plt.xlabel(\"Sample Size\")\n",
    "plt.ylabel(\"SD\")"
   ]
  },
  {
   "cell_type": "code",
   "execution_count": 31,
   "metadata": {},
   "outputs": [
    {
     "data": {
      "text/plain": [
       "Text(0, 0.5, 't-stat')"
      ]
     },
     "execution_count": 31,
     "metadata": {},
     "output_type": "execute_result"
    },
    {
     "data": {
      "image/png": "[encoded data removed]",
      "text/plain": [
       "<Figure size 432x288 with 1 Axes>"
      ]
     },
     "metadata": {
      "needs_background": "light"
     },
     "output_type": "display_data"
    }
   ],
   "source": [
    "plt.scatter(results[:,0],results[:,2],alpha=.1)\n",
    "plt.xlabel(\"Sample Size\")\n",
    "plt.ylabel(\"t-stat\")"
   ]
  },
  {
   "cell_type": "code",
   "execution_count": 32,
   "metadata": {},
   "outputs": [],
   "source": [
    "# let's look at behavior of samples\n",
    "\n",
    "mu = 1000\n",
    "sample_size = 5\n",
    "\n",
    "results = []\n",
    "\n",
    "for sigma in range(100,1000,100):\n",
    "    for trials in range(0,100):\n",
    "        s1 = np.random.normal(mu, sigma, sample_size)\n",
    "        s2 = np.random.normal(mu, sigma, sample_size)\n",
    "        sd = np.std(np.concatenate((s1,s2)))\n",
    "        ts = tstat(s1,s2)\n",
    "        results.append([sigma,sd,ts])\n",
    "        \n",
    "results = np.array(results)"
   ]
  },
  {
   "cell_type": "code",
   "execution_count": 35,
   "metadata": {},
   "outputs": [
    {
     "data": {
      "text/plain": [
       "Text(0, 0.5, 'SD')"
      ]
     },
     "execution_count": 35,
     "metadata": {},
     "output_type": "execute_result"
    },
    {
     "data": {
      "image/png": "[encoded data removed]",
      "text/plain": [
       "<Figure size 432x288 with 1 Axes>"
      ]
     },
     "metadata": {
      "needs_background": "light"
     },
     "output_type": "display_data"
    }
   ],
   "source": [
    "plt.scatter(results[:,0],results[:,1],alpha=.1)\n",
    "plt.xlabel(\"Sigma\")\n",
    "plt.ylabel(\"SD\")"
   ]
  },
  {
   "cell_type": "code",
   "execution_count": 36,
   "metadata": {},
   "outputs": [
    {
     "data": {
      "text/plain": [
       "Text(0, 0.5, 't-stat')"
      ]
     },
     "execution_count": 36,
     "metadata": {},
     "output_type": "execute_result"
    },
    {
     "data": {
      "image/png": "[encoded data removed]",
      "text/plain": [
       "<Figure size 432x288 with 1 Axes>"
      ]
     },
     "metadata": {
      "needs_background": "light"
     },
     "output_type": "display_data"
    }
   ],
   "source": [
    "plt.scatter(results[:,0],results[:,2],alpha=.1)\n",
    "plt.xlabel(\"Sigma\")\n",
    "plt.ylabel(\"t-stat\")"
   ]
  },
  {
   "cell_type": "code",
   "execution_count": null,
   "metadata": {},
   "outputs": [],
   "source": []
  },
  {
   "cell_type": "code",
   "execution_count": 46,
   "metadata": {},
   "outputs": [
    {
     "data": {
      "text/plain": [
       "Text(0, 0.5, 'Number of Genes\\nCalled Differentially Expressed')"
      ]
     },
     "execution_count": 46,
     "metadata": {},
     "output_type": "execute_result"
    },
    {
     "data": {
      "image/png": "[encoded data removed]",
      "text/plain": [
       "<Figure size 432x288 with 1 Axes>"
      ]
     },
     "metadata": {
      "needs_background": "light"
     },
     "output_type": "display_data"
    }
   ],
   "source": [
    "results = []\n",
    "\n",
    "for sample_size in np.arange(5,49):\n",
    "    for reps in np.arange(0,25):\n",
    "        \n",
    "        sam = {}\n",
    "        \n",
    "        sam['wt']  = list(np.random.choice(exps['wt'],sample_size,replace=False))\n",
    "        sam['mut'] = list(np.random.choice(exps['mut'],sample_size,replace=False))\n",
    "        sam['all'] = sam['wt'] + sam['mut']\n",
    "        \n",
    "        de = ye['abs_true_de'].replace(np.inf,np.nan).replace(-np.inf,np.nan).values\n",
    "        tt = scipy.stats.ttest_ind(ye[sam['wt']],ye[sam['mut']], axis=1, equal_var=False).pvalue\n",
    "        results.append([sample_size,len(tt[tt < .01 / 7000]),np.mean(de[tt<.01/7000])])\n",
    "        \n",
    "tt = pd.DataFrame(data=results,columns=['sample_size','N','de'])\n",
    "\n",
    "\n",
    "plt.scatter(tt.sample_size,tt.N, s= 2)\n",
    "plt.xlabel('Sample Size')\n",
    "plt.ylabel('Number of Genes\\nCalled Differentially Expressed')"
   ]
  },
  {
   "cell_type": "code",
   "execution_count": 47,
   "metadata": {
    "scrolled": true
   },
   "outputs": [
    {
     "data": {
      "text/plain": [
       "Text(0, 0.5, 'Number of Genes\\nCalled Differentially Expressed')"
      ]
     },
     "execution_count": 47,
     "metadata": {},
     "output_type": "execute_result"
    },
    {
     "data": {
      "image/png": "[encoded data removed]",
      "text/plain": [
       "<Figure size 432x288 with 1 Axes>"
      ]
     },
     "metadata": {
      "needs_background": "light"
     },
     "output_type": "display_data"
    }
   ],
   "source": [
    "plt.scatter(tt.sample_size,tt.de, s= 2)\n",
    "plt.xlabel('Sample Size')\n",
    "plt.ylabel('Number of Genes\\nCalled Differentially Expressed')"
   ]
  },
  {
   "cell_type": "code",
   "execution_count": 45,
   "metadata": {},
   "outputs": [
    {
     "data": {
      "text/html": [
       "<div>\n",
       "<style scoped>\n",
       "    .dataframe tbody tr th:only-of-type {\n",
       "        vertical-align: middle;\n",
       "    }\n",
       "\n",
       "    .dataframe tbody tr th {\n",
       "        vertical-align: top;\n",
       "    }\n",
       "\n",
       "    .dataframe thead th {\n",
       "        text-align: right;\n",
       "    }\n",
       "</style>\n",
       "<table border=\"1\" class=\"dataframe\">\n",
       "  <thead>\n",
       "    <tr style=\"text-align: right;\">\n",
       "      <th></th>\n",
       "      <th>sample_size</th>\n",
       "      <th>N</th>\n",
       "      <th>de</th>\n",
       "    </tr>\n",
       "  </thead>\n",
       "  <tbody>\n",
       "    <tr>\n",
       "      <th>0</th>\n",
       "      <td>5</td>\n",
       "      <td>12</td>\n",
       "      <td>1.211115</td>\n",
       "    </tr>\n",
       "    <tr>\n",
       "      <th>1</th>\n",
       "      <td>5</td>\n",
       "      <td>17</td>\n",
       "      <td>1.404675</td>\n",
       "    </tr>\n",
       "    <tr>\n",
       "      <th>2</th>\n",
       "      <td>5</td>\n",
       "      <td>36</td>\n",
       "      <td>1.503775</td>\n",
       "    </tr>\n",
       "    <tr>\n",
       "      <th>3</th>\n",
       "      <td>5</td>\n",
       "      <td>26</td>\n",
       "      <td>1.471549</td>\n",
       "    </tr>\n",
       "    <tr>\n",
       "      <th>4</th>\n",
       "      <td>5</td>\n",
       "      <td>8</td>\n",
       "      <td>1.446122</td>\n",
       "    </tr>\n",
       "    <tr>\n",
       "      <th>...</th>\n",
       "      <td>...</td>\n",
       "      <td>...</td>\n",
       "      <td>...</td>\n",
       "    </tr>\n",
       "    <tr>\n",
       "      <th>1095</th>\n",
       "      <td>48</td>\n",
       "      <td>2838</td>\n",
       "      <td>inf</td>\n",
       "    </tr>\n",
       "    <tr>\n",
       "      <th>1096</th>\n",
       "      <td>48</td>\n",
       "      <td>2838</td>\n",
       "      <td>inf</td>\n",
       "    </tr>\n",
       "    <tr>\n",
       "      <th>1097</th>\n",
       "      <td>48</td>\n",
       "      <td>2838</td>\n",
       "      <td>inf</td>\n",
       "    </tr>\n",
       "    <tr>\n",
       "      <th>1098</th>\n",
       "      <td>48</td>\n",
       "      <td>2838</td>\n",
       "      <td>inf</td>\n",
       "    </tr>\n",
       "    <tr>\n",
       "      <th>1099</th>\n",
       "      <td>48</td>\n",
       "      <td>2838</td>\n",
       "      <td>inf</td>\n",
       "    </tr>\n",
       "  </tbody>\n",
       "</table>\n",
       "<p>1100 rows × 3 columns</p>\n",
       "</div>"
      ],
      "text/plain": [
       "      sample_size     N        de\n",
       "0               5    12  1.211115\n",
       "1               5    17  1.404675\n",
       "2               5    36  1.503775\n",
       "3               5    26  1.471549\n",
       "4               5     8  1.446122\n",
       "...           ...   ...       ...\n",
       "1095           48  2838       inf\n",
       "1096           48  2838       inf\n",
       "1097           48  2838       inf\n",
       "1098           48  2838       inf\n",
       "1099           48  2838       inf\n",
       "\n",
       "[1100 rows x 3 columns]"
      ]
     },
     "execution_count": 45,
     "metadata": {},
     "output_type": "execute_result"
    }
   ],
   "source": [
    "tt"
   ]
  },
  {
   "cell_type": "code",
   "execution_count": null,
   "metadata": {},
   "outputs": [],
   "source": []
  },
  {
   "cell_type": "code",
   "execution_count": 38,
   "metadata": {},
   "outputs": [
    {
     "data": {
      "text/plain": [
       "array([ 5,  8, 11, 14, 17, 20, 23, 26, 29, 32, 35, 38, 41, 44, 47])"
      ]
     },
     "execution_count": 38,
     "metadata": {},
     "output_type": "execute_result"
    }
   ],
   "source": [
    "np.arange(5,48,3)"
   ]
  },
  {
   "cell_type": "code",
   "execution_count": 39,
   "metadata": {},
   "outputs": [
    {
     "data": {
      "text/plain": [
       "array([   0.        ,   22.72727273,   45.45454545,   68.18181818,\n",
       "         90.90909091,  113.63636364,  136.36363636,  159.09090909,\n",
       "        181.81818182,  204.54545455,  227.27272727,  250.        ,\n",
       "        272.72727273,  295.45454545,  318.18181818,  340.90909091,\n",
       "        363.63636364,  386.36363636,  409.09090909,  431.81818182,\n",
       "        454.54545455,  477.27272727,  500.        ,  522.72727273,\n",
       "        545.45454545,  568.18181818,  590.90909091,  613.63636364,\n",
       "        636.36363636,  659.09090909,  681.81818182,  704.54545455,\n",
       "        727.27272727,  750.        ,  772.72727273,  795.45454545,\n",
       "        818.18181818,  840.90909091,  863.63636364,  886.36363636,\n",
       "        909.09090909,  931.81818182,  954.54545455,  977.27272727,\n",
       "       1000.        ])"
      ]
     },
     "execution_count": 39,
     "metadata": {},
     "output_type": "execute_result"
    }
   ],
   "source": [
    "np.linspace(0,1000,45)"
   ]
  },
  {
   "cell_type": "code",
   "execution_count": null,
   "metadata": {},
   "outputs": [],
   "source": []
  },
  {
   "cell_type": "markdown",
   "metadata": {},
   "source": [
    "## What happens if we know the variance?\n",
    "\n",
    "If we know the variance in advance, we don't have to use a t-statistic. We can instead use some simple facts about normal distributions.  \n",
    "\n",
    "First, if we have a normal distribution with mean $\\mu$ and standard deviation $\\sigma$ and we repeatedly sample $n$ times from the distribution, the distribution of sample means is a normal distribution with mean $\\mu$ and standard deviation $\\sigma\\over{\\sqrt{n}}$."
   ]
  },
  {
   "cell_type": "code",
   "execution_count": null,
   "metadata": {},
   "outputs": [],
   "source": [
    "mu = 1000\n",
    "sigma = 500\n",
    "\n",
    "for sample_size in range(3,20):\n",
    "    means = []\n",
    "    for trials in range(0,10000):\n",
    "        s = np.random.normal(mu, sigma, sample_size)\n",
    "        means.append(np.mean(s))\n",
    "    \n",
    "    print (\"%d %d %d %d\" %(sample_size,np.mean(means),np.std(means),sigma/np.sqrt(sample_size)))"
   ]
  },
  {
   "cell_type": "markdown",
   "metadata": {},
   "source": [
    "What about the difference of means of two samples drawn from same distribution with mean $\\mu$ and standard deviation $\\sigma$? The distribution of means of the samples have is a normal distribution with mean $\\mu$ and standard deviation $\\sigma\\over{\\sqrt{n}}$, and the difference between two samples drawn from this distribution will have mean of 0 and stadard deviation of $\\sigma\\sqrt{2\\over{n}}$."
   ]
  },
  {
   "cell_type": "code",
   "execution_count": null,
   "metadata": {},
   "outputs": [],
   "source": [
    "mu = 1000\n",
    "sigma = 500\n",
    "\n",
    "for sample_size in range(3,20):\n",
    "    meandiff = []\n",
    "    for trials in range(0,10000):\n",
    "        s1 = np.random.normal(mu, sigma, sample_size)\n",
    "        s2 = np.random.normal(mu, sigma, sample_size)\n",
    "        meandiff.append(np.mean(s1)-np.mean(s2))\n",
    "    \n",
    "    print (\"%d %d %d %d\" %(sample_size,np.mean(meandiff),np.std(meandiff),sigma*np.sqrt(2/sample_size)))"
   ]
  },
  {
   "cell_type": "code",
   "execution_count": null,
   "metadata": {},
   "outputs": [],
   "source": [
    "mu = 1000\n",
    "sigma = 500\n",
    "sample_size = 3\n",
    "mean_mu = 0\n",
    "mean_sigma = sigma * np.sqrt(2/sample_size)\n",
    "\n",
    "meandist = scipy.stats.norm(loc=mean_mu,scale=mean_sigma)"
   ]
  },
  {
   "cell_type": "code",
   "execution_count": null,
   "metadata": {},
   "outputs": [],
   "source": [
    "mu = 1000\n",
    "sigma = 500\n",
    "sample_size = 3\n",
    "\n",
    "p = []\n",
    "\n",
    "for trials in range(0,10000):\n",
    "    s1 = np.random.normal(mu, sigma, sample_size)\n",
    "    s2 = np.random.normal(mu, sigma, sample_size)\n",
    "    p.append(meandist.cdf(np.mean(s1)-np.mean(s2)))"
   ]
  },
  {
   "cell_type": "code",
   "execution_count": null,
   "metadata": {},
   "outputs": [],
   "source": [
    "gene1_mu = 1000\n",
    "gene1_sigma = 500\n",
    "\n",
    "gene2_mu = 500\n",
    "gene2_sigma = 500\n",
    "\n",
    "sample_size = 3\n",
    "\n",
    "mean_diffs = []\n",
    "\n",
    "for trials in range(0,10000):\n",
    "    s1 = np.random.normal(gene1_mu, gene1_sigma, sample_size)\n",
    "    s2 = np.random.normal(gene2_mu, gene2_sigma, sample_size)\n",
    "    mean_diffs.append(np.mean(s1) - np.mean(s2))\n",
    "    \n",
    "plt.hist(mean_diffs)"
   ]
  },
  {
   "cell_type": "code",
   "execution_count": null,
   "metadata": {},
   "outputs": [],
   "source": [
    "gene1_mu = 1000\n",
    "gene1_sigma = 500\n",
    "\n",
    "gene2_mu = 500\n",
    "gene2_sigma = 500\n",
    "\n",
    "sample_size = 10\n",
    "\n",
    "mean_mu = 0\n",
    "mean_sigma = sigma * np.sqrt(2/sample_size)\n",
    "\n",
    "meandiffs_exp = scipy.stats.norm(loc=mean_mu,scale=mean_sigma)\n",
    "\n",
    "meandiffs = []\n",
    "meandiffs_p = []\n",
    "\n",
    "for trials in range(0,10000):\n",
    "    s1 = np.random.normal(gene1_mu, gene1_sigma, sample_size)\n",
    "    s2 = np.random.normal(gene2_mu, gene2_sigma, sample_size)\n",
    "    meandiff = np.mean(s2) - np.mean(s1)\n",
    "    meandiffs.append(meandiff)\n",
    "    meandiffs_p.append(meandiffs_exp.cdf(meandiff))\n",
    "    \n",
    "meandiffs = np.array(meandiffs)\n",
    "meandiffs_p = np.array(meandiffs_p)\n",
    "\n",
    "\n"
   ]
  },
  {
   "cell_type": "code",
   "execution_count": null,
   "metadata": {},
   "outputs": [],
   "source": [
    "h = plt.hist(meandiffs)"
   ]
  },
  {
   "cell_type": "code",
   "execution_count": null,
   "metadata": {
    "scrolled": false
   },
   "outputs": [],
   "source": [
    "h = plt.hist(meandiffs_p)"
   ]
  },
  {
   "cell_type": "code",
   "execution_count": null,
   "metadata": {},
   "outputs": [],
   "source": [
    "plt.scatter(meandiffs,meandiffs_p)\n",
    "plt.yscale('log')"
   ]
  },
  {
   "cell_type": "code",
   "execution_count": null,
   "metadata": {},
   "outputs": [],
   "source": [
    "x = meandiffs[meandiffs_p < .001]\n",
    "plt.hist(x)"
   ]
  },
  {
   "cell_type": "code",
   "execution_count": null,
   "metadata": {},
   "outputs": [],
   "source": [
    "# so how often would we call real differential expression differential expression?\n",
    "\n",
    "for pcut in [.01,.001,.0001]:\n",
    "    print (\"%f %.2f\" % (pcut, len(meandiffs_p[meandiffs_p < pcut]) / len(meandiffs)))"
   ]
  },
  {
   "cell_type": "code",
   "execution_count": null,
   "metadata": {},
   "outputs": [],
   "source": [
    "gene1_mu = 1000\n",
    "gene1_sigma = 500\n",
    "\n",
    "gene2_mu = 500\n",
    "gene2_sigma = 500\n",
    "\n",
    "pcut = .01 / 6000\n",
    "\n",
    "for sample_size in [3,5,10,20,50,100]:\n",
    "    mean_mu = 0\n",
    "    mean_sigma = sigma * np.sqrt(2/sample_size)\n",
    "\n",
    "    meandiffs_exp = scipy.stats.norm(loc=mean_mu,scale=mean_sigma)\n",
    "\n",
    "    meandiffs = []\n",
    "    meandiffs_p = []\n",
    "\n",
    "    for trials in range(0,10000):\n",
    "        s1 = np.random.normal(gene1_mu, gene1_sigma, sample_size)\n",
    "        s2 = np.random.normal(gene2_mu, gene2_sigma, sample_size)\n",
    "        meandiff = np.mean(s2) - np.mean(s1)\n",
    "        meandiffs.append(meandiff)\n",
    "        meandiffs_p.append(meandiffs_exp.cdf(meandiff))\n",
    "\n",
    "    meandiffs_p = np.array(meandiffs_p)\n",
    "    diffcalls = len(meandiffs_p[meandiffs_p < pcut])\n",
    "    diffcall_frac = len(meandiffs_p[meandiffs_p < pcut]) / len(meandiffs_p)\n",
    "    print (\"%d %.2f\" % (sample_size,diffcall_frac))\n"
   ]
  },
  {
   "cell_type": "code",
   "execution_count": null,
   "metadata": {},
   "outputs": [],
   "source": [
    "# now back to real data ...."
   ]
  },
  {
   "cell_type": "code",
   "execution_count": null,
   "metadata": {},
   "outputs": [],
   "source": [
    "ye['wt_varinf'] = ye['wt_mean'].apply(lambda x: var_from_mean(x))"
   ]
  },
  {
   "cell_type": "code",
   "execution_count": null,
   "metadata": {},
   "outputs": [],
   "source": [
    "plt.scatter(ye['wt_mean'],ye['wt_var'],s=1,c='black',alpha=.1)\n",
    "plt.scatter(ye['wt_mean'],ye['wt_varinf'],s=1,c='red')\n",
    "plt.xscale('log')\n",
    "plt.yscale('log')\n",
    "plt.xlim(1,)\n",
    "plt.ylim(1,)\n"
   ]
  },
  {
   "cell_type": "code",
   "execution_count": null,
   "metadata": {},
   "outputs": [],
   "source": [
    "def call_diffe(s1,s2,sigma):\n",
    "    m1 = np.mean(s1)\n",
    "    m2 = np.mean(s2)\n",
    "    mean_diff = m2 - m1\n",
    "    mean_sigma = sigma * np.sqrt(2/len(s1))\n",
    "    mean_diff_null = scipy.stats.norm(loc=m1,scale=mean_sigma)\n",
    "    raw_p = mean_diff_null.cdf(mean_diff)\n",
    "    p = np.min([2*raw_p,2*(1-raw_p)])\n",
    "    return p"
   ]
  },
  {
   "cell_type": "code",
   "execution_count": null,
   "metadata": {
    "scrolled": true
   },
   "outputs": [],
   "source": [
    "ye['pdiff'] = ye.apply(lambda x: call_diffe(x[exps['wt']],x[exps['mut']],np.sqrt(x['wt_varinf'])),axis=1)"
   ]
  },
  {
   "cell_type": "code",
   "execution_count": null,
   "metadata": {},
   "outputs": [],
   "source": [
    "df = ye.copy()\n",
    "\n",
    "for c in exps['all']:\n",
    "    df[c] = np.log2(df[c]/df['wt_mean'])\n",
    "\n",
    "mut_ind = []\n",
    "mut = []\n",
    "wt_ind = [] \n",
    "wt = []\n",
    "\n",
    "row = 0\n",
    "for i,r in df.sort_values('pdiff').head(200).iterrows():\n",
    "    for c in exps['mut']:\n",
    "        mut_ind.append(row+1)\n",
    "        mut.append(r[c])\n",
    "    for c in exps['wt']:\n",
    "        wt_ind.append(row+1)\n",
    "        wt.append(r[c])\n",
    "    row = row + 1\n",
    "        \n",
    "fig = plt.figure(figsize = (10,.1*max(wt_ind)))\n",
    "ax = fig.add_subplot(1,1,1)\n",
    "\n",
    "ax.set_ylim(max(wt_ind + mut_ind),0)\n",
    "ax.set_xlim(-10,10)\n",
    "ax.set_xlabel(\"expression level\")\n",
    "ax.set_ylabel(\"gene - sorted by mut/wt\")\n",
    "ax.scatter(wt,wt_ind,s=12,alpha=.25,c='r',edgecolor='none')\n",
    "ax.scatter(mut,mut_ind,s=12,alpha=.25,c='b',edgecolor='none')"
   ]
  },
  {
   "cell_type": "code",
   "execution_count": null,
   "metadata": {},
   "outputs": [],
   "source": [
    "sample_size = 3\n",
    "\n",
    "sample = {}\n",
    "sample['wt'] = list(np.random.choice(exps['wt'],sample_size))\n",
    "sample['mut'] = list(np.random.choice(exps['mut'],sample_size))\n",
    "sample['all'] = sample['wt'] + sample['mut']\n",
    "ye_ss = ye[sample['all']].copy()\n",
    "\n",
    "for cycles in range(0,10):\n",
    "    ye_ss['all_gmean']  = gmean(ye_ss[sample['all']].replace(0,np.nan).values,axis=1)\n",
    "    \n",
    "    df = ye_ss[ye_ss['all_gmean'] > 10]\n",
    "\n",
    "    for c in sample['all']:\n",
    "        norm = np.median(df[c]/df['all_gmean'])\n",
    "        ye_ss[c] = ye_ss[c] / norm\n",
    "        \n",
    "# computer row stats\n",
    "\n",
    "for d in ['all','wt','mut']:\n",
    "    ye_ss[d + '_mean']   = ye_ss[sample[d]].mean(axis=1)\n",
    "    ye_ss[d + '_median'] = ye_ss[sample[d]].median(axis=1)\n",
    "    ye_ss[d + '_var']    = ye_ss[sample[d]].var(axis=1)\n",
    "    ye_ss[d + '_std']    = ye_ss[sample[d]].std(axis=1)\n",
    "    ye_ss[d + '_gmean']  = gmean(ye_ss[sample[d]].replace(0,np.nan).values,axis=1)\n",
    "    \n",
    "ye_ss['wt_varinf'] = ye_ss['wt_mean'].apply(lambda x: var_from_mean(x))\n",
    "ye_ss['pdiff'] = ye_ss.apply(lambda x: call_diffe(x[sample['wt']],x[sample['mut']],np.sqrt(x['wt_varinf'])),axis=1)"
   ]
  },
  {
   "cell_type": "code",
   "execution_count": null,
   "metadata": {
    "scrolled": false
   },
   "outputs": [],
   "source": [
    "df = ye_ss.copy()\n",
    "\n",
    "for c in sample['all']:\n",
    "    df[c] = np.log2(df[c]/df['wt_mean'])\n",
    "\n",
    "mut_ind = []\n",
    "mut = []\n",
    "wt_ind = [] \n",
    "wt = []\n",
    "\n",
    "row = 0\n",
    "for i,r in df.sort_values('pdiff').head(200).iterrows():\n",
    "    for c in sample['mut']:\n",
    "        mut_ind.append(row+1)\n",
    "        mut.append(r[c])\n",
    "    for c in sample['wt']:\n",
    "        wt_ind.append(row+1)\n",
    "        wt.append(r[c])\n",
    "    row = row + 1\n",
    "        \n",
    "fig = plt.figure(figsize = (10,.1*max(wt_ind)))\n",
    "ax = fig.add_subplot(1,1,1)\n",
    "\n",
    "ax.set_ylim(max(wt_ind + mut_ind),0)\n",
    "ax.set_xlim(-10,10)\n",
    "ax.set_xlabel(\"expression level\")\n",
    "ax.set_ylabel(\"gene - sorted by mut/wt\")\n",
    "ax.scatter(wt,wt_ind,s=12,alpha=1,c='r',edgecolor='none')\n",
    "ax.scatter(mut,mut_ind,s=12,alpha=1,c='b',edgecolor='none')"
   ]
  },
  {
   "cell_type": "code",
   "execution_count": null,
   "metadata": {},
   "outputs": [],
   "source": [
    "sample_size = 3\n",
    "\n",
    "sample = {}\n",
    "ss = list(np.random.choice(exps['wt'],2*sample_size,replace=False))\n",
    "sample['wt'] = ss[0:sample_size]\n",
    "sample['mut'] = ss[sample_size:]\n",
    "sample['all'] = sample['wt'] + sample['mut']\n",
    "ye_ss = ye[sample['all']].copy()\n",
    "\n",
    "for cycles in range(0,10):\n",
    "    ye_ss['all_gmean']  = gmean(ye_ss[sample['all']].replace(0,np.nan).values,axis=1)\n",
    "    \n",
    "    df = ye_ss[ye_ss['all_gmean'] > 10]\n",
    "\n",
    "    for c in sample['all']:\n",
    "        norm = np.median(df[c]/df['all_gmean'])\n",
    "        ye_ss[c] = ye_ss[c] / norm\n",
    "        \n",
    "# computer row stats\n",
    "\n",
    "for d in ['all','wt','mut']:\n",
    "    ye_ss[d + '_mean']   = ye_ss[sample[d]].mean(axis=1)\n",
    "    ye_ss[d + '_median'] = ye_ss[sample[d]].median(axis=1)\n",
    "    ye_ss[d + '_var']    = ye_ss[sample[d]].var(axis=1)\n",
    "    ye_ss[d + '_std']    = ye_ss[sample[d]].std(axis=1)\n",
    "    ye_ss[d + '_gmean']  = gmean(ye_ss[sample[d]].replace(0,np.nan).values,axis=1)\n",
    "    \n",
    "ye_ss['wt_varinf'] = ye_ss['wt_mean'].apply(lambda x: var_from_mean(x))\n",
    "ye_ss['pdiff'] = ye_ss.apply(lambda x: call_diffe(x[sample['wt']],x[sample['mut']],np.sqrt(x['wt_varinf'])),axis=1)"
   ]
  },
  {
   "cell_type": "code",
   "execution_count": null,
   "metadata": {},
   "outputs": [],
   "source": [
    "df = ye_ss.copy()\n",
    "\n",
    "for c in sample['all']:\n",
    "    df[c] = np.log2(df[c]/df['wt_mean'])\n",
    "\n",
    "mut_ind = []\n",
    "mut = []\n",
    "wt_ind = [] \n",
    "wt = []\n",
    "\n",
    "row = 0\n",
    "for i,r in df[df.pdiff < .01/6000].sort_values('pdiff').head(200).iterrows():\n",
    "    for c in sample['mut']:\n",
    "        mut_ind.append(row+1)\n",
    "        mut.append(r[c])\n",
    "    for c in sample['wt']:\n",
    "        wt_ind.append(row+1)\n",
    "        wt.append(r[c])\n",
    "    row = row + 1\n",
    "        \n",
    "fig = plt.figure(figsize = (10,.1*max(wt_ind)))\n",
    "ax = fig.add_subplot(1,1,1)\n",
    "\n",
    "ax.set_ylim(max(wt_ind + mut_ind),0)\n",
    "ax.set_xlim(-10,10)\n",
    "ax.set_xlabel(\"expression level\")\n",
    "ax.set_ylabel(\"gene - sorted by mut/wt\")\n",
    "ax.scatter(wt,wt_ind,s=12,alpha=1,c='r',edgecolor='none')\n",
    "ax.scatter(mut,mut_ind,s=12,alpha=1,c='b',edgecolor='none')"
   ]
  },
  {
   "cell_type": "code",
   "execution_count": null,
   "metadata": {},
   "outputs": [],
   "source": []
  }
 ],
 "metadata": {
  "anaconda-cloud": {},
  "kernelspec": {
   "display_name": "Python 3",
   "language": "python",
   "name": "python3"
  },
  "language_info": {
   "codemirror_mode": {
    "name": "ipython",
    "version": 3
   },
   "file_extension": ".py",
   "mimetype": "text/x-python",
   "name": "python",
   "nbconvert_exporter": "python",
   "pygments_lexer": "ipython3",
   "version": "3.6.10"
  }
 },
 "nbformat": 4,
 "nbformat_minor": 1
}
